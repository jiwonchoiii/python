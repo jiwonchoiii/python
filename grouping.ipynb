{
 "cells": [
  {
   "cell_type": "markdown",
   "id": "ff655b6b",
   "metadata": {},
   "source": [
    "### 데이터프레임의 grouping"
   ]
  },
  {
   "cell_type": "code",
   "execution_count": 5,
   "id": "b83d8439",
   "metadata": {},
   "outputs": [],
   "source": [
    "from inspect import signature as sig\n",
    "from pprint import pprint as pp\n",
    "\n",
    "import pandas as pd"
   ]
  },
  {
   "cell_type": "code",
   "execution_count": 6,
   "id": "96da1fe2",
   "metadata": {},
   "outputs": [],
   "source": [
    "df_movies = pd.read_csv(\"data/movies.csv\")"
   ]
  },
  {
   "cell_type": "code",
   "execution_count": 6,
   "id": "9fdf7dee",
   "metadata": {},
   "outputs": [],
   "source": [
    "df_credits = pd.read_csv(\"data/credits.csv\")"
   ]
  },
  {
   "cell_type": "code",
   "execution_count": 9,
   "id": "1b5ab165",
   "metadata": {},
   "outputs": [
    {
     "data": {
      "text/plain": [
       "Index(['budget', 'genres', 'homepage', 'id', 'keywords', 'original_language',\n",
       "       'original_title', 'overview', 'popularity', 'production_companies',\n",
       "       'production_countries', 'release_date', 'revenue', 'runtime',\n",
       "       'spoken_languages', 'status', 'tagline', 'title', 'vote_average',\n",
       "       'vote_count'],\n",
       "      dtype='object')"
      ]
     },
     "execution_count": 9,
     "metadata": {},
     "output_type": "execute_result"
    }
   ],
   "source": [
    "df_movies.columns"
   ]
  },
  {
   "cell_type": "code",
   "execution_count": 10,
   "id": "6a496303",
   "metadata": {},
   "outputs": [
    {
     "data": {
      "text/plain": [
       "<pandas.core.groupby.generic.DataFrameGroupBy object at 0x0000025C7C99C6D0>"
      ]
     },
     "execution_count": 10,
     "metadata": {},
     "output_type": "execute_result"
    }
   ],
   "source": [
    "df_movies.groupby('production_countries')"
   ]
  },
  {
   "cell_type": "code",
   "execution_count": 20,
   "id": "04a4789c",
   "metadata": {},
   "outputs": [],
   "source": [
    "g_pc = df_movies.groupby('production_countries')"
   ]
  },
  {
   "cell_type": "code",
   "execution_count": 21,
   "id": "b71d6194",
   "metadata": {},
   "outputs": [
    {
     "data": {
      "text/plain": [
       "<pandas.core.groupby.generic.SeriesGroupBy object at 0x0000025C050EB460>"
      ]
     },
     "execution_count": 21,
     "metadata": {},
     "output_type": "execute_result"
    }
   ],
   "source": [
    "g_pc['production_countries']"
   ]
  },
  {
   "cell_type": "code",
   "execution_count": 22,
   "id": "f7252703",
   "metadata": {},
   "outputs": [
    {
     "data": {
      "text/plain": [
       "<pandas.core.groupby.generic.SeriesGroupBy object at 0x0000025C050EB9D0>"
      ]
     },
     "execution_count": 22,
     "metadata": {},
     "output_type": "execute_result"
    }
   ],
   "source": [
    "g_pc['release_date']"
   ]
  },
  {
   "cell_type": "code",
   "execution_count": 26,
   "id": "d96b1dc8",
   "metadata": {},
   "outputs": [],
   "source": [
    "pd.set_option('display.max_colwidth',100)"
   ]
  },
  {
   "cell_type": "code",
   "execution_count": 41,
   "id": "5a5defdb",
   "metadata": {},
   "outputs": [],
   "source": [
    "# pd.DataFrame(g_pc[['release_date','genres']])  # 정상적인 결과가 나오지 않음 "
   ]
  },
  {
   "cell_type": "code",
   "execution_count": 1,
   "id": "48bd12f8",
   "metadata": {
    "scrolled": true
   },
   "outputs": [
    {
     "ename": "NameError",
     "evalue": "name 'df_movies' is not defined",
     "output_type": "error",
     "traceback": [
      "\u001b[1;31m---------------------------------------------------------------------------\u001b[0m",
      "\u001b[1;31mNameError\u001b[0m                                 Traceback (most recent call last)",
      "\u001b[1;32m~\\AppData\\Local\\Temp/ipykernel_7364/2893619386.py\u001b[0m in \u001b[0;36m<module>\u001b[1;34m\u001b[0m\n\u001b[1;32m----> 1\u001b[1;33m \u001b[0mfrMovie\u001b[0m \u001b[1;33m=\u001b[0m \u001b[0mlist\u001b[0m\u001b[1;33m(\u001b[0m\u001b[0mdf_movies\u001b[0m\u001b[1;33m.\u001b[0m\u001b[0mgroupby\u001b[0m\u001b[1;33m(\u001b[0m\u001b[1;34m'production_countries'\u001b[0m\u001b[1;33m)\u001b[0m\u001b[1;33m.\u001b[0m\u001b[0mgroups\u001b[0m\u001b[1;33m[\u001b[0m\u001b[1;34m'France'\u001b[0m\u001b[1;33m]\u001b[0m\u001b[1;33m)\u001b[0m\u001b[1;33m\u001b[0m\u001b[1;33m\u001b[0m\u001b[0m\n\u001b[0m",
      "\u001b[1;31mNameError\u001b[0m: name 'df_movies' is not defined"
     ]
    }
   ],
   "source": [
    "frMovie = list(df_movies.groupby('production_countries').groups['France'])"
   ]
  },
  {
   "cell_type": "code",
   "execution_count": 2,
   "id": "17dcdbed",
   "metadata": {
    "scrolled": true
   },
   "outputs": [
    {
     "ename": "NameError",
     "evalue": "name 'df_movies' is not defined",
     "output_type": "error",
     "traceback": [
      "\u001b[1;31m---------------------------------------------------------------------------\u001b[0m",
      "\u001b[1;31mNameError\u001b[0m                                 Traceback (most recent call last)",
      "\u001b[1;32m~\\AppData\\Local\\Temp/ipykernel_7364/925794104.py\u001b[0m in \u001b[0;36m<module>\u001b[1;34m\u001b[0m\n\u001b[1;32m----> 1\u001b[1;33m \u001b[0mdf_movies\u001b[0m\u001b[1;33m.\u001b[0m\u001b[0mloc\u001b[0m\u001b[1;33m[\u001b[0m\u001b[0mfrMovie\u001b[0m\u001b[1;33m]\u001b[0m\u001b[1;33m\u001b[0m\u001b[1;33m\u001b[0m\u001b[0m\n\u001b[0m",
      "\u001b[1;31mNameError\u001b[0m: name 'df_movies' is not defined"
     ]
    }
   ],
   "source": [
    "df_movies.loc[frMovie]"
   ]
  },
  {
   "cell_type": "code",
   "execution_count": 48,
   "id": "379785f7",
   "metadata": {},
   "outputs": [],
   "source": [
    "enMovie = list(df_movies.groupby('original_language').groups['en'])"
   ]
  },
  {
   "cell_type": "code",
   "execution_count": 68,
   "id": "b0b0f72b",
   "metadata": {
    "scrolled": true
   },
   "outputs": [
    {
     "data": {
      "text/plain": [
       "Int64Index([   0,    1,    2,    3,    4,    5,    6,    7,    8,    9,\n",
       "            ...\n",
       "            4791, 4793, 4794, 4795, 4796, 4797, 4799, 4800, 4801, 4802],\n",
       "           dtype='int64', length=4505)"
      ]
     },
     "execution_count": 68,
     "metadata": {},
     "output_type": "execute_result"
    }
   ],
   "source": [
    "df_movies.groupby('original_language').groups['en']"
   ]
  },
  {
   "cell_type": "code",
   "execution_count": 70,
   "id": "a29adad1",
   "metadata": {
    "scrolled": true
   },
   "outputs": [
    {
     "data": {
      "text/html": [
       "<div>\n",
       "<style scoped>\n",
       "    .dataframe tbody tr th:only-of-type {\n",
       "        vertical-align: middle;\n",
       "    }\n",
       "\n",
       "    .dataframe tbody tr th {\n",
       "        vertical-align: top;\n",
       "    }\n",
       "\n",
       "    .dataframe thead th {\n",
       "        text-align: right;\n",
       "    }\n",
       "</style>\n",
       "<table border=\"1\" class=\"dataframe\">\n",
       "  <thead>\n",
       "    <tr style=\"text-align: right;\">\n",
       "      <th></th>\n",
       "      <th>popularity</th>\n",
       "      <th>budget</th>\n",
       "    </tr>\n",
       "    <tr>\n",
       "      <th>original_language</th>\n",
       "      <th></th>\n",
       "      <th></th>\n",
       "    </tr>\n",
       "  </thead>\n",
       "  <tbody>\n",
       "    <tr>\n",
       "      <th>af</th>\n",
       "      <td>2.504169</td>\n",
       "      <td>3.000000e+06</td>\n",
       "    </tr>\n",
       "    <tr>\n",
       "      <th>ar</th>\n",
       "      <td>4.723389</td>\n",
       "      <td>0.000000e+00</td>\n",
       "    </tr>\n",
       "    <tr>\n",
       "      <th>cn</th>\n",
       "      <td>10.631343</td>\n",
       "      <td>1.072641e+07</td>\n",
       "    </tr>\n",
       "    <tr>\n",
       "      <th>cs</th>\n",
       "      <td>1.286849</td>\n",
       "      <td>0.000000e+00</td>\n",
       "    </tr>\n",
       "    <tr>\n",
       "      <th>da</th>\n",
       "      <td>17.663925</td>\n",
       "      <td>9.742857e+06</td>\n",
       "    </tr>\n",
       "    <tr>\n",
       "      <th>de</th>\n",
       "      <td>10.151382</td>\n",
       "      <td>8.616354e+06</td>\n",
       "    </tr>\n",
       "    <tr>\n",
       "      <th>el</th>\n",
       "      <td>28.858238</td>\n",
       "      <td>0.000000e+00</td>\n",
       "    </tr>\n",
       "    <tr>\n",
       "      <th>en</th>\n",
       "      <td>22.177435</td>\n",
       "      <td>3.039436e+07</td>\n",
       "    </tr>\n",
       "    <tr>\n",
       "      <th>es</th>\n",
       "      <td>13.330804</td>\n",
       "      <td>5.847683e+06</td>\n",
       "    </tr>\n",
       "    <tr>\n",
       "      <th>fa</th>\n",
       "      <td>5.664415</td>\n",
       "      <td>2.450000e+05</td>\n",
       "    </tr>\n",
       "    <tr>\n",
       "      <th>fr</th>\n",
       "      <td>10.299542</td>\n",
       "      <td>8.480997e+06</td>\n",
       "    </tr>\n",
       "    <tr>\n",
       "      <th>he</th>\n",
       "      <td>5.364953</td>\n",
       "      <td>6.666667e+05</td>\n",
       "    </tr>\n",
       "    <tr>\n",
       "      <th>hi</th>\n",
       "      <td>2.994144</td>\n",
       "      <td>1.715789e+06</td>\n",
       "    </tr>\n",
       "    <tr>\n",
       "      <th>hu</th>\n",
       "      <td>1.906807</td>\n",
       "      <td>0.000000e+00</td>\n",
       "    </tr>\n",
       "    <tr>\n",
       "      <th>id</th>\n",
       "      <td>24.586253</td>\n",
       "      <td>1.050000e+06</td>\n",
       "    </tr>\n",
       "    <tr>\n",
       "      <th>is</th>\n",
       "      <td>1.617943</td>\n",
       "      <td>1.000000e+01</td>\n",
       "    </tr>\n",
       "    <tr>\n",
       "      <th>it</th>\n",
       "      <td>17.818268</td>\n",
       "      <td>2.967859e+06</td>\n",
       "    </tr>\n",
       "    <tr>\n",
       "      <th>ja</th>\n",
       "      <td>25.663788</td>\n",
       "      <td>1.429361e+07</td>\n",
       "    </tr>\n",
       "    <tr>\n",
       "      <th>ko</th>\n",
       "      <td>19.488720</td>\n",
       "      <td>1.429091e+07</td>\n",
       "    </tr>\n",
       "    <tr>\n",
       "      <th>ky</th>\n",
       "      <td>0.077873</td>\n",
       "      <td>0.000000e+00</td>\n",
       "    </tr>\n",
       "    <tr>\n",
       "      <th>nb</th>\n",
       "      <td>12.982319</td>\n",
       "      <td>3.500000e+06</td>\n",
       "    </tr>\n",
       "    <tr>\n",
       "      <th>nl</th>\n",
       "      <td>4.768979</td>\n",
       "      <td>7.375000e+06</td>\n",
       "    </tr>\n",
       "    <tr>\n",
       "      <th>no</th>\n",
       "      <td>11.205726</td>\n",
       "      <td>8.000000e+05</td>\n",
       "    </tr>\n",
       "    <tr>\n",
       "      <th>pl</th>\n",
       "      <td>13.265432</td>\n",
       "      <td>2.159280e+06</td>\n",
       "    </tr>\n",
       "    <tr>\n",
       "      <th>ps</th>\n",
       "      <td>1.447734</td>\n",
       "      <td>4.600000e+04</td>\n",
       "    </tr>\n",
       "    <tr>\n",
       "      <th>pt</th>\n",
       "      <td>11.309857</td>\n",
       "      <td>1.133333e+06</td>\n",
       "    </tr>\n",
       "    <tr>\n",
       "      <th>ro</th>\n",
       "      <td>4.798877</td>\n",
       "      <td>4.262550e+05</td>\n",
       "    </tr>\n",
       "    <tr>\n",
       "      <th>ru</th>\n",
       "      <td>7.567724</td>\n",
       "      <td>1.397273e+07</td>\n",
       "    </tr>\n",
       "    <tr>\n",
       "      <th>sl</th>\n",
       "      <td>0.061248</td>\n",
       "      <td>0.000000e+00</td>\n",
       "    </tr>\n",
       "    <tr>\n",
       "      <th>sv</th>\n",
       "      <td>7.347336</td>\n",
       "      <td>5.000000e+06</td>\n",
       "    </tr>\n",
       "    <tr>\n",
       "      <th>ta</th>\n",
       "      <td>0.368283</td>\n",
       "      <td>0.000000e+00</td>\n",
       "    </tr>\n",
       "    <tr>\n",
       "      <th>te</th>\n",
       "      <td>16.254032</td>\n",
       "      <td>4.000000e+07</td>\n",
       "    </tr>\n",
       "    <tr>\n",
       "      <th>th</th>\n",
       "      <td>7.230292</td>\n",
       "      <td>4.833333e+06</td>\n",
       "    </tr>\n",
       "    <tr>\n",
       "      <th>tr</th>\n",
       "      <td>1.465762</td>\n",
       "      <td>1.000000e+07</td>\n",
       "    </tr>\n",
       "    <tr>\n",
       "      <th>vi</th>\n",
       "      <td>0.072066</td>\n",
       "      <td>1.300000e+06</td>\n",
       "    </tr>\n",
       "    <tr>\n",
       "      <th>xx</th>\n",
       "      <td>6.537986</td>\n",
       "      <td>1.200000e+07</td>\n",
       "    </tr>\n",
       "    <tr>\n",
       "      <th>zh</th>\n",
       "      <td>8.996167</td>\n",
       "      <td>2.202560e+07</td>\n",
       "    </tr>\n",
       "  </tbody>\n",
       "</table>\n",
       "</div>"
      ],
      "text/plain": [
       "                   popularity        budget\n",
       "original_language                          \n",
       "af                   2.504169  3.000000e+06\n",
       "ar                   4.723389  0.000000e+00\n",
       "cn                  10.631343  1.072641e+07\n",
       "cs                   1.286849  0.000000e+00\n",
       "da                  17.663925  9.742857e+06\n",
       "de                  10.151382  8.616354e+06\n",
       "el                  28.858238  0.000000e+00\n",
       "en                  22.177435  3.039436e+07\n",
       "es                  13.330804  5.847683e+06\n",
       "fa                   5.664415  2.450000e+05\n",
       "fr                  10.299542  8.480997e+06\n",
       "he                   5.364953  6.666667e+05\n",
       "hi                   2.994144  1.715789e+06\n",
       "hu                   1.906807  0.000000e+00\n",
       "id                  24.586253  1.050000e+06\n",
       "is                   1.617943  1.000000e+01\n",
       "it                  17.818268  2.967859e+06\n",
       "ja                  25.663788  1.429361e+07\n",
       "ko                  19.488720  1.429091e+07\n",
       "ky                   0.077873  0.000000e+00\n",
       "nb                  12.982319  3.500000e+06\n",
       "nl                   4.768979  7.375000e+06\n",
       "no                  11.205726  8.000000e+05\n",
       "pl                  13.265432  2.159280e+06\n",
       "ps                   1.447734  4.600000e+04\n",
       "pt                  11.309857  1.133333e+06\n",
       "ro                   4.798877  4.262550e+05\n",
       "ru                   7.567724  1.397273e+07\n",
       "sl                   0.061248  0.000000e+00\n",
       "sv                   7.347336  5.000000e+06\n",
       "ta                   0.368283  0.000000e+00\n",
       "te                  16.254032  4.000000e+07\n",
       "th                   7.230292  4.833333e+06\n",
       "tr                   1.465762  1.000000e+07\n",
       "vi                   0.072066  1.300000e+06\n",
       "xx                   6.537986  1.200000e+07\n",
       "zh                   8.996167  2.202560e+07"
      ]
     },
     "execution_count": 70,
     "metadata": {},
     "output_type": "execute_result"
    }
   ],
   "source": [
    "# 언어별 평균 인기도, 제작비 (기술통계)\n",
    "df_movies.groupby('original_language')[['popularity','budget']].mean()    # 통계학에서 평균은 mean이라고 한다.   "
   ]
  },
  {
   "cell_type": "code",
   "execution_count": 84,
   "id": "1e1ed53b",
   "metadata": {
    "scrolled": true
   },
   "outputs": [
    {
     "data": {
      "text/plain": [
       "0       [{\"iso_3166_1\": \"US\", \"name\": \"United States of America\"}, {\"iso_3166_1\": \"GB\", \"name\": \"United ...\n",
       "1                                                [{\"iso_3166_1\": \"US\", \"name\": \"United States of America\"}]\n",
       "2       [{\"iso_3166_1\": \"GB\", \"name\": \"United Kingdom\"}, {\"iso_3166_1\": \"US\", \"name\": \"United States of ...\n",
       "3                                                [{\"iso_3166_1\": \"US\", \"name\": \"United States of America\"}]\n",
       "4                                                [{\"iso_3166_1\": \"US\", \"name\": \"United States of America\"}]\n",
       "                                                       ...                                                 \n",
       "4798     [{\"iso_3166_1\": \"MX\", \"name\": \"Mexico\"}, {\"iso_3166_1\": \"US\", \"name\": \"United States of America\"}]\n",
       "4799                                                                                                     []\n",
       "4800                                             [{\"iso_3166_1\": \"US\", \"name\": \"United States of America\"}]\n",
       "4801      [{\"iso_3166_1\": \"US\", \"name\": \"United States of America\"}, {\"iso_3166_1\": \"CN\", \"name\": \"China\"}]\n",
       "4802                                             [{\"iso_3166_1\": \"US\", \"name\": \"United States of America\"}]\n",
       "Name: production_countries, Length: 4803, dtype: object"
      ]
     },
     "execution_count": 84,
     "metadata": {},
     "output_type": "execute_result"
    }
   ],
   "source": [
    "df_movies.production_countries"
   ]
  },
  {
   "cell_type": "code",
   "execution_count": 58,
   "id": "78a9f6de",
   "metadata": {},
   "outputs": [],
   "source": [
    "# pd.to_datetime(df_movies['release_date']) \n",
    "df_movies['release_date'] = pd.to_datetime(df_movies['release_date'])  # 데이터프레임에 반영이 된다. "
   ]
  },
  {
   "cell_type": "code",
   "execution_count": 21,
   "id": "d9d18151",
   "metadata": {},
   "outputs": [
    {
     "data": {
      "text/plain": [
       "<AxesSubplot:xlabel='original_language'>"
      ]
     },
     "execution_count": 21,
     "metadata": {},
     "output_type": "execute_result"
    },
    {
     "data": {
      "image/png": "[encoded data removed]",
      "text/plain": [
       "<Figure size 432x288 with 1 Axes>"
      ]
     },
     "metadata": {
      "needs_background": "light"
     },
     "output_type": "display_data"
    }
   ],
   "source": [
    "df_movies.groupby('original_language')['popularity'].mean().plot.bar()"
   ]
  },
  {
   "cell_type": "code",
   "execution_count": null,
   "id": "d06ffa71",
   "metadata": {},
   "outputs": [],
   "source": []
  }
 ],
 "metadata": {
  "kernelspec": {
   "display_name": "Python 3 (ipykernel)",
   "language": "python",
   "name": "python3"
  },
  "language_info": {
   "codemirror_mode": {
    "name": "ipython",
    "version": 3
   },
   "file_extension": ".py",
   "mimetype": "text/x-python",
   "name": "python",
   "nbconvert_exporter": "python",
   "pygments_lexer": "ipython3",
   "version": "3.9.6"
  }
 },
 "nbformat": 4,
 "nbformat_minor": 5
}
