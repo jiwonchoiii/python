{
 "metadata": {
  "language_info": {
   "codemirror_mode": {
    "name": "ipython",
    "version": 3
   },
   "file_extension": ".py",
   "mimetype": "text/x-python",
   "name": "python",
   "nbconvert_exporter": "python",
   "pygments_lexer": "ipython3",
   "version": "3.9.6"
  },
  "orig_nbformat": 4,
  "kernelspec": {
   "name": "python3",
   "display_name": "Python 3.9.6 64-bit"
  },
  "interpreter": {
   "hash": "3cd125b786fe1cb74e0a9d583961863df833b79d2954e371e6e3b4d49e7bb98c"
  }
 },
 "nbformat": 4,
 "nbformat_minor": 2,
 "cells": [
  {
   "cell_type": "code",
   "execution_count": 6,
   "metadata": {},
   "outputs": [
    {
     "output_type": "stream",
     "name": "stdout",
     "text": [
      "1000\n100\n"
     ]
    },
    {
     "output_type": "error",
     "ename": "NameError",
     "evalue": "name 'b' is not defined",
     "traceback": [
      "\u001b[1;31m---------------------------------------------------------------------------\u001b[0m",
      "\u001b[1;31mNameError\u001b[0m                                 Traceback (most recent call last)",
      "\u001b[1;32m~\\AppData\\Local\\Temp/ipykernel_12320/1079762809.py\u001b[0m in \u001b[0;36m<module>\u001b[1;34m\u001b[0m\n\u001b[0;32m     12\u001b[0m \u001b[1;33m\u001b[0m\u001b[0m\n\u001b[0;32m     13\u001b[0m \u001b[0mprint\u001b[0m\u001b[1;33m(\u001b[0m\u001b[0ma\u001b[0m\u001b[1;33m)\u001b[0m\u001b[1;33m\u001b[0m\u001b[1;33m\u001b[0m\u001b[0m\n\u001b[1;32m---> 14\u001b[1;33m \u001b[0mprint\u001b[0m\u001b[1;33m(\u001b[0m\u001b[0mb\u001b[0m\u001b[1;33m)\u001b[0m\u001b[1;33m\u001b[0m\u001b[1;33m\u001b[0m\u001b[0m\n\u001b[0m\u001b[0;32m     15\u001b[0m \u001b[0mprint\u001b[0m\u001b[1;33m(\u001b[0m\u001b[0mc\u001b[0m\u001b[1;33m)\u001b[0m\u001b[1;33m\u001b[0m\u001b[1;33m\u001b[0m\u001b[0m\n",
      "\u001b[1;31mNameError\u001b[0m: name 'b' is not defined"
     ]
    }
   ],
   "source": [
    "#변수의 종류와 유효범위(scope)에 대해 알아보자\n",
    "\n",
    "# 함수의 매개변수와 함수블록 내에서 선언된 변수는 그 유효범위가 함수블록 내에서만 윻하다. 매개변수와 지역변수는 함수가 호출될 때 생성되고, 함수호출이 끝나면 자동으로 파괴된다. \n",
    "a = 100\n",
    "\n",
    "def func(parg): # 매개변수도 지역변수로 '간주'한다.\n",
    "    b = 1000\n",
    "    print(b)\n",
    "\n",
    "    pass # func\n",
    "\n",
    "func(7777)\n",
    "\n",
    "print(a)\n",
    "print(b)\n",
    "print(c)"
   ]
  },
  {
   "cell_type": "code",
   "execution_count": 48,
   "metadata": {},
   "outputs": [
    {
     "output_type": "stream",
     "name": "stdout",
     "text": [
      ">>>> hasMoney : True\n88888\nnumber:4, d:9999\ntrinity23\nname outside function:trinity23\n7\n"
     ]
    }
   ],
   "source": [
    "hasMoney = True\n",
    "\n",
    "if(hasMoney):   # 연산의 우선순위를 위해서 소괄호를 사용함. \n",
    "    print('>>>> hasMoney :', hasMoney)\n",
    "    c=88888\n",
    "\n",
    "    pass # if\n",
    "\n",
    "print(c) # 전역변수\n",
    "\n",
    "#####################################\n",
    "for number in range(5):\n",
    "    # print(number)\n",
    "    d = 9999\n",
    "    pass # for\n",
    "\n",
    "print(f'number:{number}, d:{d}') # 둘다 전역변수\n",
    "\n",
    "\n",
    "\n",
    "# --------------------------------------------------\n",
    "# global 키워드에 대해 알아보자\n",
    "\n",
    "name = 'jiwon'\n",
    "def vartest():\n",
    "    global name   \n",
    "    name = 'trinity'\n",
    "    name += '23'\n",
    " \n",
    "    print(name) \n",
    "\n",
    "    pass # vartest\n",
    "\n",
    "vartest(\n",
    "\n",
    "print('name outside function:%s' % name))\n",
    "\n",
    "# lambda\n",
    "\n",
    "add = lambda a,b: a+b   # return 키워드 없음 \n",
    "result = add(3,4)\n",
    "print(result)\n",
    "\n",
    "\n"
   ]
  },
  {
   "cell_type": "code",
   "execution_count": null,
   "metadata": {},
   "outputs": [],
   "source": []
  }
 ]
}