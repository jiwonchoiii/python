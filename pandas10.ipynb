{
 "cells": [
  {
   "cell_type": "code",
   "execution_count": 6,
   "id": "d35bbae3",
   "metadata": {},
   "outputs": [],
   "source": [
    "from pprint import pprint as pp\n",
    "from inspect import signature as sig\n",
    "from inspect import getmro\n",
    "\n",
    "import pandas as pd\n",
    "import seaborn as sns"
   ]
  },
  {
   "cell_type": "code",
   "execution_count": 7,
   "id": "76d55608",
   "metadata": {},
   "outputs": [
    {
     "data": {
      "text/html": [
       "<div>\n",
       "<style scoped>\n",
       "    .dataframe tbody tr th:only-of-type {\n",
       "        vertical-align: middle;\n",
       "    }\n",
       "\n",
       "    .dataframe tbody tr th {\n",
       "        vertical-align: top;\n",
       "    }\n",
       "\n",
       "    .dataframe thead th {\n",
       "        text-align: right;\n",
       "    }\n",
       "</style>\n",
       "<table border=\"1\" class=\"dataframe\">\n",
       "  <thead>\n",
       "    <tr style=\"text-align: right;\">\n",
       "      <th></th>\n",
       "      <th>total_bill</th>\n",
       "      <th>tip</th>\n",
       "      <th>sex</th>\n",
       "      <th>smoker</th>\n",
       "      <th>day</th>\n",
       "      <th>time</th>\n",
       "      <th>size</th>\n",
       "    </tr>\n",
       "  </thead>\n",
       "  <tbody>\n",
       "    <tr>\n",
       "      <th>0</th>\n",
       "      <td>16.99</td>\n",
       "      <td>1.01</td>\n",
       "      <td>Female</td>\n",
       "      <td>No</td>\n",
       "      <td>Sun</td>\n",
       "      <td>Dinner</td>\n",
       "      <td>2</td>\n",
       "    </tr>\n",
       "    <tr>\n",
       "      <th>1</th>\n",
       "      <td>10.34</td>\n",
       "      <td>1.66</td>\n",
       "      <td>Male</td>\n",
       "      <td>No</td>\n",
       "      <td>Sun</td>\n",
       "      <td>Dinner</td>\n",
       "      <td>3</td>\n",
       "    </tr>\n",
       "    <tr>\n",
       "      <th>2</th>\n",
       "      <td>21.01</td>\n",
       "      <td>3.50</td>\n",
       "      <td>Male</td>\n",
       "      <td>No</td>\n",
       "      <td>Sun</td>\n",
       "      <td>Dinner</td>\n",
       "      <td>3</td>\n",
       "    </tr>\n",
       "    <tr>\n",
       "      <th>3</th>\n",
       "      <td>23.68</td>\n",
       "      <td>3.31</td>\n",
       "      <td>Male</td>\n",
       "      <td>No</td>\n",
       "      <td>Sun</td>\n",
       "      <td>Dinner</td>\n",
       "      <td>2</td>\n",
       "    </tr>\n",
       "    <tr>\n",
       "      <th>4</th>\n",
       "      <td>24.59</td>\n",
       "      <td>3.61</td>\n",
       "      <td>Female</td>\n",
       "      <td>No</td>\n",
       "      <td>Sun</td>\n",
       "      <td>Dinner</td>\n",
       "      <td>4</td>\n",
       "    </tr>\n",
       "  </tbody>\n",
       "</table>\n",
       "</div>"
      ],
      "text/plain": [
       "   total_bill   tip     sex smoker  day    time  size\n",
       "0       16.99  1.01  Female     No  Sun  Dinner     2\n",
       "1       10.34  1.66    Male     No  Sun  Dinner     3\n",
       "2       21.01  3.50    Male     No  Sun  Dinner     3\n",
       "3       23.68  3.31    Male     No  Sun  Dinner     2\n",
       "4       24.59  3.61  Female     No  Sun  Dinner     4"
      ]
     },
     "execution_count": 7,
     "metadata": {},
     "output_type": "execute_result"
    }
   ],
   "source": [
    "df_tips = sns.load_dataset('tips')\n",
    "\n",
    "df_tips.head()"
   ]
  },
  {
   "cell_type": "code",
   "execution_count": 8,
   "id": "3c562be9",
   "metadata": {
    "scrolled": false
   },
   "outputs": [
    {
     "name": "stdout",
     "output_type": "stream",
     "text": [
      "['T', '_AXIS_LEN', '_AXIS_ORDERS', '_AXIS_REVERSED', '_AXIS_TO_AXIS_NUMBER',\n",
      " '_HANDLED_TYPES', '__abs__', '__add__', '__and__', '__annotations__',\n",
      " '__array__', '__array_priority__', '__array_ufunc__', '__array_wrap__',\n",
      " '__bool__', '__class__', '__contains__', '__copy__', '__deepcopy__',\n",
      " '__delattr__', '__delitem__', '__dict__', '__dir__', '__divmod__', '__doc__',\n",
      " '__eq__', '__finalize__', '__floordiv__', '__format__', '__ge__',\n",
      " '__getattr__', '__getattribute__', '__getitem__', '__getstate__', '__gt__',\n",
      " '__hash__', '__iadd__', '__iand__', '__ifloordiv__', '__imod__', '__imul__',\n",
      " '__init__', '__init_subclass__', '__invert__', '__ior__', '__ipow__',\n",
      " '__isub__', '__iter__', '__itruediv__', '__ixor__', '__le__', '__len__',\n",
      " '__lt__', '__matmul__', '__mod__', '__module__', '__mul__', '__ne__',\n",
      " '__neg__', '__new__', '__nonzero__', '__or__', '__pos__', '__pow__',\n",
      " '__radd__', '__rand__', '__rdivmod__', '__reduce__', '__reduce_ex__',\n",
      " '__repr__', '__rfloordiv__', '__rmatmul__', '__rmod__', '__rmul__', '__ror__',\n",
      " '__round__', '__rpow__', '__rsub__', '__rtruediv__', '__rxor__', '__setattr__',\n",
      " '__setitem__', '__setstate__', '__sizeof__', '__str__', '__sub__',\n",
      " '__subclasshook__', '__truediv__', '__weakref__', '__xor__', '_accessors',\n",
      " '_accum_func', '_add_numeric_operations', '_agg_by_level', '_agg_examples_doc',\n",
      " '_agg_summary_and_see_also_doc', '_align_frame', '_align_series',\n",
      " '_arith_method', '_as_manager', '_attrs', '_box_col_values',\n",
      " '_can_fast_transpose', '_check_inplace_and_allows_duplicate_labels',\n",
      " '_check_inplace_setting', '_check_is_chained_assignment_possible',\n",
      " '_check_label_or_level_ambiguity', '_check_setitem_copy', '_clear_item_cache',\n",
      " '_clip_with_one_bound', '_clip_with_scalar', '_cmp_method', '_combine_frame',\n",
      " '_consolidate', '_consolidate_inplace', '_construct_axes_dict',\n",
      " '_construct_axes_from_arguments', '_construct_result', '_constructor',\n",
      " '_constructor_sliced', '_convert', '_count_level', '_data', '_dir_additions',\n",
      " '_dir_deletions', '_dispatch_frame_op', '_drop_axis', '_drop_labels_or_levels',\n",
      " '_ensure_valid_index', '_find_valid_index', '_flags', '_from_arrays',\n",
      " '_from_mgr', '_get_agg_axis', '_get_axis', '_get_axis_name',\n",
      " '_get_axis_number', '_get_axis_resolvers', '_get_block_manager_axis',\n",
      " '_get_bool_data', '_get_cleaned_column_resolvers', '_get_column_array',\n",
      " '_get_index_resolvers', '_get_item_cache', '_get_label_or_level_values',\n",
      " '_get_numeric_data', '_get_value', '_getitem_bool_array',\n",
      " '_getitem_multilevel', '_gotitem', '_hidden_attrs', '_indexed_same',\n",
      " '_info_axis', '_info_axis_name', '_info_axis_number', '_info_repr',\n",
      " '_init_mgr', '_inplace_method', '_internal_names', '_internal_names_set',\n",
      " '_is_copy', '_is_homogeneous_type', '_is_label_or_level_reference',\n",
      " '_is_label_reference', '_is_level_reference', '_is_mixed_type', '_is_view',\n",
      " '_iset_item', '_iset_item_mgr', '_iset_not_inplace', '_item_cache',\n",
      " '_iter_column_arrays', '_ixs', '_join_compat', '_logical_func',\n",
      " '_logical_method', '_maybe_cache_changed', '_maybe_update_cacher', '_metadata',\n",
      " '_mgr', '_min_count_stat_function', '_needs_reindex_multi',\n",
      " '_protect_consolidate', '_reduce', '_reindex_axes', '_reindex_columns',\n",
      " '_reindex_index', '_reindex_multi', '_reindex_with_indexers',\n",
      " '_replace_columnwise', '_repr_data_resource_', '_repr_fits_horizontal_',\n",
      " '_repr_fits_vertical_', '_repr_html_', '_repr_latex_', '_reset_cache',\n",
      " '_reset_cacher', '_sanitize_column', '_series', '_set_axis', '_set_axis_name',\n",
      " '_set_axis_nocheck', '_set_is_copy', '_set_item', '_set_item_frame_value',\n",
      " '_set_item_mgr', '_set_value', '_setitem_array', '_setitem_frame',\n",
      " '_setitem_slice', '_slice', '_stat_axis', '_stat_axis_name',\n",
      " '_stat_axis_number', '_stat_function', '_stat_function_ddof',\n",
      " '_take_with_is_copy', '_to_dict_of_blocks', '_typ', '_update_inplace',\n",
      " '_validate_dtype', '_values', '_where', 'abs', 'add', 'add_prefix',\n",
      " 'add_suffix', 'agg', 'aggregate', 'align', 'all', 'any', 'append', 'apply',\n",
      " 'applymap', 'asfreq', 'asof', 'assign', 'astype', 'at', 'at_time', 'attrs',\n",
      " 'axes', 'backfill', 'between_time', 'bfill', 'bool', 'boxplot', 'clip',\n",
      " 'columns', 'combine', 'combine_first', 'compare', 'convert_dtypes', 'copy',\n",
      " 'corr', 'corrwith', 'count', 'cov', 'cummax', 'cummin', 'cumprod', 'cumsum',\n",
      " 'day', 'describe', 'diff', 'div', 'divide', 'dot', 'drop', 'drop_duplicates',\n",
      " 'droplevel', 'dropna', 'dtypes', 'duplicated', 'empty', 'eq', 'equals', 'eval',\n",
      " 'ewm', 'expanding', 'explode', 'ffill', 'fillna', 'filter', 'first',\n",
      " 'first_valid_index', 'flags', 'floordiv', 'from_dict', 'from_records', 'ge',\n",
      " 'get', 'groupby', 'gt', 'head', 'hist', 'iat', 'idxmax', 'idxmin', 'iloc',\n",
      " 'index', 'infer_objects', 'info', 'insert', 'interpolate', 'isin', 'isna',\n",
      " 'isnull', 'items', 'iteritems', 'iterrows', 'itertuples', 'join', 'keys',\n",
      " 'kurt', 'kurtosis', 'last', 'last_valid_index', 'le', 'loc', 'lookup', 'lt',\n",
      " 'mad', 'mask', 'max', 'mean', 'median', 'melt', 'memory_usage', 'merge', 'min',\n",
      " 'mod', 'mode', 'mul', 'multiply', 'ndim', 'ne', 'nlargest', 'notna', 'notnull',\n",
      " 'nsmallest', 'nunique', 'pad', 'pct_change', 'pipe', 'pivot', 'pivot_table',\n",
      " 'plot', 'pop', 'pow', 'prod', 'product', 'quantile', 'query', 'radd', 'rank',\n",
      " 'rdiv', 'reindex', 'reindex_like', 'rename', 'rename_axis', 'reorder_levels',\n",
      " 'replace', 'resample', 'reset_index', 'rfloordiv', 'rmod', 'rmul', 'rolling',\n",
      " 'round', 'rpow', 'rsub', 'rtruediv', 'sample', 'select_dtypes', 'sem',\n",
      " 'set_axis', 'set_flags', 'set_index', 'sex', 'shape', 'shift', 'size', 'skew',\n",
      " 'slice_shift', 'smoker', 'sort_index', 'sort_values', 'squeeze', 'stack',\n",
      " 'std', 'style', 'sub', 'subtract', 'sum', 'swapaxes', 'swaplevel', 'tail',\n",
      " 'take', 'time', 'tip', 'to_clipboard', 'to_csv', 'to_dict', 'to_excel',\n",
      " 'to_feather', 'to_gbq', 'to_hdf', 'to_html', 'to_json', 'to_latex',\n",
      " 'to_markdown', 'to_numpy', 'to_parquet', 'to_period', 'to_pickle',\n",
      " 'to_records', 'to_sql', 'to_stata', 'to_string', 'to_timestamp', 'to_xarray',\n",
      " 'to_xml', 'total_bill', 'transform', 'transpose', 'truediv', 'truncate',\n",
      " 'tz_convert', 'tz_localize', 'unstack', 'update', 'value_counts', 'values',\n",
      " 'var', 'where', 'xs']\n"
     ]
    }
   ],
   "source": [
    "pp( dir(df_tips), compact=True )"
   ]
  },
  {
   "cell_type": "code",
   "execution_count": 9,
   "id": "dee3ae49",
   "metadata": {},
   "outputs": [
    {
     "data": {
      "text/plain": [
       "0      16.99\n",
       "1      10.34\n",
       "2      21.01\n",
       "3      23.68\n",
       "4      24.59\n",
       "       ...  \n",
       "239    29.03\n",
       "240    27.18\n",
       "241    22.67\n",
       "242    17.82\n",
       "243    18.78\n",
       "Name: total_bill, Length: 244, dtype: float64"
      ]
     },
     "execution_count": 9,
     "metadata": {},
     "output_type": "execute_result"
    }
   ],
   "source": [
    "total_bill = df_tips.total_bill\n",
    "\n",
    "total_bill"
   ]
  },
  {
   "cell_type": "code",
   "execution_count": 12,
   "id": "da912b40",
   "metadata": {},
   "outputs": [
    {
     "data": {
      "text/plain": [
       "['__annotations__',\n",
       " '__call__',\n",
       " '__class__',\n",
       " '__delattr__',\n",
       " '__dict__',\n",
       " '__dir__',\n",
       " '__doc__',\n",
       " '__eq__',\n",
       " '__format__',\n",
       " '__ge__',\n",
       " '__getattribute__',\n",
       " '__gt__',\n",
       " '__hash__',\n",
       " '__init__',\n",
       " '__init_subclass__',\n",
       " '__le__',\n",
       " '__lt__',\n",
       " '__module__',\n",
       " '__ne__',\n",
       " '__new__',\n",
       " '__reduce__',\n",
       " '__reduce_ex__',\n",
       " '__repr__',\n",
       " '__setattr__',\n",
       " '__sizeof__',\n",
       " '__str__',\n",
       " '__subclasshook__',\n",
       " '__weakref__',\n",
       " '_accessors',\n",
       " '_all_kinds',\n",
       " '_common_kinds',\n",
       " '_constructor',\n",
       " '_dataframe_kinds',\n",
       " '_dir_additions',\n",
       " '_dir_deletions',\n",
       " '_get_call_args',\n",
       " '_hidden_attrs',\n",
       " '_kind_aliases',\n",
       " '_parent',\n",
       " '_reset_cache',\n",
       " '_series_kinds',\n",
       " 'area',\n",
       " 'bar',\n",
       " 'barh',\n",
       " 'box',\n",
       " 'density',\n",
       " 'hexbin',\n",
       " 'hist',\n",
       " 'kde',\n",
       " 'line',\n",
       " 'pie',\n",
       " 'scatter']"
      ]
     },
     "execution_count": 12,
     "metadata": {},
     "output_type": "execute_result"
    }
   ],
   "source": [
    "dir(total_bill.plot)"
   ]
  },
  {
   "cell_type": "code",
   "execution_count": 15,
   "id": "6cb225ea",
   "metadata": {},
   "outputs": [
    {
     "data": {
      "image/png": "[encoded data removed]",
      "text/plain": [
       "<Figure size 432x288 with 1 Axes>"
      ]
     },
     "metadata": {
      "needs_background": "light"
     },
     "output_type": "display_data"
    }
   ],
   "source": [
    "ax = total_bill.plot.hist(bins=40, color='red')\n",
    "\n",
    "# ax.set_title(..)\n",
    "# ax.set_xlabel(...)\n",
    "# ax.set_ylabel(...)"
   ]
  },
  {
   "cell_type": "code",
   "execution_count": 20,
   "id": "1a8a5cb8",
   "metadata": {},
   "outputs": [
    {
     "data": {
      "image/png": "[encoded data removed]",
      "text/plain": [
       "<Figure size 432x288 with 1 Axes>"
      ]
     },
     "metadata": {
      "needs_background": "light"
     },
     "output_type": "display_data"
    }
   ],
   "source": [
    "ax =  df_tips[ ['total_bill', 'tip'] ].plot.hist(bins=30)\n",
    "\n",
    "# ax.set_title..."
   ]
  },
  {
   "cell_type": "code",
   "execution_count": 21,
   "id": "b5802a95",
   "metadata": {},
   "outputs": [
    {
     "data": {
      "text/plain": [
       "(244,)"
      ]
     },
     "execution_count": 21,
     "metadata": {},
     "output_type": "execute_result"
    }
   ],
   "source": [
    "tip = df_tips.tip\n",
    "tip.shape"
   ]
  },
  {
   "cell_type": "code",
   "execution_count": 22,
   "id": "6c145ca0",
   "metadata": {},
   "outputs": [
    {
     "data": {
      "text/plain": [
       "<AxesSubplot:ylabel='Density'>"
      ]
     },
     "execution_count": 22,
     "metadata": {},
     "output_type": "execute_result"
    },
    {
     "data": {
      "image/png": "[encoded data removed]",
      "text/plain": [
       "<Figure size 432x288 with 1 Axes>"
      ]
     },
     "metadata": {
      "needs_background": "light"
     },
     "output_type": "display_data"
    }
   ],
   "source": [
    "tip.plot.kde()"
   ]
  },
  {
   "cell_type": "code",
   "execution_count": 28,
   "id": "5d327307",
   "metadata": {
    "scrolled": true
   },
   "outputs": [
    {
     "name": "stdout",
     "output_type": "stream",
     "text": [
      "Help on method scatter in module pandas.plotting._core:\n",
      "\n",
      "scatter(x, y, s=None, c=None, **kwargs) method of pandas.plotting._core.PlotAccessor instance\n",
      "    Create a scatter plot with varying marker point size and color.\n",
      "    \n",
      "    The coordinates of each point are defined by two dataframe columns and\n",
      "    filled circles are used to represent each point. This kind of plot is\n",
      "    useful to see complex correlations between two variables. Points could\n",
      "    be for instance natural 2D coordinates like longitude and latitude in\n",
      "    a map or, in general, any pair of metrics that can be plotted against\n",
      "    each other.\n",
      "    \n",
      "    Parameters\n",
      "    ----------\n",
      "    x : int or str\n",
      "        The column name or column position to be used as horizontal\n",
      "        coordinates for each point.\n",
      "    y : int or str\n",
      "        The column name or column position to be used as vertical\n",
      "        coordinates for each point.\n",
      "    s : str, scalar or array-like, optional\n",
      "        The size of each point. Possible values are:\n",
      "    \n",
      "        - A string with the name of the column to be used for marker's size.\n",
      "    \n",
      "        - A single scalar so all points have the same size.\n",
      "    \n",
      "        - A sequence of scalars, which will be used for each point's size\n",
      "          recursively. For instance, when passing [2,14] all points size\n",
      "          will be either 2 or 14, alternatively.\n",
      "    \n",
      "          .. versionchanged:: 1.1.0\n",
      "    \n",
      "    c : str, int or array-like, optional\n",
      "        The color of each point. Possible values are:\n",
      "    \n",
      "        - A single color string referred to by name, RGB or RGBA code,\n",
      "          for instance 'red' or '#a98d19'.\n",
      "    \n",
      "        - A sequence of color strings referred to by name, RGB or RGBA\n",
      "          code, which will be used for each point's color recursively. For\n",
      "          instance ['green','yellow'] all points will be filled in green or\n",
      "          yellow, alternatively.\n",
      "    \n",
      "        - A column name or position whose values will be used to color the\n",
      "          marker points according to a colormap.\n",
      "    \n",
      "    **kwargs\n",
      "        Keyword arguments to pass on to :meth:`DataFrame.plot`.\n",
      "    \n",
      "    Returns\n",
      "    -------\n",
      "    :class:`matplotlib.axes.Axes` or numpy.ndarray of them\n",
      "    \n",
      "    See Also\n",
      "    --------\n",
      "    matplotlib.pyplot.scatter : Scatter plot using multiple input data\n",
      "        formats.\n",
      "    \n",
      "    Examples\n",
      "    --------\n",
      "    Let's see how to draw a scatter plot using coordinates from the values\n",
      "    in a DataFrame's columns.\n",
      "    \n",
      "    .. plot::\n",
      "        :context: close-figs\n",
      "    \n",
      "        >>> df = pd.DataFrame([[5.1, 3.5, 0], [4.9, 3.0, 0], [7.0, 3.2, 1],\n",
      "        ...                    [6.4, 3.2, 1], [5.9, 3.0, 2]],\n",
      "        ...                   columns=['length', 'width', 'species'])\n",
      "        >>> ax1 = df.plot.scatter(x='length',\n",
      "        ...                       y='width',\n",
      "        ...                       c='DarkBlue')\n",
      "    \n",
      "    And now with the color determined by a column as well.\n",
      "    \n",
      "    .. plot::\n",
      "        :context: close-figs\n",
      "    \n",
      "        >>> ax2 = df.plot.scatter(x='length',\n",
      "        ...                       y='width',\n",
      "        ...                       c='species',\n",
      "        ...                       colormap='viridis')\n",
      "\n"
     ]
    }
   ],
   "source": [
    "help(df_tips.plot.scatter)"
   ]
  },
  {
   "cell_type": "code",
   "execution_count": 30,
   "id": "d4974bbe",
   "metadata": {},
   "outputs": [
    {
     "data": {
      "image/png": "[encoded data removed]",
      "text/plain": [
       "<Figure size 432x288 with 2 Axes>"
      ]
     },
     "metadata": {
      "needs_background": "light"
     },
     "output_type": "display_data"
    }
   ],
   "source": [
    "# ax = df_tips.plot.scatter(x='total_bill', y='tip', color='red')\n",
    "# ax = df_tips.plot.scatter(x='total_bill', y='tip', c='sex')\n",
    "ax = df_tips.plot.scatter(x='total_bill', y='tip', c='sex', colormap='Set1')"
   ]
  },
  {
   "cell_type": "code",
   "execution_count": 38,
   "id": "8193eb27",
   "metadata": {},
   "outputs": [
    {
     "data": {
      "image/png": "[encoded data removed]",
      "text/plain": [
       "<Figure size 432x288 with 2 Axes>"
      ]
     },
     "metadata": {
      "needs_background": "light"
     },
     "output_type": "display_data"
    }
   ],
   "source": [
    "# ax = df_tips.plot.hexbin(x='total_bill', y='tip')\n",
    "ax = df_tips.plot.hexbin(x='total_bill', y='tip', gridsize=20, C='tip', cmap='Set1')"
   ]
  },
  {
   "cell_type": "code",
   "execution_count": 37,
   "id": "46a2ee88",
   "metadata": {},
   "outputs": [
    {
     "data": {
      "text/html": [
       "<div>\n",
       "<style scoped>\n",
       "    .dataframe tbody tr th:only-of-type {\n",
       "        vertical-align: middle;\n",
       "    }\n",
       "\n",
       "    .dataframe tbody tr th {\n",
       "        vertical-align: top;\n",
       "    }\n",
       "\n",
       "    .dataframe thead th {\n",
       "        text-align: right;\n",
       "    }\n",
       "</style>\n",
       "<table border=\"1\" class=\"dataframe\">\n",
       "  <thead>\n",
       "    <tr style=\"text-align: right;\">\n",
       "      <th></th>\n",
       "      <th>total_bill</th>\n",
       "      <th>tip</th>\n",
       "      <th>sex</th>\n",
       "      <th>smoker</th>\n",
       "      <th>day</th>\n",
       "      <th>time</th>\n",
       "      <th>size</th>\n",
       "    </tr>\n",
       "  </thead>\n",
       "  <tbody>\n",
       "    <tr>\n",
       "      <th>0</th>\n",
       "      <td>16.99</td>\n",
       "      <td>1.01</td>\n",
       "      <td>Female</td>\n",
       "      <td>No</td>\n",
       "      <td>Sun</td>\n",
       "      <td>Dinner</td>\n",
       "      <td>2</td>\n",
       "    </tr>\n",
       "    <tr>\n",
       "      <th>1</th>\n",
       "      <td>10.34</td>\n",
       "      <td>1.66</td>\n",
       "      <td>Male</td>\n",
       "      <td>No</td>\n",
       "      <td>Sun</td>\n",
       "      <td>Dinner</td>\n",
       "      <td>3</td>\n",
       "    </tr>\n",
       "    <tr>\n",
       "      <th>2</th>\n",
       "      <td>21.01</td>\n",
       "      <td>3.50</td>\n",
       "      <td>Male</td>\n",
       "      <td>No</td>\n",
       "      <td>Sun</td>\n",
       "      <td>Dinner</td>\n",
       "      <td>3</td>\n",
       "    </tr>\n",
       "    <tr>\n",
       "      <th>3</th>\n",
       "      <td>23.68</td>\n",
       "      <td>3.31</td>\n",
       "      <td>Male</td>\n",
       "      <td>No</td>\n",
       "      <td>Sun</td>\n",
       "      <td>Dinner</td>\n",
       "      <td>2</td>\n",
       "    </tr>\n",
       "    <tr>\n",
       "      <th>4</th>\n",
       "      <td>24.59</td>\n",
       "      <td>3.61</td>\n",
       "      <td>Female</td>\n",
       "      <td>No</td>\n",
       "      <td>Sun</td>\n",
       "      <td>Dinner</td>\n",
       "      <td>4</td>\n",
       "    </tr>\n",
       "  </tbody>\n",
       "</table>\n",
       "</div>"
      ],
      "text/plain": [
       "   total_bill   tip     sex smoker  day    time  size\n",
       "0       16.99  1.01  Female     No  Sun  Dinner     2\n",
       "1       10.34  1.66    Male     No  Sun  Dinner     3\n",
       "2       21.01  3.50    Male     No  Sun  Dinner     3\n",
       "3       23.68  3.31    Male     No  Sun  Dinner     2\n",
       "4       24.59  3.61  Female     No  Sun  Dinner     4"
      ]
     },
     "execution_count": 37,
     "metadata": {},
     "output_type": "execute_result"
    }
   ],
   "source": [
    "df_tips.head()"
   ]
  },
  {
   "cell_type": "code",
   "execution_count": null,
   "id": "aeb71c89",
   "metadata": {},
   "outputs": [],
   "source": []
  }
 ],
 "metadata": {
  "kernelspec": {
   "display_name": "Python 3 (ipykernel)",
   "language": "python",
   "name": "python3"
  },
  "language_info": {
   "codemirror_mode": {
    "name": "ipython",
    "version": 3
   },
   "file_extension": ".py",
   "mimetype": "text/x-python",
   "name": "python",
   "nbconvert_exporter": "python",
   "pygments_lexer": "ipython3",
   "version": "3.9.6"
  }
 },
 "nbformat": 4,
 "nbformat_minor": 5
}
