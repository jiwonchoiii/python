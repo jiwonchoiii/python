{
 "metadata": {
  "language_info": {
   "codemirror_mode": {
    "name": "ipython",
    "version": 3
   },
   "file_extension": ".py",
   "mimetype": "text/x-python",
   "name": "python",
   "nbconvert_exporter": "python",
   "pygments_lexer": "ipython3",
   "version": "3.9.6"
  },
  "orig_nbformat": 4,
  "kernelspec": {
   "name": "python3",
   "display_name": "Python 3.9.6 64-bit"
  },
  "interpreter": {
   "hash": "3cd125b786fe1cb74e0a9d583961863df833b79d2954e371e6e3b4d49e7bb98c"
  }
 },
 "nbformat": 4,
 "nbformat_minor": 2,
 "cells": [
  {
   "cell_type": "code",
   "execution_count": 1,
   "metadata": {},
   "outputs": [
    {
     "output_type": "error",
     "ename": "ZeroDivisionError",
     "evalue": "division by zero",
     "traceback": [
      "\u001b[1;31m---------------------------------------------------------------------------\u001b[0m",
      "\u001b[1;31mZeroDivisionError\u001b[0m                         Traceback (most recent call last)",
      "\u001b[1;32m~\\AppData\\Local\\Temp/ipykernel_11368/1580332654.py\u001b[0m in \u001b[0;36m<module>\u001b[1;34m\u001b[0m\n\u001b[1;32m----> 1\u001b[1;33m \u001b[1;36m4\u001b[0m\u001b[1;33m/\u001b[0m\u001b[1;36m0\u001b[0m\u001b[1;33m\u001b[0m\u001b[1;33m\u001b[0m\u001b[0m\n\u001b[0m",
      "\u001b[1;31mZeroDivisionError\u001b[0m: division by zero"
     ]
    }
   ],
   "source": [
    "4/0"
   ]
  },
  {
   "cell_type": "code",
   "execution_count": 2,
   "metadata": {},
   "outputs": [
    {
     "output_type": "error",
     "ename": "SyntaxError",
     "evalue": "unexpected EOF while parsing (Temp/ipykernel_11368/2735508935.py, line 3)",
     "traceback": [
      "\u001b[1;36m  File \u001b[1;32m\"C:\\Users\\bitcamp\\AppData\\Local\\Temp/ipykernel_11368/2735508935.py\"\u001b[1;36m, line \u001b[1;32m3\u001b[0m\n\u001b[1;33m    pass # try\u001b[0m\n\u001b[1;37m              ^\u001b[0m\n\u001b[1;31mSyntaxError\u001b[0m\u001b[1;31m:\u001b[0m unexpected EOF while parsing\n"
     ]
    }
   ],
   "source": [
    "try:\n",
    "    4/0\n",
    "    pass # try  \n",
    "#try블록 단독 사용 불가"
   ]
  },
  {
   "cell_type": "code",
   "execution_count": 4,
   "metadata": {},
   "outputs": [
    {
     "output_type": "error",
     "ename": "ZeroDivisionError",
     "evalue": "division by zero",
     "traceback": [
      "\u001b[1;31m---------------------------------------------------------------------------\u001b[0m",
      "\u001b[1;31mZeroDivisionError\u001b[0m                         Traceback (most recent call last)",
      "\u001b[1;32m~\\AppData\\Local\\Temp/ipykernel_11368/2461206999.py\u001b[0m in \u001b[0;36m<module>\u001b[1;34m\u001b[0m\n\u001b[0;32m      1\u001b[0m \u001b[1;32mtry\u001b[0m\u001b[1;33m:\u001b[0m\u001b[1;33m\u001b[0m\u001b[1;33m\u001b[0m\u001b[0m\n\u001b[1;32m----> 2\u001b[1;33m     \u001b[1;36m4\u001b[0m\u001b[1;33m/\u001b[0m\u001b[1;36m0\u001b[0m\u001b[1;33m\u001b[0m\u001b[1;33m\u001b[0m\u001b[0m\n\u001b[0m\u001b[0;32m      3\u001b[0m     \u001b[1;32mpass\u001b[0m \u001b[1;31m# try\u001b[0m\u001b[1;33m\u001b[0m\u001b[1;33m\u001b[0m\u001b[0m\n\u001b[0;32m      4\u001b[0m \u001b[1;32mfinally\u001b[0m\u001b[1;33m:\u001b[0m\u001b[1;33m\u001b[0m\u001b[1;33m\u001b[0m\u001b[0m\n\u001b[0;32m      5\u001b[0m     \u001b[1;32mpass\u001b[0m \u001b[1;31m# finally\u001b[0m\u001b[1;33m\u001b[0m\u001b[1;33m\u001b[0m\u001b[0m\n",
      "\u001b[1;31mZeroDivisionError\u001b[0m: division by zero"
     ]
    }
   ],
   "source": [
    "try:\n",
    "    4/0\n",
    "    pass # try\n",
    "finally:\n",
    "    pass # finally"
   ]
  },
  {
   "cell_type": "code",
   "execution_count": 10,
   "metadata": {},
   "outputs": [
    {
     "output_type": "stream",
     "name": "stdout",
     "text": [
      "숫자를 0으로 나누는 것은 허용되지 않는다\n"
     ]
    }
   ],
   "source": [
    "try: \n",
    "    4/0\n",
    "    pass # try\n",
    "\n",
    "except: # 특정 예외를 지정하지 않으면, 모든 예외를 catch하겠다는 의미\n",
    "    print('숫자를 0으로 나누는 것은 허용되지 않는다')\n",
    "    pass # except"
   ]
  },
  {
   "cell_type": "code",
   "execution_count": 12,
   "metadata": {},
   "outputs": [
    {
     "output_type": "stream",
     "name": "stdout",
     "text": [
      "ZeroDivisionError\n"
     ]
    }
   ],
   "source": [
    "try:\n",
    "    4/0\n",
    "    pass # try\n",
    "\n",
    "except ZeroDivisionError:\n",
    "    print('ZeroDivisionError')\n",
    "    pass # except\n"
   ]
  },
  {
   "cell_type": "code",
   "execution_count": 47,
   "metadata": {},
   "outputs": [
    {
     "output_type": "stream",
     "name": "stdout",
     "text": [
      "'e: division by zero'\n('division by zero',)\n<built-in method with_traceback of ZeroDivisionError object at 0x0000020FFC735310>\n"
     ]
    }
   ],
   "source": [
    "try:\n",
    "    4/0\n",
    "    pass # try\n",
    "\n",
    "except ZeroDivisionError as e:\n",
    "    pp(f'e: {e}')  # 자바의 e.getMessage와 같음 \n",
    "    pp(e.args)  # 튜플은 요소가 하나인 경우에 의도적으로 마지막 원소의 뒤에 쉼표를 찍어준다.\n",
    "    pp(e.with_traceback)\n",
    "    pass # except"
   ]
  },
  {
   "cell_type": "code",
   "execution_count": 23,
   "metadata": {},
   "outputs": [],
   "source": [
    "from pprint import pprint as pp"
   ]
  },
  {
   "cell_type": "code",
   "execution_count": 31,
   "metadata": {},
   "outputs": [],
   "source": [
    "from inspect import signature as sig"
   ]
  },
  {
   "cell_type": "code",
   "execution_count": 52,
   "metadata": {},
   "outputs": [
    {
     "output_type": "stream",
     "name": "stdout",
     "text": [
      "***finally***\n"
     ]
    },
    {
     "output_type": "error",
     "ename": "ZeroDivisionError",
     "evalue": "division by zero",
     "traceback": [
      "\u001b[1;31m---------------------------------------------------------------------------\u001b[0m",
      "\u001b[1;31mZeroDivisionError\u001b[0m                         Traceback (most recent call last)",
      "\u001b[1;32m~\\AppData\\Local\\Temp/ipykernel_11368/2491881924.py\u001b[0m in \u001b[0;36m<module>\u001b[1;34m\u001b[0m\n\u001b[0;32m      1\u001b[0m \u001b[1;32mtry\u001b[0m\u001b[1;33m:\u001b[0m\u001b[1;33m\u001b[0m\u001b[1;33m\u001b[0m\u001b[0m\n\u001b[1;32m----> 2\u001b[1;33m     \u001b[1;36m4\u001b[0m\u001b[1;33m/\u001b[0m\u001b[1;36m0\u001b[0m\u001b[1;33m\u001b[0m\u001b[1;33m\u001b[0m\u001b[0m\n\u001b[0m\u001b[0;32m      3\u001b[0m     \u001b[1;32mpass\u001b[0m \u001b[1;31m# try\u001b[0m\u001b[1;33m\u001b[0m\u001b[1;33m\u001b[0m\u001b[0m\n\u001b[0;32m      4\u001b[0m \u001b[1;32mfinally\u001b[0m\u001b[1;33m:\u001b[0m\u001b[1;33m\u001b[0m\u001b[1;33m\u001b[0m\u001b[0m\n\u001b[0;32m      5\u001b[0m     \u001b[0mprint\u001b[0m\u001b[1;33m(\u001b[0m\u001b[1;34m'***finally***'\u001b[0m\u001b[1;33m)\u001b[0m\u001b[1;33m\u001b[0m\u001b[1;33m\u001b[0m\u001b[0m\n",
      "\u001b[1;31mZeroDivisionError\u001b[0m: division by zero"
     ]
    }
   ],
   "source": [
    "try:\n",
    "    4/0\n",
    "    pass # try\n",
    "finally:\n",
    "    print('***finally***')\n",
    "    pass # finally"
   ]
  },
  {
   "cell_type": "code",
   "execution_count": 57,
   "metadata": {},
   "outputs": [
    {
     "output_type": "stream",
     "name": "stdout",
     "text": [
      "['0 line\\n', '1 line\\n', '2 line\\n', '3 line\\n', '4 line\\n', '5 line\\n', '6 line\\n', '7 line\\n', '8 line\\n', '9 line\\n', '0 append \\n', '1 append \\n', '2 append \\n', '3 append \\n', '4 append \\n', '안녕하세요\\n', '\\n']\n"
     ]
    }
   ],
   "source": [
    "with open('tempt.txt','r', encoding='utf8') as f:\n",
    "    allData = f.readlines()\n",
    "    print(allData)\n",
    "\n",
    "    pass # try-with-resources "
   ]
  },
  {
   "cell_type": "code",
   "execution_count": 64,
   "metadata": {},
   "outputs": [
    {
     "output_type": "stream",
     "name": "stdout",
     "text": [
      "division by zero\n"
     ]
    }
   ],
   "source": [
    "try:\n",
    "    4/0          # ZeroDivisionError\n",
    "\n",
    "    # 위에서 에러가 발생했으니 아래 코드는 실행되지 않음 \n",
    "\n",
    "    a = [1,2]\n",
    "    print(a[2])  # IndexError\n",
    "\n",
    "    pass # try\n",
    "    \n",
    "except IndexError as e:\n",
    "    print(e)\n",
    "    pass # except\n",
    "\n",
    "except ZeroDivisionError as e:\n",
    "    print(e)\n",
    "    pass # except"
   ]
  },
  {
   "cell_type": "code",
   "execution_count": 70,
   "metadata": {},
   "outputs": [
    {
     "output_type": "stream",
     "name": "stdout",
     "text": [
      "list index out of range\n"
     ]
    }
   ],
   "source": [
    "try:\n",
    "\n",
    "    a = [1,2]\n",
    "    print(a[2])  # IndexError\n",
    "    4/0          # ZeroDivisionError\n",
    "\n",
    "    pass # try\n",
    "except (ZeroDivisionError, IndexErroras e:\n",
    "    # 튜플의 소괄호는 생략 불가능한 경우가 있다 - except절에서 불가능   print(e(e)\n",
    "\n",
    "    pass # except"
   ]
  },
  {
   "cell_type": "code",
   "execution_count": 72,
   "metadata": {},
   "outputs": [
    {
     "output_type": "stream",
     "name": "stdout",
     "text": [
      "list index out of range\ndivision by zero\n"
     ]
    }
   ],
   "source": [
    "try:\n",
    "\n",
    "    a = [1,2]\n",
    "    print(a[2])  # IndexError\n",
    "   \n",
    "    pass # try\n",
    "except (IndexError) as e:\n",
    "    print(e)\n",
    "\n",
    "    pass # except\n",
    "\n",
    "try:\n",
    "    4/0\n",
    "   \n",
    "    pass # try\n",
    "except (ZeroDivisionError) as e:\n",
    "    print(e)\n",
    "\n",
    "    pass # except"
   ]
  },
  {
   "cell_type": "code",
   "execution_count": 84,
   "metadata": {},
   "outputs": [
    {
     "output_type": "stream",
     "name": "stdout",
     "text": [
      "try\n오류가 발생하지 않음\n"
     ]
    }
   ],
   "source": [
    "try:\n",
    "    print('try')\n",
    "    # 4/0\n",
    "    pass #try\n",
    "\n",
    "except:\n",
    "    print('except')\n",
    "    pass  # except\n",
    "\n",
    "else:  # try블록에서 오류가 발생하지 않을때에만 수행된다.\n",
    "    print('오류가 발생하지 않음')\n",
    "    pass # else"
   ]
  },
  {
   "cell_type": "code",
   "execution_count": 92,
   "metadata": {},
   "outputs": [
    {
     "output_type": "stream",
     "name": "stdout",
     "text": [
      "[Errno 2] No such file or directory: '100.txt'\n"
     ]
    }
   ],
   "source": [
    "try:\n",
    "    f = open('100.txt', 'r')\n",
    "    pass # try\n",
    "\n",
    "except FileNotFoundError as e:\n",
    "    print(e)\n",
    "    pass # except"
   ]
  },
  {
   "cell_type": "code",
   "execution_count": 104,
   "metadata": {},
   "outputs": [
    {
     "output_type": "error",
     "ename": "BaseException",
     "evalue": "test",
     "traceback": [
      "\u001b[1;31m---------------------------------------------------------------------------\u001b[0m",
      "\u001b[1;31mBaseException\u001b[0m                             Traceback (most recent call last)",
      "\u001b[1;32m~\\AppData\\Local\\Temp/ipykernel_11368/2270894761.py\u001b[0m in \u001b[0;36m<module>\u001b[1;34m\u001b[0m\n\u001b[0;32m      1\u001b[0m \u001b[1;32mtry\u001b[0m\u001b[1;33m:\u001b[0m\u001b[1;33m\u001b[0m\u001b[1;33m\u001b[0m\u001b[0m\n\u001b[1;32m----> 2\u001b[1;33m     \u001b[1;32mraise\u001b[0m \u001b[0mBaseException\u001b[0m\u001b[1;33m(\u001b[0m\u001b[1;34m'test'\u001b[0m\u001b[1;33m)\u001b[0m \u001b[1;31m# raise: 강제로 예외를 발생시킴\u001b[0m\u001b[1;33m\u001b[0m\u001b[1;33m\u001b[0m\u001b[0m\n\u001b[0m\u001b[0;32m      3\u001b[0m     \u001b[1;32mpass\u001b[0m \u001b[1;31m# try\u001b[0m\u001b[1;33m\u001b[0m\u001b[1;33m\u001b[0m\u001b[0m\n\u001b[0;32m      4\u001b[0m \u001b[1;32mexcept\u001b[0m \u001b[0mException\u001b[0m \u001b[1;32mas\u001b[0m \u001b[0me\u001b[0m\u001b[1;33m:\u001b[0m  \u001b[1;31m# BaseException이 상위클래스이므로 Exception을 잡을 수 없다.\u001b[0m\u001b[1;33m\u001b[0m\u001b[1;33m\u001b[0m\u001b[0m\n\u001b[0;32m      5\u001b[0m     \u001b[0mprint\u001b[0m\u001b[1;33m(\u001b[0m\u001b[1;34m'Exception occured'\u001b[0m\u001b[1;33m)\u001b[0m\u001b[1;33m\u001b[0m\u001b[1;33m\u001b[0m\u001b[0m\n",
      "\u001b[1;31mBaseException\u001b[0m: test"
     ]
    }
   ],
   "source": [
    "try:\n",
    "    raise BaseException('test') # raise: 강제로 예외를 발생시킴\n",
    "    pass # try\n",
    "except Exception as e:  # BaseException이 상위클래스이므로 Exception을 잡을 수 없다. \n",
    "    print('Exception occured')\n",
    "    print(e)\n",
    "    pass # except\n",
    "else:\n",
    "    print('finished well')\n",
    "    pass # else"
   ]
  },
  {
   "cell_type": "code",
   "execution_count": 110,
   "metadata": {},
   "outputs": [
    {
     "output_type": "execute_result",
     "data": {
      "text/plain": [
       "(RuntimeError, Exception, BaseException, object)"
      ]
     },
     "metadata": {},
     "execution_count": 110
    }
   ],
   "source": [
    "RuntimeError.__mro__    # __mro__ : 계층구조를 알려준다. "
   ]
  },
  {
   "cell_type": "code",
   "execution_count": 112,
   "metadata": {},
   "outputs": [
    {
     "output_type": "stream",
     "name": "stdout",
     "text": [
      "(<class 'ZeroDivisionError'>,\n <class 'ArithmeticError'>,\n <class 'Exception'>,\n <class 'BaseException'>,\n <class 'object'>)\n"
     ]
    }
   ],
   "source": [
    "pp(ZeroDivisionError.__mro__)"
   ]
  },
  {
   "cell_type": "code",
   "execution_count": 158,
   "metadata": {},
   "outputs": [],
   "source": [
    "class UserDefinedError(BaseException):\n",
    "\n",
    "    pass # end class"
   ]
  },
  {
   "cell_type": "code",
   "execution_count": 165,
   "metadata": {},
   "outputs": [
    {
     "output_type": "stream",
     "name": "stdout",
     "text": [
      "error occured\ntest\n"
     ]
    }
   ],
   "source": [
    "try:\n",
    "    raise UserDefinedError('test')\n",
    "    pass # try\n",
    "\n",
    "except BaseException:\n",
    "    print('error occured')\n",
    "    print(e)\n",
    "    pass # except"
   ]
  },
  {
   "cell_type": "code",
   "execution_count": 152,
   "metadata": {},
   "outputs": [],
   "source": [
    "# 1. 소스계좌가 존재하지 않음 -> NoFoundAccountExeption\n",
    "# 2. 소스계좌의 잔고가 존재하지 않음 -> NotEnoughBalanceError\n",
    "\n",
    "class NoFoundAccountExeption(Exception):\n",
    "\n",
    "    pass # end class \n",
    "\n",
    "class NotEnoughBalanceError(RuntimeError):\n",
    "    \n",
    "    pass # end class "
   ]
  }
 ]
}