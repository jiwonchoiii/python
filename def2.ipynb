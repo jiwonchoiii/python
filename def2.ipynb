{
 "metadata": {
  "language_info": {
   "codemirror_mode": {
    "name": "ipython",
    "version": 3
   },
   "file_extension": ".py",
   "mimetype": "text/x-python",
   "name": "python",
   "nbconvert_exporter": "python",
   "pygments_lexer": "ipython3",
   "version": "3.9.6"
  },
  "orig_nbformat": 4,
  "kernelspec": {
   "name": "python3",
   "display_name": "Python 3.9.6 64-bit"
  },
  "interpreter": {
   "hash": "3cd125b786fe1cb74e0a9d583961863df833b79d2954e371e6e3b4d49e7bb98c"
  }
 },
 "nbformat": 4,
 "nbformat_minor": 2,
 "cells": [
  {
   "cell_type": "code",
   "execution_count": 2,
   "metadata": {},
   "outputs": [],
   "source": [
    "def add(num1, num2):\n",
    "    return num1+num2"
   ]
  },
  {
   "cell_type": "code",
   "execution_count": 3,
   "metadata": {},
   "outputs": [
    {
     "output_type": "execute_result",
     "data": {
      "text/plain": [
       "function"
      ]
     },
     "metadata": {},
     "execution_count": 3
    }
   ],
   "source": [
    "type(add)"
   ]
  },
  {
   "cell_type": "code",
   "execution_count": 4,
   "metadata": {},
   "outputs": [
    {
     "output_type": "execute_result",
     "data": {
      "text/plain": [
       "300"
      ]
     },
     "metadata": {},
     "execution_count": 4
    }
   ],
   "source": [
    "add(100,200)"
   ]
  },
  {
   "cell_type": "code",
   "execution_count": 25,
   "metadata": {},
   "outputs": [],
   "source": [
    "func = lambda a,b :a+b"
   ]
  },
  {
   "cell_type": "code",
   "execution_count": 23,
   "metadata": {},
   "outputs": [
    {
     "output_type": "execute_result",
     "data": {
      "text/plain": [
       "101"
      ]
     },
     "metadata": {},
     "execution_count": 23
    }
   ],
   "source": [
    "func(100,1)"
   ]
  },
  {
   "cell_type": "code",
   "execution_count": 47,
   "metadata": {},
   "outputs": [
    {
     "output_type": "execute_result",
     "data": {
      "text/plain": [
       "function"
      ]
     },
     "metadata": {},
     "execution_count": 47
    }
   ],
   "source": [
    "type(func)"
   ]
  },
  {
   "cell_type": "code",
   "execution_count": 39,
   "metadata": {},
   "outputs": [],
   "source": [
    "a = input()"
   ]
  },
  {
   "cell_type": "code",
   "execution_count": 40,
   "metadata": {},
   "outputs": [
    {
     "output_type": "execute_result",
     "data": {
      "text/plain": [
       "'100'"
      ]
     },
     "metadata": {},
     "execution_count": 40
    }
   ],
   "source": [
    "a"
   ]
  },
  {
   "cell_type": "code",
   "execution_count": 41,
   "metadata": {},
   "outputs": [],
   "source": [
    "a =  int(input())"
   ]
  },
  {
   "cell_type": "code",
   "execution_count": 42,
   "metadata": {},
   "outputs": [
    {
     "output_type": "execute_result",
     "data": {
      "text/plain": [
       "10"
      ]
     },
     "metadata": {},
     "execution_count": 42
    }
   ],
   "source": [
    "a"
   ]
  },
  {
   "cell_type": "code",
   "execution_count": 44,
   "metadata": {},
   "outputs": [],
   "source": [
    "from inspect import signature as sig"
   ]
  },
  {
   "cell_type": "code",
   "execution_count": 45,
   "metadata": {},
   "outputs": [
    {
     "output_type": "execute_result",
     "data": {
      "text/plain": [
       "<Signature (prompt='')>"
      ]
     },
     "metadata": {},
     "execution_count": 45
    }
   ],
   "source": [
    "sig(input)"
   ]
  },
  {
   "cell_type": "code",
   "execution_count": 46,
   "metadata": {},
   "outputs": [],
   "source": [
    "reply = input()"
   ]
  },
  {
   "cell_type": "code",
   "execution_count": 48,
   "metadata": {},
   "outputs": [
    {
     "output_type": "execute_result",
     "data": {
      "text/plain": [
       "str"
      ]
     },
     "metadata": {},
     "execution_count": 48
    }
   ],
   "source": [
    "type(reply)"
   ]
  },
  {
   "cell_type": "code",
   "execution_count": 49,
   "metadata": {},
   "outputs": [],
   "source": [
    "reply =input('이름을 입력하세요')"
   ]
  },
  {
   "cell_type": "code",
   "execution_count": 50,
   "metadata": {},
   "outputs": [
    {
     "output_type": "error",
     "ename": "NameError",
     "evalue": "name '요' is not defined",
     "traceback": [
      "\u001b[1;31m---------------------------------------------------------------------------\u001b[0m",
      "\u001b[1;31mNameError\u001b[0m                                 Traceback (most recent call last)",
      "\u001b[1;32m~\\AppData\\Local\\Temp/ipykernel_952/491220950.py\u001b[0m in \u001b[0;36m<module>\u001b[1;34m\u001b[0m\n\u001b[1;32m----> 1\u001b[1;33m \u001b[0m요\u001b[0m\u001b[1;33m\u001b[0m\u001b[1;33m\u001b[0m\u001b[0m\n\u001b[0m",
      "\u001b[1;31mNameError\u001b[0m: name '요' is not defined"
     ]
    }
   ],
   "source": [
    "요"
   ]
  },
  {
   "cell_type": "code",
   "execution_count": 51,
   "metadata": {},
   "outputs": [
    {
     "output_type": "execute_result",
     "data": {
      "text/plain": [
       "'최지원'"
      ]
     },
     "metadata": {},
     "execution_count": 51
    }
   ],
   "source": [
    "reply"
   ]
  },
  {
   "cell_type": "code",
   "execution_count": 52,
   "metadata": {},
   "outputs": [
    {
     "output_type": "error",
     "ename": "NameError",
     "evalue": "name 'randint' is not defined",
     "traceback": [
      "\u001b[1;31m---------------------------------------------------------------------------\u001b[0m",
      "\u001b[1;31mNameError\u001b[0m                                 Traceback (most recent call last)",
      "\u001b[1;32m~\\AppData\\Local\\Temp/ipykernel_952/3261840644.py\u001b[0m in \u001b[0;36m<module>\u001b[1;34m\u001b[0m\n\u001b[0;32m      1\u001b[0m \u001b[0marr\u001b[0m \u001b[1;33m=\u001b[0m \u001b[1;33m[\u001b[0m\u001b[1;33m]\u001b[0m\u001b[1;33m\u001b[0m\u001b[1;33m\u001b[0m\u001b[0m\n\u001b[0;32m      2\u001b[0m \u001b[1;32mfor\u001b[0m \u001b[0mi\u001b[0m \u001b[1;32min\u001b[0m \u001b[0mrange\u001b[0m\u001b[1;33m(\u001b[0m\u001b[1;36m1\u001b[0m\u001b[1;33m,\u001b[0m\u001b[1;36m100\u001b[0m\u001b[1;33m)\u001b[0m\u001b[1;33m:\u001b[0m\u001b[1;33m\u001b[0m\u001b[1;33m\u001b[0m\u001b[0m\n\u001b[1;32m----> 3\u001b[1;33m     \u001b[0marr\u001b[0m\u001b[1;33m.\u001b[0m\u001b[0mappend\u001b[0m\u001b[1;33m(\u001b[0m\u001b[0mrandint\u001b[0m\u001b[1;33m(\u001b[0m\u001b[1;36m1\u001b[0m\u001b[1;33m,\u001b[0m\u001b[1;36m100\u001b[0m\u001b[1;33m)\u001b[0m\u001b[1;33m)\u001b[0m\u001b[1;33m\u001b[0m\u001b[1;33m\u001b[0m\u001b[0m\n\u001b[0m",
      "\u001b[1;31mNameError\u001b[0m: name 'randint' is not defined"
     ]
    }
   ],
   "source": [
    "arr = []\n",
    "for i in range(1,100):\n",
    "    arr.append(randint(1,100))"
   ]
  },
  {
   "cell_type": "code",
   "execution_count": 55,
   "metadata": {},
   "outputs": [],
   "source": [
    "import random"
   ]
  },
  {
   "cell_type": "code",
   "execution_count": 59,
   "metadata": {},
   "outputs": [
    {
     "output_type": "stream",
     "name": "stdout",
     "text": [
      "[16]\n[16, 95]\n[16, 95, 25]\n[16, 95, 25, 32]\n[16, 95, 25, 32, 83]\n[16, 95, 25, 32, 83, 81]\n[16, 95, 25, 32, 83, 81, 87]\n[16, 95, 25, 32, 83, 81, 87, 68]\n[16, 95, 25, 32, 83, 81, 87, 68, 67]\n[16, 95, 25, 32, 83, 81, 87, 68, 67, 90]\n[16, 95, 25, 32, 83, 81, 87, 68, 67, 90, 19]\n[16, 95, 25, 32, 83, 81, 87, 68, 67, 90, 19, 98]\n[16, 95, 25, 32, 83, 81, 87, 68, 67, 90, 19, 98, 94]\n[16, 95, 25, 32, 83, 81, 87, 68, 67, 90, 19, 98, 94, 80]\n[16, 95, 25, 32, 83, 81, 87, 68, 67, 90, 19, 98, 94, 80, 55]\n[16, 95, 25, 32, 83, 81, 87, 68, 67, 90, 19, 98, 94, 80, 55, 7]\n[16, 95, 25, 32, 83, 81, 87, 68, 67, 90, 19, 98, 94, 80, 55, 7, 37]\n[16, 95, 25, 32, 83, 81, 87, 68, 67, 90, 19, 98, 94, 80, 55, 7, 37, 69]\n[16, 95, 25, 32, 83, 81, 87, 68, 67, 90, 19, 98, 94, 80, 55, 7, 37, 69, 65]\n[16, 95, 25, 32, 83, 81, 87, 68, 67, 90, 19, 98, 94, 80, 55, 7, 37, 69, 65, 49]\n[16, 95, 25, 32, 83, 81, 87, 68, 67, 90, 19, 98, 94, 80, 55, 7, 37, 69, 65, 49, 17]\n[16, 95, 25, 32, 83, 81, 87, 68, 67, 90, 19, 98, 94, 80, 55, 7, 37, 69, 65, 49, 17, 50]\n[16, 95, 25, 32, 83, 81, 87, 68, 67, 90, 19, 98, 94, 80, 55, 7, 37, 69, 65, 49, 17, 50, 46]\n[16, 95, 25, 32, 83, 81, 87, 68, 67, 90, 19, 98, 94, 80, 55, 7, 37, 69, 65, 49, 17, 50, 46, 3]\n[16, 95, 25, 32, 83, 81, 87, 68, 67, 90, 19, 98, 94, 80, 55, 7, 37, 69, 65, 49, 17, 50, 46, 3, 30]\n[16, 95, 25, 32, 83, 81, 87, 68, 67, 90, 19, 98, 94, 80, 55, 7, 37, 69, 65, 49, 17, 50, 46, 3, 30, 2]\n[16, 95, 25, 32, 83, 81, 87, 68, 67, 90, 19, 98, 94, 80, 55, 7, 37, 69, 65, 49, 17, 50, 46, 3, 30, 2, 91]\n[16, 95, 25, 32, 83, 81, 87, 68, 67, 90, 19, 98, 94, 80, 55, 7, 37, 69, 65, 49, 17, 50, 46, 3, 30, 2, 91, 29]\n[16, 95, 25, 32, 83, 81, 87, 68, 67, 90, 19, 98, 94, 80, 55, 7, 37, 69, 65, 49, 17, 50, 46, 3, 30, 2, 91, 29, 23]\n[16, 95, 25, 32, 83, 81, 87, 68, 67, 90, 19, 98, 94, 80, 55, 7, 37, 69, 65, 49, 17, 50, 46, 3, 30, 2, 91, 29, 23, 4]\n[16, 95, 25, 32, 83, 81, 87, 68, 67, 90, 19, 98, 94, 80, 55, 7, 37, 69, 65, 49, 17, 50, 46, 3, 30, 2, 91, 29, 23, 4, 7]\n[16, 95, 25, 32, 83, 81, 87, 68, 67, 90, 19, 98, 94, 80, 55, 7, 37, 69, 65, 49, 17, 50, 46, 3, 30, 2, 91, 29, 23, 4, 7, 99]\n[16, 95, 25, 32, 83, 81, 87, 68, 67, 90, 19, 98, 94, 80, 55, 7, 37, 69, 65, 49, 17, 50, 46, 3, 30, 2, 91, 29, 23, 4, 7, 99, 21]\n[16, 95, 25, 32, 83, 81, 87, 68, 67, 90, 19, 98, 94, 80, 55, 7, 37, 69, 65, 49, 17, 50, 46, 3, 30, 2, 91, 29, 23, 4, 7, 99, 21, 39]\n[16, 95, 25, 32, 83, 81, 87, 68, 67, 90, 19, 98, 94, 80, 55, 7, 37, 69, 65, 49, 17, 50, 46, 3, 30, 2, 91, 29, 23, 4, 7, 99, 21, 39, 78]\n[16, 95, 25, 32, 83, 81, 87, 68, 67, 90, 19, 98, 94, 80, 55, 7, 37, 69, 65, 49, 17, 50, 46, 3, 30, 2, 91, 29, 23, 4, 7, 99, 21, 39, 78, 57]\n[16, 95, 25, 32, 83, 81, 87, 68, 67, 90, 19, 98, 94, 80, 55, 7, 37, 69, 65, 49, 17, 50, 46, 3, 30, 2, 91, 29, 23, 4, 7, 99, 21, 39, 78, 57, 72]\n[16, 95, 25, 32, 83, 81, 87, 68, 67, 90, 19, 98, 94, 80, 55, 7, 37, 69, 65, 49, 17, 50, 46, 3, 30, 2, 91, 29, 23, 4, 7, 99, 21, 39, 78, 57, 72, 76]\n[16, 95, 25, 32, 83, 81, 87, 68, 67, 90, 19, 98, 94, 80, 55, 7, 37, 69, 65, 49, 17, 50, 46, 3, 30, 2, 91, 29, 23, 4, 7, 99, 21, 39, 78, 57, 72, 76, 31]\n[16, 95, 25, 32, 83, 81, 87, 68, 67, 90, 19, 98, 94, 80, 55, 7, 37, 69, 65, 49, 17, 50, 46, 3, 30, 2, 91, 29, 23, 4, 7, 99, 21, 39, 78, 57, 72, 76, 31, 23]\n[16, 95, 25, 32, 83, 81, 87, 68, 67, 90, 19, 98, 94, 80, 55, 7, 37, 69, 65, 49, 17, 50, 46, 3, 30, 2, 91, 29, 23, 4, 7, 99, 21, 39, 78, 57, 72, 76, 31, 23, 66]\n[16, 95, 25, 32, 83, 81, 87, 68, 67, 90, 19, 98, 94, 80, 55, 7, 37, 69, 65, 49, 17, 50, 46, 3, 30, 2, 91, 29, 23, 4, 7, 99, 21, 39, 78, 57, 72, 76, 31, 23, 66, 33]\n[16, 95, 25, 32, 83, 81, 87, 68, 67, 90, 19, 98, 94, 80, 55, 7, 37, 69, 65, 49, 17, 50, 46, 3, 30, 2, 91, 29, 23, 4, 7, 99, 21, 39, 78, 57, 72, 76, 31, 23, 66, 33, 79]\n[16, 95, 25, 32, 83, 81, 87, 68, 67, 90, 19, 98, 94, 80, 55, 7, 37, 69, 65, 49, 17, 50, 46, 3, 30, 2, 91, 29, 23, 4, 7, 99, 21, 39, 78, 57, 72, 76, 31, 23, 66, 33, 79, 67]\n[16, 95, 25, 32, 83, 81, 87, 68, 67, 90, 19, 98, 94, 80, 55, 7, 37, 69, 65, 49, 17, 50, 46, 3, 30, 2, 91, 29, 23, 4, 7, 99, 21, 39, 78, 57, 72, 76, 31, 23, 66, 33, 79, 67, 61]\n[16, 95, 25, 32, 83, 81, 87, 68, 67, 90, 19, 98, 94, 80, 55, 7, 37, 69, 65, 49, 17, 50, 46, 3, 30, 2, 91, 29, 23, 4, 7, 99, 21, 39, 78, 57, 72, 76, 31, 23, 66, 33, 79, 67, 61, 47]\n[16, 95, 25, 32, 83, 81, 87, 68, 67, 90, 19, 98, 94, 80, 55, 7, 37, 69, 65, 49, 17, 50, 46, 3, 30, 2, 91, 29, 23, 4, 7, 99, 21, 39, 78, 57, 72, 76, 31, 23, 66, 33, 79, 67, 61, 47, 57]\n[16, 95, 25, 32, 83, 81, 87, 68, 67, 90, 19, 98, 94, 80, 55, 7, 37, 69, 65, 49, 17, 50, 46, 3, 30, 2, 91, 29, 23, 4, 7, 99, 21, 39, 78, 57, 72, 76, 31, 23, 66, 33, 79, 67, 61, 47, 57, 75]\n[16, 95, 25, 32, 83, 81, 87, 68, 67, 90, 19, 98, 94, 80, 55, 7, 37, 69, 65, 49, 17, 50, 46, 3, 30, 2, 91, 29, 23, 4, 7, 99, 21, 39, 78, 57, 72, 76, 31, 23, 66, 33, 79, 67, 61, 47, 57, 75, 16]\n[16, 95, 25, 32, 83, 81, 87, 68, 67, 90, 19, 98, 94, 80, 55, 7, 37, 69, 65, 49, 17, 50, 46, 3, 30, 2, 91, 29, 23, 4, 7, 99, 21, 39, 78, 57, 72, 76, 31, 23, 66, 33, 79, 67, 61, 47, 57, 75, 16, 97]\n[16, 95, 25, 32, 83, 81, 87, 68, 67, 90, 19, 98, 94, 80, 55, 7, 37, 69, 65, 49, 17, 50, 46, 3, 30, 2, 91, 29, 23, 4, 7, 99, 21, 39, 78, 57, 72, 76, 31, 23, 66, 33, 79, 67, 61, 47, 57, 75, 16, 97, 22]\n[16, 95, 25, 32, 83, 81, 87, 68, 67, 90, 19, 98, 94, 80, 55, 7, 37, 69, 65, 49, 17, 50, 46, 3, 30, 2, 91, 29, 23, 4, 7, 99, 21, 39, 78, 57, 72, 76, 31, 23, 66, 33, 79, 67, 61, 47, 57, 75, 16, 97, 22, 58]\n[16, 95, 25, 32, 83, 81, 87, 68, 67, 90, 19, 98, 94, 80, 55, 7, 37, 69, 65, 49, 17, 50, 46, 3, 30, 2, 91, 29, 23, 4, 7, 99, 21, 39, 78, 57, 72, 76, 31, 23, 66, 33, 79, 67, 61, 47, 57, 75, 16, 97, 22, 58, 13]\n[16, 95, 25, 32, 83, 81, 87, 68, 67, 90, 19, 98, 94, 80, 55, 7, 37, 69, 65, 49, 17, 50, 46, 3, 30, 2, 91, 29, 23, 4, 7, 99, 21, 39, 78, 57, 72, 76, 31, 23, 66, 33, 79, 67, 61, 47, 57, 75, 16, 97, 22, 58, 13, 98]\n[16, 95, 25, 32, 83, 81, 87, 68, 67, 90, 19, 98, 94, 80, 55, 7, 37, 69, 65, 49, 17, 50, 46, 3, 30, 2, 91, 29, 23, 4, 7, 99, 21, 39, 78, 57, 72, 76, 31, 23, 66, 33, 79, 67, 61, 47, 57, 75, 16, 97, 22, 58, 13, 98, 69]\n[16, 95, 25, 32, 83, 81, 87, 68, 67, 90, 19, 98, 94, 80, 55, 7, 37, 69, 65, 49, 17, 50, 46, 3, 30, 2, 91, 29, 23, 4, 7, 99, 21, 39, 78, 57, 72, 76, 31, 23, 66, 33, 79, 67, 61, 47, 57, 75, 16, 97, 22, 58, 13, 98, 69, 88]\n[16, 95, 25, 32, 83, 81, 87, 68, 67, 90, 19, 98, 94, 80, 55, 7, 37, 69, 65, 49, 17, 50, 46, 3, 30, 2, 91, 29, 23, 4, 7, 99, 21, 39, 78, 57, 72, 76, 31, 23, 66, 33, 79, 67, 61, 47, 57, 75, 16, 97, 22, 58, 13, 98, 69, 88, 95]\n[16, 95, 25, 32, 83, 81, 87, 68, 67, 90, 19, 98, 94, 80, 55, 7, 37, 69, 65, 49, 17, 50, 46, 3, 30, 2, 91, 29, 23, 4, 7, 99, 21, 39, 78, 57, 72, 76, 31, 23, 66, 33, 79, 67, 61, 47, 57, 75, 16, 97, 22, 58, 13, 98, 69, 88, 95, 5]\n[16, 95, 25, 32, 83, 81, 87, 68, 67, 90, 19, 98, 94, 80, 55, 7, 37, 69, 65, 49, 17, 50, 46, 3, 30, 2, 91, 29, 23, 4, 7, 99, 21, 39, 78, 57, 72, 76, 31, 23, 66, 33, 79, 67, 61, 47, 57, 75, 16, 97, 22, 58, 13, 98, 69, 88, 95, 5, 57]\n[16, 95, 25, 32, 83, 81, 87, 68, 67, 90, 19, 98, 94, 80, 55, 7, 37, 69, 65, 49, 17, 50, 46, 3, 30, 2, 91, 29, 23, 4, 7, 99, 21, 39, 78, 57, 72, 76, 31, 23, 66, 33, 79, 67, 61, 47, 57, 75, 16, 97, 22, 58, 13, 98, 69, 88, 95, 5, 57, 10]\n[16, 95, 25, 32, 83, 81, 87, 68, 67, 90, 19, 98, 94, 80, 55, 7, 37, 69, 65, 49, 17, 50, 46, 3, 30, 2, 91, 29, 23, 4, 7, 99, 21, 39, 78, 57, 72, 76, 31, 23, 66, 33, 79, 67, 61, 47, 57, 75, 16, 97, 22, 58, 13, 98, 69, 88, 95, 5, 57, 10, 95]\n[16, 95, 25, 32, 83, 81, 87, 68, 67, 90, 19, 98, 94, 80, 55, 7, 37, 69, 65, 49, 17, 50, 46, 3, 30, 2, 91, 29, 23, 4, 7, 99, 21, 39, 78, 57, 72, 76, 31, 23, 66, 33, 79, 67, 61, 47, 57, 75, 16, 97, 22, 58, 13, 98, 69, 88, 95, 5, 57, 10, 95, 18]\n[16, 95, 25, 32, 83, 81, 87, 68, 67, 90, 19, 98, 94, 80, 55, 7, 37, 69, 65, 49, 17, 50, 46, 3, 30, 2, 91, 29, 23, 4, 7, 99, 21, 39, 78, 57, 72, 76, 31, 23, 66, 33, 79, 67, 61, 47, 57, 75, 16, 97, 22, 58, 13, 98, 69, 88, 95, 5, 57, 10, 95, 18, 70]\n[16, 95, 25, 32, 83, 81, 87, 68, 67, 90, 19, 98, 94, 80, 55, 7, 37, 69, 65, 49, 17, 50, 46, 3, 30, 2, 91, 29, 23, 4, 7, 99, 21, 39, 78, 57, 72, 76, 31, 23, 66, 33, 79, 67, 61, 47, 57, 75, 16, 97, 22, 58, 13, 98, 69, 88, 95, 5, 57, 10, 95, 18, 70, 8]\n[16, 95, 25, 32, 83, 81, 87, 68, 67, 90, 19, 98, 94, 80, 55, 7, 37, 69, 65, 49, 17, 50, 46, 3, 30, 2, 91, 29, 23, 4, 7, 99, 21, 39, 78, 57, 72, 76, 31, 23, 66, 33, 79, 67, 61, 47, 57, 75, 16, 97, 22, 58, 13, 98, 69, 88, 95, 5, 57, 10, 95, 18, 70, 8, 76]\n[16, 95, 25, 32, 83, 81, 87, 68, 67, 90, 19, 98, 94, 80, 55, 7, 37, 69, 65, 49, 17, 50, 46, 3, 30, 2, 91, 29, 23, 4, 7, 99, 21, 39, 78, 57, 72, 76, 31, 23, 66, 33, 79, 67, 61, 47, 57, 75, 16, 97, 22, 58, 13, 98, 69, 88, 95, 5, 57, 10, 95, 18, 70, 8, 76, 74]\n[16, 95, 25, 32, 83, 81, 87, 68, 67, 90, 19, 98, 94, 80, 55, 7, 37, 69, 65, 49, 17, 50, 46, 3, 30, 2, 91, 29, 23, 4, 7, 99, 21, 39, 78, 57, 72, 76, 31, 23, 66, 33, 79, 67, 61, 47, 57, 75, 16, 97, 22, 58, 13, 98, 69, 88, 95, 5, 57, 10, 95, 18, 70, 8, 76, 74, 86]\n[16, 95, 25, 32, 83, 81, 87, 68, 67, 90, 19, 98, 94, 80, 55, 7, 37, 69, 65, 49, 17, 50, 46, 3, 30, 2, 91, 29, 23, 4, 7, 99, 21, 39, 78, 57, 72, 76, 31, 23, 66, 33, 79, 67, 61, 47, 57, 75, 16, 97, 22, 58, 13, 98, 69, 88, 95, 5, 57, 10, 95, 18, 70, 8, 76, 74, 86, 83]\n[16, 95, 25, 32, 83, 81, 87, 68, 67, 90, 19, 98, 94, 80, 55, 7, 37, 69, 65, 49, 17, 50, 46, 3, 30, 2, 91, 29, 23, 4, 7, 99, 21, 39, 78, 57, 72, 76, 31, 23, 66, 33, 79, 67, 61, 47, 57, 75, 16, 97, 22, 58, 13, 98, 69, 88, 95, 5, 57, 10, 95, 18, 70, 8, 76, 74, 86, 83, 11]\n[16, 95, 25, 32, 83, 81, 87, 68, 67, 90, 19, 98, 94, 80, 55, 7, 37, 69, 65, 49, 17, 50, 46, 3, 30, 2, 91, 29, 23, 4, 7, 99, 21, 39, 78, 57, 72, 76, 31, 23, 66, 33, 79, 67, 61, 47, 57, 75, 16, 97, 22, 58, 13, 98, 69, 88, 95, 5, 57, 10, 95, 18, 70, 8, 76, 74, 86, 83, 11, 48]\n[16, 95, 25, 32, 83, 81, 87, 68, 67, 90, 19, 98, 94, 80, 55, 7, 37, 69, 65, 49, 17, 50, 46, 3, 30, 2, 91, 29, 23, 4, 7, 99, 21, 39, 78, 57, 72, 76, 31, 23, 66, 33, 79, 67, 61, 47, 57, 75, 16, 97, 22, 58, 13, 98, 69, 88, 95, 5, 57, 10, 95, 18, 70, 8, 76, 74, 86, 83, 11, 48, 3]\n[16, 95, 25, 32, 83, 81, 87, 68, 67, 90, 19, 98, 94, 80, 55, 7, 37, 69, 65, 49, 17, 50, 46, 3, 30, 2, 91, 29, 23, 4, 7, 99, 21, 39, 78, 57, 72, 76, 31, 23, 66, 33, 79, 67, 61, 47, 57, 75, 16, 97, 22, 58, 13, 98, 69, 88, 95, 5, 57, 10, 95, 18, 70, 8, 76, 74, 86, 83, 11, 48, 3, 30]\n[16, 95, 25, 32, 83, 81, 87, 68, 67, 90, 19, 98, 94, 80, 55, 7, 37, 69, 65, 49, 17, 50, 46, 3, 30, 2, 91, 29, 23, 4, 7, 99, 21, 39, 78, 57, 72, 76, 31, 23, 66, 33, 79, 67, 61, 47, 57, 75, 16, 97, 22, 58, 13, 98, 69, 88, 95, 5, 57, 10, 95, 18, 70, 8, 76, 74, 86, 83, 11, 48, 3, 30, 15]\n[16, 95, 25, 32, 83, 81, 87, 68, 67, 90, 19, 98, 94, 80, 55, 7, 37, 69, 65, 49, 17, 50, 46, 3, 30, 2, 91, 29, 23, 4, 7, 99, 21, 39, 78, 57, 72, 76, 31, 23, 66, 33, 79, 67, 61, 47, 57, 75, 16, 97, 22, 58, 13, 98, 69, 88, 95, 5, 57, 10, 95, 18, 70, 8, 76, 74, 86, 83, 11, 48, 3, 30, 15, 53]\n[16, 95, 25, 32, 83, 81, 87, 68, 67, 90, 19, 98, 94, 80, 55, 7, 37, 69, 65, 49, 17, 50, 46, 3, 30, 2, 91, 29, 23, 4, 7, 99, 21, 39, 78, 57, 72, 76, 31, 23, 66, 33, 79, 67, 61, 47, 57, 75, 16, 97, 22, 58, 13, 98, 69, 88, 95, 5, 57, 10, 95, 18, 70, 8, 76, 74, 86, 83, 11, 48, 3, 30, 15, 53, 54]\n[16, 95, 25, 32, 83, 81, 87, 68, 67, 90, 19, 98, 94, 80, 55, 7, 37, 69, 65, 49, 17, 50, 46, 3, 30, 2, 91, 29, 23, 4, 7, 99, 21, 39, 78, 57, 72, 76, 31, 23, 66, 33, 79, 67, 61, 47, 57, 75, 16, 97, 22, 58, 13, 98, 69, 88, 95, 5, 57, 10, 95, 18, 70, 8, 76, 74, 86, 83, 11, 48, 3, 30, 15, 53, 54, 10]\n[16, 95, 25, 32, 83, 81, 87, 68, 67, 90, 19, 98, 94, 80, 55, 7, 37, 69, 65, 49, 17, 50, 46, 3, 30, 2, 91, 29, 23, 4, 7, 99, 21, 39, 78, 57, 72, 76, 31, 23, 66, 33, 79, 67, 61, 47, 57, 75, 16, 97, 22, 58, 13, 98, 69, 88, 95, 5, 57, 10, 95, 18, 70, 8, 76, 74, 86, 83, 11, 48, 3, 30, 15, 53, 54, 10, 40]\n[16, 95, 25, 32, 83, 81, 87, 68, 67, 90, 19, 98, 94, 80, 55, 7, 37, 69, 65, 49, 17, 50, 46, 3, 30, 2, 91, 29, 23, 4, 7, 99, 21, 39, 78, 57, 72, 76, 31, 23, 66, 33, 79, 67, 61, 47, 57, 75, 16, 97, 22, 58, 13, 98, 69, 88, 95, 5, 57, 10, 95, 18, 70, 8, 76, 74, 86, 83, 11, 48, 3, 30, 15, 53, 54, 10, 40, 67]\n[16, 95, 25, 32, 83, 81, 87, 68, 67, 90, 19, 98, 94, 80, 55, 7, 37, 69, 65, 49, 17, 50, 46, 3, 30, 2, 91, 29, 23, 4, 7, 99, 21, 39, 78, 57, 72, 76, 31, 23, 66, 33, 79, 67, 61, 47, 57, 75, 16, 97, 22, 58, 13, 98, 69, 88, 95, 5, 57, 10, 95, 18, 70, 8, 76, 74, 86, 83, 11, 48, 3, 30, 15, 53, 54, 10, 40, 67, 47]\n[16, 95, 25, 32, 83, 81, 87, 68, 67, 90, 19, 98, 94, 80, 55, 7, 37, 69, 65, 49, 17, 50, 46, 3, 30, 2, 91, 29, 23, 4, 7, 99, 21, 39, 78, 57, 72, 76, 31, 23, 66, 33, 79, 67, 61, 47, 57, 75, 16, 97, 22, 58, 13, 98, 69, 88, 95, 5, 57, 10, 95, 18, 70, 8, 76, 74, 86, 83, 11, 48, 3, 30, 15, 53, 54, 10, 40, 67, 47, 14]\n[16, 95, 25, 32, 83, 81, 87, 68, 67, 90, 19, 98, 94, 80, 55, 7, 37, 69, 65, 49, 17, 50, 46, 3, 30, 2, 91, 29, 23, 4, 7, 99, 21, 39, 78, 57, 72, 76, 31, 23, 66, 33, 79, 67, 61, 47, 57, 75, 16, 97, 22, 58, 13, 98, 69, 88, 95, 5, 57, 10, 95, 18, 70, 8, 76, 74, 86, 83, 11, 48, 3, 30, 15, 53, 54, 10, 40, 67, 47, 14, 90]\n[16, 95, 25, 32, 83, 81, 87, 68, 67, 90, 19, 98, 94, 80, 55, 7, 37, 69, 65, 49, 17, 50, 46, 3, 30, 2, 91, 29, 23, 4, 7, 99, 21, 39, 78, 57, 72, 76, 31, 23, 66, 33, 79, 67, 61, 47, 57, 75, 16, 97, 22, 58, 13, 98, 69, 88, 95, 5, 57, 10, 95, 18, 70, 8, 76, 74, 86, 83, 11, 48, 3, 30, 15, 53, 54, 10, 40, 67, 47, 14, 90, 55]\n[16, 95, 25, 32, 83, 81, 87, 68, 67, 90, 19, 98, 94, 80, 55, 7, 37, 69, 65, 49, 17, 50, 46, 3, 30, 2, 91, 29, 23, 4, 7, 99, 21, 39, 78, 57, 72, 76, 31, 23, 66, 33, 79, 67, 61, 47, 57, 75, 16, 97, 22, 58, 13, 98, 69, 88, 95, 5, 57, 10, 95, 18, 70, 8, 76, 74, 86, 83, 11, 48, 3, 30, 15, 53, 54, 10, 40, 67, 47, 14, 90, 55, 37]\n[16, 95, 25, 32, 83, 81, 87, 68, 67, 90, 19, 98, 94, 80, 55, 7, 37, 69, 65, 49, 17, 50, 46, 3, 30, 2, 91, 29, 23, 4, 7, 99, 21, 39, 78, 57, 72, 76, 31, 23, 66, 33, 79, 67, 61, 47, 57, 75, 16, 97, 22, 58, 13, 98, 69, 88, 95, 5, 57, 10, 95, 18, 70, 8, 76, 74, 86, 83, 11, 48, 3, 30, 15, 53, 54, 10, 40, 67, 47, 14, 90, 55, 37, 93]\n[16, 95, 25, 32, 83, 81, 87, 68, 67, 90, 19, 98, 94, 80, 55, 7, 37, 69, 65, 49, 17, 50, 46, 3, 30, 2, 91, 29, 23, 4, 7, 99, 21, 39, 78, 57, 72, 76, 31, 23, 66, 33, 79, 67, 61, 47, 57, 75, 16, 97, 22, 58, 13, 98, 69, 88, 95, 5, 57, 10, 95, 18, 70, 8, 76, 74, 86, 83, 11, 48, 3, 30, 15, 53, 54, 10, 40, 67, 47, 14, 90, 55, 37, 93, 19]\n[16, 95, 25, 32, 83, 81, 87, 68, 67, 90, 19, 98, 94, 80, 55, 7, 37, 69, 65, 49, 17, 50, 46, 3, 30, 2, 91, 29, 23, 4, 7, 99, 21, 39, 78, 57, 72, 76, 31, 23, 66, 33, 79, 67, 61, 47, 57, 75, 16, 97, 22, 58, 13, 98, 69, 88, 95, 5, 57, 10, 95, 18, 70, 8, 76, 74, 86, 83, 11, 48, 3, 30, 15, 53, 54, 10, 40, 67, 47, 14, 90, 55, 37, 93, 19, 67]\n[16, 95, 25, 32, 83, 81, 87, 68, 67, 90, 19, 98, 94, 80, 55, 7, 37, 69, 65, 49, 17, 50, 46, 3, 30, 2, 91, 29, 23, 4, 7, 99, 21, 39, 78, 57, 72, 76, 31, 23, 66, 33, 79, 67, 61, 47, 57, 75, 16, 97, 22, 58, 13, 98, 69, 88, 95, 5, 57, 10, 95, 18, 70, 8, 76, 74, 86, 83, 11, 48, 3, 30, 15, 53, 54, 10, 40, 67, 47, 14, 90, 55, 37, 93, 19, 67, 53]\n[16, 95, 25, 32, 83, 81, 87, 68, 67, 90, 19, 98, 94, 80, 55, 7, 37, 69, 65, 49, 17, 50, 46, 3, 30, 2, 91, 29, 23, 4, 7, 99, 21, 39, 78, 57, 72, 76, 31, 23, 66, 33, 79, 67, 61, 47, 57, 75, 16, 97, 22, 58, 13, 98, 69, 88, 95, 5, 57, 10, 95, 18, 70, 8, 76, 74, 86, 83, 11, 48, 3, 30, 15, 53, 54, 10, 40, 67, 47, 14, 90, 55, 37, 93, 19, 67, 53, 64]\n[16, 95, 25, 32, 83, 81, 87, 68, 67, 90, 19, 98, 94, 80, 55, 7, 37, 69, 65, 49, 17, 50, 46, 3, 30, 2, 91, 29, 23, 4, 7, 99, 21, 39, 78, 57, 72, 76, 31, 23, 66, 33, 79, 67, 61, 47, 57, 75, 16, 97, 22, 58, 13, 98, 69, 88, 95, 5, 57, 10, 95, 18, 70, 8, 76, 74, 86, 83, 11, 48, 3, 30, 15, 53, 54, 10, 40, 67, 47, 14, 90, 55, 37, 93, 19, 67, 53, 64, 92]\n[16, 95, 25, 32, 83, 81, 87, 68, 67, 90, 19, 98, 94, 80, 55, 7, 37, 69, 65, 49, 17, 50, 46, 3, 30, 2, 91, 29, 23, 4, 7, 99, 21, 39, 78, 57, 72, 76, 31, 23, 66, 33, 79, 67, 61, 47, 57, 75, 16, 97, 22, 58, 13, 98, 69, 88, 95, 5, 57, 10, 95, 18, 70, 8, 76, 74, 86, 83, 11, 48, 3, 30, 15, 53, 54, 10, 40, 67, 47, 14, 90, 55, 37, 93, 19, 67, 53, 64, 92, 43]\n[16, 95, 25, 32, 83, 81, 87, 68, 67, 90, 19, 98, 94, 80, 55, 7, 37, 69, 65, 49, 17, 50, 46, 3, 30, 2, 91, 29, 23, 4, 7, 99, 21, 39, 78, 57, 72, 76, 31, 23, 66, 33, 79, 67, 61, 47, 57, 75, 16, 97, 22, 58, 13, 98, 69, 88, 95, 5, 57, 10, 95, 18, 70, 8, 76, 74, 86, 83, 11, 48, 3, 30, 15, 53, 54, 10, 40, 67, 47, 14, 90, 55, 37, 93, 19, 67, 53, 64, 92, 43, 34]\n[16, 95, 25, 32, 83, 81, 87, 68, 67, 90, 19, 98, 94, 80, 55, 7, 37, 69, 65, 49, 17, 50, 46, 3, 30, 2, 91, 29, 23, 4, 7, 99, 21, 39, 78, 57, 72, 76, 31, 23, 66, 33, 79, 67, 61, 47, 57, 75, 16, 97, 22, 58, 13, 98, 69, 88, 95, 5, 57, 10, 95, 18, 70, 8, 76, 74, 86, 83, 11, 48, 3, 30, 15, 53, 54, 10, 40, 67, 47, 14, 90, 55, 37, 93, 19, 67, 53, 64, 92, 43, 34, 31]\n[16, 95, 25, 32, 83, 81, 87, 68, 67, 90, 19, 98, 94, 80, 55, 7, 37, 69, 65, 49, 17, 50, 46, 3, 30, 2, 91, 29, 23, 4, 7, 99, 21, 39, 78, 57, 72, 76, 31, 23, 66, 33, 79, 67, 61, 47, 57, 75, 16, 97, 22, 58, 13, 98, 69, 88, 95, 5, 57, 10, 95, 18, 70, 8, 76, 74, 86, 83, 11, 48, 3, 30, 15, 53, 54, 10, 40, 67, 47, 14, 90, 55, 37, 93, 19, 67, 53, 64, 92, 43, 34, 31, 37]\n[16, 95, 25, 32, 83, 81, 87, 68, 67, 90, 19, 98, 94, 80, 55, 7, 37, 69, 65, 49, 17, 50, 46, 3, 30, 2, 91, 29, 23, 4, 7, 99, 21, 39, 78, 57, 72, 76, 31, 23, 66, 33, 79, 67, 61, 47, 57, 75, 16, 97, 22, 58, 13, 98, 69, 88, 95, 5, 57, 10, 95, 18, 70, 8, 76, 74, 86, 83, 11, 48, 3, 30, 15, 53, 54, 10, 40, 67, 47, 14, 90, 55, 37, 93, 19, 67, 53, 64, 92, 43, 34, 31, 37, 57]\n[16, 95, 25, 32, 83, 81, 87, 68, 67, 90, 19, 98, 94, 80, 55, 7, 37, 69, 65, 49, 17, 50, 46, 3, 30, 2, 91, 29, 23, 4, 7, 99, 21, 39, 78, 57, 72, 76, 31, 23, 66, 33, 79, 67, 61, 47, 57, 75, 16, 97, 22, 58, 13, 98, 69, 88, 95, 5, 57, 10, 95, 18, 70, 8, 76, 74, 86, 83, 11, 48, 3, 30, 15, 53, 54, 10, 40, 67, 47, 14, 90, 55, 37, 93, 19, 67, 53, 64, 92, 43, 34, 31, 37, 57, 13]\n[16, 95, 25, 32, 83, 81, 87, 68, 67, 90, 19, 98, 94, 80, 55, 7, 37, 69, 65, 49, 17, 50, 46, 3, 30, 2, 91, 29, 23, 4, 7, 99, 21, 39, 78, 57, 72, 76, 31, 23, 66, 33, 79, 67, 61, 47, 57, 75, 16, 97, 22, 58, 13, 98, 69, 88, 95, 5, 57, 10, 95, 18, 70, 8, 76, 74, 86, 83, 11, 48, 3, 30, 15, 53, 54, 10, 40, 67, 47, 14, 90, 55, 37, 93, 19, 67, 53, 64, 92, 43, 34, 31, 37, 57, 13, 43]\n[16, 95, 25, 32, 83, 81, 87, 68, 67, 90, 19, 98, 94, 80, 55, 7, 37, 69, 65, 49, 17, 50, 46, 3, 30, 2, 91, 29, 23, 4, 7, 99, 21, 39, 78, 57, 72, 76, 31, 23, 66, 33, 79, 67, 61, 47, 57, 75, 16, 97, 22, 58, 13, 98, 69, 88, 95, 5, 57, 10, 95, 18, 70, 8, 76, 74, 86, 83, 11, 48, 3, 30, 15, 53, 54, 10, 40, 67, 47, 14, 90, 55, 37, 93, 19, 67, 53, 64, 92, 43, 34, 31, 37, 57, 13, 43, 30]\n[16, 95, 25, 32, 83, 81, 87, 68, 67, 90, 19, 98, 94, 80, 55, 7, 37, 69, 65, 49, 17, 50, 46, 3, 30, 2, 91, 29, 23, 4, 7, 99, 21, 39, 78, 57, 72, 76, 31, 23, 66, 33, 79, 67, 61, 47, 57, 75, 16, 97, 22, 58, 13, 98, 69, 88, 95, 5, 57, 10, 95, 18, 70, 8, 76, 74, 86, 83, 11, 48, 3, 30, 15, 53, 54, 10, 40, 67, 47, 14, 90, 55, 37, 93, 19, 67, 53, 64, 92, 43, 34, 31, 37, 57, 13, 43, 30, 59]\n[16, 95, 25, 32, 83, 81, 87, 68, 67, 90, 19, 98, 94, 80, 55, 7, 37, 69, 65, 49, 17, 50, 46, 3, 30, 2, 91, 29, 23, 4, 7, 99, 21, 39, 78, 57, 72, 76, 31, 23, 66, 33, 79, 67, 61, 47, 57, 75, 16, 97, 22, 58, 13, 98, 69, 88, 95, 5, 57, 10, 95, 18, 70, 8, 76, 74, 86, 83, 11, 48, 3, 30, 15, 53, 54, 10, 40, 67, 47, 14, 90, 55, 37, 93, 19, 67, 53, 64, 92, 43, 34, 31, 37, 57, 13, 43, 30, 59, 45]\n"
     ]
    }
   ],
   "source": [
    "arr = []\n",
    "for i in range(1,100):\n",
    "    arr.append(random.randint(1,100))\n",
    "    print(arr)"
   ]
  },
  {
   "cell_type": "code",
   "execution_count": 60,
   "metadata": {},
   "outputs": [],
   "source": [
    "from pprint import pprint as pp"
   ]
  },
  {
   "cell_type": "code",
   "execution_count": 61,
   "metadata": {},
   "outputs": [
    {
     "output_type": "stream",
     "name": "stdout",
     "text": [
      "['__add__', '__class__', '__class_getitem__', '__contains__', '__delattr__',\n '__delitem__', '__dir__', '__doc__', '__eq__', '__format__', '__ge__',\n '__getattribute__', '__getitem__', '__gt__', '__hash__', '__iadd__',\n '__imul__', '__init__', '__init_subclass__', '__iter__', '__le__', '__len__',\n '__lt__', '__mul__', '__ne__', '__new__', '__reduce__', '__reduce_ex__',\n '__repr__', '__reversed__', '__rmul__', '__setattr__', '__setitem__',\n '__sizeof__', '__str__', '__subclasshook__', 'append', 'clear', 'copy',\n 'count', 'extend', 'index', 'insert', 'pop', 'remove', 'reverse', 'sort']\n"
     ]
    }
   ],
   "source": [
    "pp(dir(list), compact=True)"
   ]
  },
  {
   "cell_type": "code",
   "execution_count": 62,
   "metadata": {},
   "outputs": [],
   "source": [
    "arr = [i%2 for i in range(10)]"
   ]
  },
  {
   "cell_type": "code",
   "execution_count": 63,
   "metadata": {},
   "outputs": [
    {
     "output_type": "execute_result",
     "data": {
      "text/plain": [
       "[0, 1, 0, 1, 0, 1, 0, 1, 0, 1]"
      ]
     },
     "metadata": {},
     "execution_count": 63
    }
   ],
   "source": [
    "arr"
   ]
  },
  {
   "cell_type": "code",
   "execution_count": 64,
   "metadata": {},
   "outputs": [],
   "source": [
    "arr = [0,0,1]*5"
   ]
  },
  {
   "cell_type": "code",
   "execution_count": 65,
   "metadata": {},
   "outputs": [
    {
     "output_type": "execute_result",
     "data": {
      "text/plain": [
       "[0, 0, 1, 0, 0, 1, 0, 0, 1, 0, 0, 1, 0, 0, 1]"
      ]
     },
     "metadata": {},
     "execution_count": 65
    }
   ],
   "source": [
    "arr"
   ]
  },
  {
   "cell_type": "code",
   "execution_count": 68,
   "metadata": {},
   "outputs": [
    {
     "output_type": "stream",
     "name": "stdout",
     "text": [
      "lifeislong\n"
     ]
    }
   ],
   "source": [
    "print(\"life\" \"is\" \"long\")"
   ]
  },
  {
   "cell_type": "code",
   "execution_count": 69,
   "metadata": {},
   "outputs": [
    {
     "output_type": "stream",
     "name": "stdout",
     "text": [
      "life is long\n"
     ]
    }
   ],
   "source": [
    "print(\"life\",\"is\",\"long\")\n"
   ]
  },
  {
   "cell_type": "code",
   "execution_count": 70,
   "metadata": {},
   "outputs": [
    {
     "output_type": "execute_result",
     "data": {
      "text/plain": [
       "'abc'"
      ]
     },
     "metadata": {},
     "execution_count": 70
    }
   ],
   "source": [
    "\"a\"+\"b\"+\"c\""
   ]
  },
  {
   "cell_type": "code",
   "execution_count": 71,
   "metadata": {},
   "outputs": [
    {
     "output_type": "execute_result",
     "data": {
      "text/plain": [
       "'ab'"
      ]
     },
     "metadata": {},
     "execution_count": 71
    }
   ],
   "source": [
    "'a''b'"
   ]
  },
  {
   "cell_type": "code",
   "execution_count": 72,
   "metadata": {},
   "outputs": [
    {
     "output_type": "execute_result",
     "data": {
      "text/plain": [
       "'abc'"
      ]
     },
     "metadata": {},
     "execution_count": 72
    }
   ],
   "source": [
    "'a''b''c'"
   ]
  },
  {
   "cell_type": "code",
   "execution_count": 73,
   "metadata": {},
   "outputs": [
    {
     "output_type": "stream",
     "name": "stdout",
     "text": [
      "life is too short\n"
     ]
    }
   ],
   "source": [
    "print('life','is','too','short')"
   ]
  },
  {
   "cell_type": "code",
   "execution_count": 74,
   "metadata": {},
   "outputs": [
    {
     "output_type": "stream",
     "name": "stdout",
     "text": [
      "0  \n1  \n2  \n3  \n4  \n5  \n6  \n7  \n8  \n9  \n"
     ]
    }
   ],
   "source": [
    "for i in range(10):\n",
    "    print(i,' ')\n",
    "    "
   ]
  },
  {
   "cell_type": "code",
   "execution_count": 77,
   "metadata": {},
   "outputs": [
    {
     "output_type": "stream",
     "name": "stdout",
     "text": [
      "1 2 3 4 5 6 7 8 9 "
     ]
    }
   ],
   "source": [
    "for i in range(1,10):\n",
    "    print(i, end=' ')"
   ]
  },
  {
   "cell_type": "code",
   "execution_count": 98,
   "metadata": {},
   "outputs": [],
   "source": [
    "\n",
    "f=open('ddd1.txt','r')\n",
    "f.close()"
   ]
  },
  {
   "cell_type": "code",
   "execution_count": 103,
   "metadata": {},
   "outputs": [
    {
     "output_type": "stream",
     "name": "stdout",
     "text": [
      "<class '_io.TextIOWrapper'>\n<_io.TextIOWrapper name='tempt.txt' mode='w' encoding='cp949'>\n"
     ]
    }
   ],
   "source": [
    "f = open('tempt.txt','w')\n",
    "print(type(f))\n",
    "f.close()\n",
    "print(f)"
   ]
  },
  {
   "cell_type": "code",
   "execution_count": 104,
   "metadata": {},
   "outputs": [],
   "source": [
    "f = open('tempt.txt','w')"
   ]
  },
  {
   "cell_type": "code",
   "execution_count": 131,
   "metadata": {},
   "outputs": [],
   "source": [
    "f = open('tempt.txt','w')\n",
    "for i in range(10):\n",
    "    data = '%d line\\n' % i\n",
    "    f.write(data)\n",
    "\n",
    "f.close()"
   ]
  },
  {
   "cell_type": "code",
   "execution_count": 132,
   "metadata": {},
   "outputs": [],
   "source": [
    "f=open('tempt.txt','a')\n",
    "for i in range(0,5):\n",
    "    data = \"%s append \\r\" % i\n",
    "    f.write(data)\n",
    "\n",
    "f.close()"
   ]
  },
  {
   "cell_type": "code",
   "execution_count": 135,
   "metadata": {},
   "outputs": [
    {
     "output_type": "stream",
     "name": "stdout",
     "text": [
      "readData: 0 line\n\nreadData: 1 line\n\nreadData: 2 line\n\nreadData: 3 line\n\nreadData: 4 line\n\nreadData: 5 line\n\nreadData: 6 line\n\nreadData: 7 line\n\nreadData: 8 line\n\nreadData: 9 line\n\nreadData: 0 append \n\nreadData: 1 append \n\nreadData: 2 append \n\nreadData: 3 append \n\nreadData: 4 append \n\n<class 'str'> readData:  0\n"
     ]
    }
   ],
   "source": [
    "f = open('tempt.txt', 'r')\n",
    "\n",
    "while True:\n",
    "    readData = f.readline()\n",
    "\n",
    "    if not readData:     # readData가 빈 문자열이면 false에 해당하므로 참으로 만들기 위해 if not readData~\n",
    "        print(type(readData), 'readData: ', len(readData))\n",
    "        break\n",
    "        pass # if\n",
    "\n",
    "    print(f'readData: {readData}')\n",
    "\n",
    "f.close()"
   ]
  },
  {
   "cell_type": "code",
   "execution_count": 166,
   "metadata": {},
   "outputs": [
    {
     "output_type": "stream",
     "name": "stdout",
     "text": [
      "['0 line\\n', '1 line\\n', '2 line\\n', '3 line\\n', '4 line\\n', '5 line\\n', '6 line\\n', '7 line\\n', '8 line\\n', '9 line\\n', '0 append \\n', '1 append \\n', '2 append \\n', '3 append \\n', '4 append \\n', '안녕하세요\\n', '\\n']\n['0 line\\n',\n '1 line\\n',\n '2 line\\n',\n '3 line\\n',\n '4 line\\n',\n '5 line\\n',\n '6 line\\n',\n '7 line\\n',\n '8 line\\n',\n '9 line\\n',\n '0 append \\n',\n '1 append \\n',\n '2 append \\n',\n '3 append \\n',\n '4 append \\n',\n '안녕하세요\\n',\n '\\n']\n"
     ]
    }
   ],
   "source": [
    "\n",
    "f=open('tempt.txt','r', encodingmoBOM_UTF8')\n",
    "lines = f.readlines()\n",
    "\n",
    "print(lines)  # 여러개를 프린트하면 리스트 객체로 만들어서 출력한다. \n",
    "pp(lines)\n",
    "\n",
    "f.close()"
   ]
  },
  {
   "cell_type": "code",
   "execution_count": 144,
   "metadata": {},
   "outputs": [
    {
     "output_type": "stream",
     "name": "stdout",
     "text": [
      "Help on built-in function readlines:\n\nreadlines(hint=-1, /) method of _io.TextIOWrapper instance\n    Return a list of lines from the stream.\n    \n    hint can be specified to control the number of lines read: no more\n    lines will be read if the total size (in bytes/characters) of all\n    lines so far exceeds hint.\n\n"
     ]
    }
   ],
   "source": [
    "help(f.readlines)"
   ]
  },
  {
   "cell_type": "code",
   "execution_count": 145,
   "metadata": {},
   "outputs": [
    {
     "output_type": "execute_result",
     "data": {
      "text/plain": [
       "<Signature (file, mode='r', buffering=-1, encoding=None, errors=None, newline=None, closefd=True, opener=None)>"
      ]
     },
     "metadata": {},
     "execution_count": 145
    }
   ],
   "source": [
    "sig(open)"
   ]
  },
  {
   "cell_type": "code",
   "execution_count": 146,
   "metadata": {},
   "outputs": [
    {
     "output_type": "stream",
     "name": "stdout",
     "text": [
      "Help on built-in function open in module io:\n\nopen(file, mode='r', buffering=-1, encoding=None, errors=None, newline=None, closefd=True, opener=None)\n    Open file and return a stream.  Raise OSError upon failure.\n    \n    file is either a text or byte string giving the name (and the path\n    if the file isn't in the current working directory) of the file to\n    be opened or an integer file descriptor of the file to be\n    wrapped. (If a file descriptor is given, it is closed when the\n    returned I/O object is closed, unless closefd is set to False.)\n    \n    mode is an optional string that specifies the mode in which the file\n    is opened. It defaults to 'r' which means open for reading in text\n    mode.  Other common values are 'w' for writing (truncating the file if\n    it already exists), 'x' for creating and writing to a new file, and\n    'a' for appending (which on some Unix systems, means that all writes\n    append to the end of the file regardless of the current seek position).\n    In text mode, if encoding is not specified the encoding used is platform\n    dependent: locale.getpreferredencoding(False) is called to get the\n    current locale encoding. (For reading and writing raw bytes use binary\n    mode and leave encoding unspecified.) The available modes are:\n    \n    ========= ===============================================================\n    Character Meaning\n    --------- ---------------------------------------------------------------\n    'r'       open for reading (default)\n    'w'       open for writing, truncating the file first\n    'x'       create a new file and open it for writing\n    'a'       open for writing, appending to the end of the file if it exists\n    'b'       binary mode\n    't'       text mode (default)\n    '+'       open a disk file for updating (reading and writing)\n    'U'       universal newline mode (deprecated)\n    ========= ===============================================================\n    \n    The default mode is 'rt' (open for reading text). For binary random\n    access, the mode 'w+b' opens and truncates the file to 0 bytes, while\n    'r+b' opens the file without truncation. The 'x' mode implies 'w' and\n    raises an `FileExistsError` if the file already exists.\n    \n    Python distinguishes between files opened in binary and text modes,\n    even when the underlying operating system doesn't. Files opened in\n    binary mode (appending 'b' to the mode argument) return contents as\n    bytes objects without any decoding. In text mode (the default, or when\n    't' is appended to the mode argument), the contents of the file are\n    returned as strings, the bytes having been first decoded using a\n    platform-dependent encoding or using the specified encoding if given.\n    \n    'U' mode is deprecated and will raise an exception in future versions\n    of Python.  It has no effect in Python 3.  Use newline to control\n    universal newlines mode.\n    \n    buffering is an optional integer used to set the buffering policy.\n    Pass 0 to switch buffering off (only allowed in binary mode), 1 to select\n    line buffering (only usable in text mode), and an integer > 1 to indicate\n    the size of a fixed-size chunk buffer.  When no buffering argument is\n    given, the default buffering policy works as follows:\n    \n    * Binary files are buffered in fixed-size chunks; the size of the buffer\n      is chosen using a heuristic trying to determine the underlying device's\n      \"block size\" and falling back on `io.DEFAULT_BUFFER_SIZE`.\n      On many systems, the buffer will typically be 4096 or 8192 bytes long.\n    \n    * \"Interactive\" text files (files for which isatty() returns True)\n      use line buffering.  Other text files use the policy described above\n      for binary files.\n    \n    encoding is the name of the encoding used to decode or encode the\n    file. This should only be used in text mode. The default encoding is\n    platform dependent, but any encoding supported by Python can be\n    passed.  See the codecs module for the list of supported encodings.\n    \n    errors is an optional string that specifies how encoding errors are to\n    be handled---this argument should not be used in binary mode. Pass\n    'strict' to raise a ValueError exception if there is an encoding error\n    (the default of None has the same effect), or pass 'ignore' to ignore\n    errors. (Note that ignoring encoding errors can lead to data loss.)\n    See the documentation for codecs.register or run 'help(codecs.Codec)'\n    for a list of the permitted encoding error strings.\n    \n    newline controls how universal newlines works (it only applies to text\n    mode). It can be None, '', '\\n', '\\r', and '\\r\\n'.  It works as\n    follows:\n    \n    * On input, if newline is None, universal newlines mode is\n      enabled. Lines in the input can end in '\\n', '\\r', or '\\r\\n', and\n      these are translated into '\\n' before being returned to the\n      caller. If it is '', universal newline mode is enabled, but line\n      endings are returned to the caller untranslated. If it has any of\n      the other legal values, input lines are only terminated by the given\n      string, and the line ending is returned to the caller untranslated.\n    \n    * On output, if newline is None, any '\\n' characters written are\n      translated to the system default line separator, os.linesep. If\n      newline is '' or '\\n', no translation takes place. If newline is any\n      of the other legal values, any '\\n' characters written are translated\n      to the given string.\n    \n    If closefd is False, the underlying file descriptor will be kept open\n    when the file is closed. This does not work when a file name is given\n    and must be True in that case.\n    \n    A custom opener can be used by passing a callable as *opener*. The\n    underlying file descriptor for the file object is then obtained by\n    calling *opener* with (*file*, *flags*). *opener* must return an open\n    file descriptor (passing os.open as *opener* results in functionality\n    similar to passing None).\n    \n    open() returns a file object whose type depends on the mode, and\n    through which the standard file operations such as reading and writing\n    are performed. When open() is used to open a file in a text mode ('w',\n    'r', 'wt', 'rt', etc.), it returns a TextIOWrapper. When used to open\n    a file in a binary mode, the returned class varies: in read binary\n    mode, it returns a BufferedReader; in write binary and append binary\n    modes, it returns a BufferedWriter, and in read/write mode, it returns\n    a BufferedRandom.\n    \n    It is also possible to use a string or bytearray as a file for both\n    reading and writing. For strings StringIO can be used like a file\n    opened in a text mode, and for bytes a BytesIO can be used like a file\n    opened in a binary mode.\n\n"
     ]
    }
   ],
   "source": [
    "help(open)"
   ]
  },
  {
   "cell_type": "code",
   "execution_count": 149,
   "metadata": {},
   "outputs": [],
   "source": [
    "import codecs"
   ]
  },
  {
   "cell_type": "code",
   "execution_count": 151,
   "metadata": {},
   "outputs": [
    {
     "output_type": "execute_result",
     "data": {
      "text/plain": [
       "['BOM',\n",
       " 'BOM32_BE',\n",
       " 'BOM32_LE',\n",
       " 'BOM64_BE',\n",
       " 'BOM64_LE',\n",
       " 'BOM_BE',\n",
       " 'BOM_LE',\n",
       " 'BOM_UTF16',\n",
       " 'BOM_UTF16_BE',\n",
       " 'BOM_UTF16_LE',\n",
       " 'BOM_UTF32',\n",
       " 'BOM_UTF32_BE',\n",
       " 'BOM_UTF32_LE',\n",
       " 'BOM_UTF8',\n",
       " 'BufferedIncrementalDecoder',\n",
       " 'BufferedIncrementalEncoder',\n",
       " 'Codec',\n",
       " 'CodecInfo',\n",
       " 'EncodedFile',\n",
       " 'IncrementalDecoder',\n",
       " 'IncrementalEncoder',\n",
       " 'StreamReader',\n",
       " 'StreamReaderWriter',\n",
       " 'StreamRecoder',\n",
       " 'StreamWriter',\n",
       " '__all__',\n",
       " '__builtins__',\n",
       " '__cached__',\n",
       " '__doc__',\n",
       " '__file__',\n",
       " '__loader__',\n",
       " '__name__',\n",
       " '__package__',\n",
       " '__spec__',\n",
       " '_false',\n",
       " 'ascii_decode',\n",
       " 'ascii_encode',\n",
       " 'backslashreplace_errors',\n",
       " 'builtins',\n",
       " 'charmap_build',\n",
       " 'charmap_decode',\n",
       " 'charmap_encode',\n",
       " 'code_page_decode',\n",
       " 'code_page_encode',\n",
       " 'decode',\n",
       " 'encode',\n",
       " 'escape_decode',\n",
       " 'escape_encode',\n",
       " 'getdecoder',\n",
       " 'getencoder',\n",
       " 'getincrementaldecoder',\n",
       " 'getincrementalencoder',\n",
       " 'getreader',\n",
       " 'getwriter',\n",
       " 'ignore_errors',\n",
       " 'iterdecode',\n",
       " 'iterencode',\n",
       " 'latin_1_decode',\n",
       " 'latin_1_encode',\n",
       " 'lookup',\n",
       " 'lookup_error',\n",
       " 'make_encoding_map',\n",
       " 'make_identity_dict',\n",
       " 'mbcs_decode',\n",
       " 'mbcs_encode',\n",
       " 'namereplace_errors',\n",
       " 'oem_decode',\n",
       " 'oem_encode',\n",
       " 'open',\n",
       " 'raw_unicode_escape_decode',\n",
       " 'raw_unicode_escape_encode',\n",
       " 'readbuffer_encode',\n",
       " 'register',\n",
       " 'register_error',\n",
       " 'replace_errors',\n",
       " 'strict_errors',\n",
       " 'sys',\n",
       " 'unicode_escape_decode',\n",
       " 'unicode_escape_encode',\n",
       " 'utf_16_be_decode',\n",
       " 'utf_16_be_encode',\n",
       " 'utf_16_decode',\n",
       " 'utf_16_encode',\n",
       " 'utf_16_ex_decode',\n",
       " 'utf_16_le_decode',\n",
       " 'utf_16_le_encode',\n",
       " 'utf_32_be_decode',\n",
       " 'utf_32_be_encode',\n",
       " 'utf_32_decode',\n",
       " 'utf_32_encode',\n",
       " 'utf_32_ex_decode',\n",
       " 'utf_32_le_decode',\n",
       " 'utf_32_le_encode',\n",
       " 'utf_7_decode',\n",
       " 'utf_7_encode',\n",
       " 'utf_8_decode',\n",
       " 'utf_8_encode',\n",
       " 'xmlcharrefreplace_errors']"
      ]
     },
     "metadata": {},
     "execution_count": 151
    }
   ],
   "source": [
    "dir(codecs)"
   ]
  },
  {
   "cell_type": "code",
   "execution_count": 191,
   "metadata": {},
   "outputs": [
    {
     "output_type": "stream",
     "name": "stdout",
     "text": [
      "['아아아아아아']\n"
     ]
    }
   ],
   "source": [
    "f = open('foo.txt','r',encoding='utf8') \n",
    "allData = f.readlines()\n",
    "pp(allData)\n",
    "\n",
    "f.close()"
   ]
  },
  {
   "cell_type": "code",
   "execution_count": 193,
   "metadata": {},
   "outputs": [
    {
     "output_type": "error",
     "ename": "UnicodeDecodeError",
     "evalue": "'cp949' codec can't decode byte 0xec in position 0: illegal multibyte sequence",
     "traceback": [
      "\u001b[1;31m---------------------------------------------------------------------------\u001b[0m",
      "\u001b[1;31mUnicodeDecodeError\u001b[0m                        Traceback (most recent call last)",
      "\u001b[1;32m~\\AppData\\Local\\Temp/ipykernel_952/678521804.py\u001b[0m in \u001b[0;36m<module>\u001b[1;34m\u001b[0m\n\u001b[0;32m      1\u001b[0m \u001b[1;32mwith\u001b[0m \u001b[0mopen\u001b[0m\u001b[1;33m(\u001b[0m\u001b[1;34m'foo.txt'\u001b[0m\u001b[1;33m,\u001b[0m\u001b[1;34m'r'\u001b[0m\u001b[1;33m)\u001b[0m \u001b[1;32mas\u001b[0m \u001b[0mf\u001b[0m\u001b[1;33m:\u001b[0m\u001b[1;33m\u001b[0m\u001b[1;33m\u001b[0m\u001b[0m\n\u001b[1;32m----> 2\u001b[1;33m     \u001b[0mallData\u001b[0m \u001b[1;33m=\u001b[0m \u001b[0mf\u001b[0m\u001b[1;33m.\u001b[0m\u001b[0mreadlines\u001b[0m\u001b[1;33m(\u001b[0m\u001b[1;33m)\u001b[0m\u001b[1;33m\u001b[0m\u001b[1;33m\u001b[0m\u001b[0m\n\u001b[0m\u001b[0;32m      3\u001b[0m     \u001b[0mprint\u001b[0m\u001b[1;33m(\u001b[0m\u001b[0mallData\u001b[0m\u001b[1;33m)\u001b[0m\u001b[1;33m\u001b[0m\u001b[1;33m\u001b[0m\u001b[0m\n\u001b[0;32m      4\u001b[0m \u001b[1;33m\u001b[0m\u001b[0m\n\u001b[0;32m      5\u001b[0m     \u001b[1;32mpass\u001b[0m \u001b[1;31m# try-with-resources\u001b[0m\u001b[1;33m\u001b[0m\u001b[1;33m\u001b[0m\u001b[0m\n",
      "\u001b[1;31mUnicodeDecodeError\u001b[0m: 'cp949' codec can't decode byte 0xec in position 0: illegal multibyte sequence"
     ]
    }
   ],
   "source": [
    "with open('foo.txt','r') as f:\n",
    "    allData = f.readlines()\n",
    "    print(allData)\n",
    "\n",
    "    pass # try-with-resources "
   ]
  },
  {
   "cell_type": "code",
   "execution_count": 204,
   "metadata": {},
   "outputs": [],
   "source": [
    "name='안녕ㅇㅇㅇ'"
   ]
  }
 ]
}