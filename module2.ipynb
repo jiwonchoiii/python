{
 "metadata": {
  "language_info": {
   "codemirror_mode": {
    "name": "ipython",
    "version": 3
   },
   "file_extension": ".py",
   "mimetype": "text/x-python",
   "name": "python",
   "nbconvert_exporter": "python",
   "pygments_lexer": "ipython3",
   "version": "3.9.6"
  },
  "orig_nbformat": 4,
  "kernelspec": {
   "name": "python3",
   "display_name": "Python 3.9.6 64-bit"
  },
  "interpreter": {
   "hash": "3cd125b786fe1cb74e0a9d583961863df833b79d2954e371e6e3b4d49e7bb98c"
  }
 },
 "nbformat": 4,
 "nbformat_minor": 2,
 "cells": [
  {
   "cell_type": "code",
   "execution_count": 1,
   "metadata": {},
   "outputs": [],
   "source": [
    "import mod1 as m1   # mod1을 불러오기만 하는게 아니라, 실행을 시킨다! 그래야 필드, 메소드도 생성된다."
   ]
  },
  {
   "cell_type": "code",
   "execution_count": 2,
   "metadata": {},
   "outputs": [
    {
     "output_type": "stream",
     "name": "stdout",
     "text": [
      "__main__\n"
     ]
    }
   ],
   "source": [
    "print(__name__)"
   ]
  },
  {
   "cell_type": "code",
   "execution_count": 3,
   "metadata": {},
   "outputs": [
    {
     "output_type": "stream",
     "name": "stdout",
     "text": [
      "mod1\n"
     ]
    }
   ],
   "source": [
    "print(m1.__name__)"
   ]
  },
  {
   "cell_type": "code",
   "execution_count": 4,
   "metadata": {
    "tags": [
     "outputPrepend"
    ]
   },
   "outputs": [
    {
     "output_type": "stream",
     "name": "stdout",
     "text": [
      "         distutils           pstats              win32api\n",
      "_operator           doctest             pty                 win32clipboard\n",
      "_osx_support        email               py_compile          win32com\n",
      "_overlapped         encodings           pyclbr              win32con\n",
      "_peg_parser         ensurepip           pydoc               win32console\n",
      "_pickle             entrypoints         pydoc_data          win32cred\n",
      "_py_abc             enum                pyexpat             win32crypt\n",
      "_pydecimal          errno               pygments            win32cryptcon\n",
      "_pyio               faulthandler        pyls_jsonrpc        win32event\n",
      "_queue              filecmp             pythoncom           win32evtlog\n",
      "_random             fileinput           pywin               win32evtlogutil\n",
      "_sha1               fnmatch             pywin32_bootstrap   win32file\n",
      "_sha256             formatter           pywin32_testutil    win32gui\n",
      "_sha3               fractions           pywintypes          win32gui_struct\n",
      "_sha512             ftplib              queue               win32help\n",
      "_signal             functools           quopri              win32inet\n",
      "_sitebuiltins       gc                  random              win32inetcon\n",
      "_socket             genericpath         rasutil             win32job\n",
      "_sqlite3            getopt              re                  win32lz\n",
      "_sre                getpass             regcheck            win32net\n",
      "_ssl                gettext             regutil             win32netcon\n",
      "_stat               glob                reprlib             win32pdh\n",
      "_statistics         graphlib            rlcompleter         win32pdhquery\n",
      "_string             gzip                rmagic              win32pdhutil\n",
      "_strptime           hashlib             runJediLanguageServer win32pipe\n",
      "_struct             heapq               runpy               win32print\n",
      "_symtable           hmac                sched               win32process\n",
      "_testbuffer         html                secrets             win32profile\n",
      "_testcapi           http                select              win32ras\n",
      "_testconsole        idlelib             selectors           win32rcparser\n",
      "_testimportmultiple imaplib             servicemanager      win32security\n",
      "_testinternalcapi   imghdr              setuptools          win32service\n",
      "_testmultiphase     imp                 shell_exec          win32serviceutil\n",
      "_thread             importlib           shelve              win32timezone\n",
      "_threading_local    inspect             shlex               win32trace\n",
      "_tkinter            install_debugpy     shutil              win32traceutil\n",
      "_tracemalloc        interpreterInfo     signal              win32transaction\n",
      "_uuid               io                  site                win32ts\n",
      "_warnings           ipaddress           six                 win32ui\n",
      "_weakref            ipykernel           smtpd               win32uiole\n",
      "_weakrefset         ipykernel_launcher  smtplib             win32verstamp\n",
      "_win32sysloader     ipython_genutils    sndhdr              win32wnet\n",
      "_winapi             isapi               socket              winerror\n",
      "_winxptheme         itertools           socketserver        winioctlcon\n",
      "_xxsubinterpreters  jedi                sqlite3             winnt\n",
      "_zoneinfo           json                sre_compile         winperf\n",
      "abc                 jupyter             sre_constants       winreg\n",
      "adodbapi            jupyter_client      sre_parse           winsound\n",
      "afxres              jupyter_core        ssl                 winxpgui\n",
      "aifc                keyword             sspi                winxptheme\n",
      "antigravity         lib2to3             sspicon             wsgiref\n",
      "argparse            linecache           stat                xdrlib\n",
      "array               locale              statistics          xml\n",
      "ast                 logging             storemagic          xmlrpc\n",
      "asynchat            lzma                string              xxsubtype\n",
      "asyncio             mailbox             stringprep          zipapp\n",
      "asyncore            mailcap             struct              zipfile\n",
      "atexit              marshal             subprocess          zipimport\n",
      "audioop             math                sunau               zlib\n",
      "autoreload          matplotlib_inline   symbol              zmq\n",
      "backcall            mimetypes           symbolProvider      zoneinfo\n",
      "base64              mmap                sympyprinting       \n",
      "\n",
      "Enter any module name to get more help.  Or, type \"modules spam\" to search\n",
      "for modules whose name or summary contain the string \"spam\".\n",
      "\n",
      "\n",
      "Please wait a moment while I gather a list of all available modules...\n",
      "\n",
      "IPython             bdb                 mmapfile            symtable\n",
      "__future__          binascii            mmsystem            sys\n",
      "_abc                binhex              mod1                sysconfig\n",
      "_aix_support        bisect              modulefinder        tabnanny\n",
      "_ast                builtins            msilib              tarfile\n",
      "_asyncio            bz2                 msvcrt              telnetlib\n",
      "_bisect             cProfile            multiprocessing     tempfile\n",
      "_blake2             calendar            nest_asyncio        test\n",
      "_bootlocale         cgi                 netbios             testlauncher\n",
      "_bootsubprocess     cgitb               netrc               tests\n",
      "_bz2                chunk               nntplib             textwrap\n",
      "_codecs             cmath               normalizeForInterpreter this\n",
      "_codecs_cn          cmd                 normalizeSelection  threading\n",
      "_codecs_hk          code                nt                  time\n",
      "_codecs_iso2022     codecs              ntpath              timeit\n",
      "_codecs_jp          codeop              ntsecuritycon       timer\n",
      "_codecs_kr          collections         nturl2path          tkinter\n",
      "_codecs_tw          colorama            numbers             token\n",
      "_collections        colorsys            odbc                tokenize\n",
      "_collections_abc    commctrl            opcode              tornado\n",
      "_compat_pickle      compileall          operator            trace\n",
      "_compression        completion          optparse            traceback\n",
      "_contextvars        concurrent          os                  tracemalloc\n",
      "_csv                configparser        parser              traitlets\n",
      "_ctypes             contextlib          parso               tty\n",
      "_ctypes_test        contextvars         pathlib             turtle\n",
      "_datetime           copy                pdb                 turtledemo\n",
      "_decimal            copyreg             perfmon             types\n",
      "_distutils_hack     crypt               pickle              typing\n",
      "_elementtree        csv                 pickleshare         unicodedata\n",
      "_functools          ctypes              pickletools         unittest\n",
      "_hashlib            curses              pip                 urllib\n",
      "_heapq              cythonmagic         pipes               uu\n",
      "_imp                dataclasses         pkg_resources       uuid\n",
      "_io                 datetime            pkgutil             variableScope\n",
      "_json               dateutil            platform            venv\n",
      "_locale             dbi                 plistlib            visualstudio_py_testlauncher\n",
      "_lsprof             dbm                 poplib              vscode_datascience_helpers\n",
      "_lzma               dde                 posixpath           warnings\n",
      "_markupbase         debugpy             pprint              wave\n",
      "_md5                decimal             printEnvVariables   wcwidth\n",
      "_msi                decorator           printEnvVariablesToFile weakref\n",
      "_multibytecodec     difflib             profile             webbrowser\n",
      "_multiprocessing    dis                 prompt_toolkit      win2kras\n",
      "_opcode             distutils           pstats              win32api\n",
      "_operator           doctest             pty                 win32clipboard\n",
      "_osx_support        email               py_compile          win32com\n",
      "_overlapped         encodings           pyclbr              win32con\n",
      "_peg_parser         ensurepip           pydoc               win32console\n",
      "_pickle             entrypoints         pydoc_data          win32cred\n",
      "_py_abc             enum                pyexpat             win32crypt\n",
      "_pydecimal          errno               pygments            win32cryptcon\n",
      "_pyio               faulthandler        pyls_jsonrpc        win32event\n",
      "_queue              filecmp             pythoncom           win32evtlog\n",
      "_random             fileinput           pywin               win32evtlogutil\n",
      "_sha1               fnmatch             pywin32_bootstrap   win32file\n",
      "_sha256             formatter           pywin32_testutil    win32gui\n",
      "_sha3               fractions           pywintypes          win32gui_struct\n",
      "_sha512             ftplib              queue               win32help\n",
      "_signal             functools           quopri              win32inet\n",
      "_sitebuiltins       gc                  random              win32inetcon\n",
      "_socket             genericpath         rasutil             win32job\n",
      "_sqlite3            getopt              re                  win32lz\n",
      "_sre                getpass             regcheck            win32net\n",
      "_ssl                gettext             regutil             win32netcon\n",
      "_stat               glob                reprlib             win32pdh\n",
      "_statistics         graphlib            rlcompleter         win32pdhquery\n",
      "_string             gzip                rmagic              win32pdhutil\n",
      "_strptime           hashlib             runJediLanguageServer win32pipe\n",
      "_struct             heapq               runpy               win32print\n",
      "_symtable           hmac                sched               win32process\n",
      "_testbuffer         html                secrets             win32profile\n",
      "_testcapi           http                select              win32ras\n",
      "_testconsole        idlelib             selectors           win32rcparser\n",
      "_testimportmultiple imaplib             servicemanager      win32security\n",
      "_testinternalcapi   imghdr              setuptools          win32service\n",
      "_testmultiphase     imp                 shell_exec          win32serviceutil\n",
      "_thread             importlib           shelve              win32timezone\n",
      "_threading_local    inspect             shlex               win32trace\n",
      "_tkinter            install_debugpy     shutil              win32traceutil\n",
      "_tracemalloc        interpreterInfo     signal              win32transaction\n",
      "_uuid               io                  site                win32ts\n",
      "_warnings           ipaddress           six                 win32ui\n",
      "_weakref            ipykernel           smtpd               win32uiole\n",
      "_weakrefset         ipykernel_launcher  smtplib             win32verstamp\n",
      "_win32sysloader     ipython_genutils    sndhdr              win32wnet\n",
      "_winapi             isapi               socket              winerror\n",
      "_winxptheme         itertools           socketserver        winioctlcon\n",
      "_xxsubinterpreters  jedi                sqlite3             winnt\n",
      "_zoneinfo           json                sre_compile         winperf\n",
      "abc                 jupyter             sre_constants       winreg\n",
      "adodbapi            jupyter_client      sre_parse           winsound\n",
      "afxres              jupyter_core        ssl                 winxpgui\n",
      "aifc                keyword             sspi                winxptheme\n",
      "antigravity         lib2to3             sspicon             wsgiref\n",
      "argparse            linecache           stat                xdrlib\n",
      "array               locale              statistics          xml\n",
      "ast                 logging             storemagic          xmlrpc\n",
      "asynchat            lzma                string              xxsubtype\n",
      "asyncio             mailbox             stringprep          zipapp\n",
      "asyncore            mailcap             struct              zipfile\n",
      "atexit              marshal             subprocess          zipimport\n",
      "audioop             math                sunau               zlib\n",
      "autoreload          matplotlib_inline   symbol              zmq\n",
      "backcall            mimetypes           symbolProvider      zoneinfo\n",
      "base64              mmap                sympyprinting       \n",
      "\n",
      "Enter any module name to get more help.  Or, type \"modules spam\" to search\n",
      "for modules whose name or summary contain the string \"spam\".\n",
      "\n",
      "\n",
      "Please wait a moment while I gather a list of all available modules...\n",
      "\n",
      "IPython             bdb                 mmapfile            symtable\n",
      "__future__          binascii            mmsystem            sys\n",
      "_abc                binhex              mod1                sysconfig\n",
      "_aix_support        bisect              modulefinder        tabnanny\n",
      "_ast                builtins            msilib              tarfile\n",
      "_asyncio            bz2                 msvcrt              telnetlib\n",
      "_bisect             cProfile            multiprocessing     tempfile\n",
      "_blake2             calendar            nest_asyncio        test\n",
      "_bootlocale         cgi                 netbios             testlauncher\n",
      "_bootsubprocess     cgitb               netrc               tests\n",
      "_bz2                chunk               nntplib             textwrap\n",
      "_codecs             cmath               normalizeForInterpreter this\n",
      "_codecs_cn          cmd                 normalizeSelection  threading\n",
      "_codecs_hk          code                nt                  time\n",
      "_codecs_iso2022     codecs              ntpath              timeit\n",
      "_codecs_jp          codeop              ntsecuritycon       timer\n",
      "_codecs_kr          collections         nturl2path          tkinter\n",
      "_codecs_tw          colorama            numbers             token\n",
      "_collections        colorsys            odbc                tokenize\n",
      "_collections_abc    commctrl            opcode              tornado\n",
      "_compat_pickle      compileall          operator            trace\n",
      "_compression        completion          optparse            traceback\n",
      "_contextvars        concurrent          os                  tracemalloc\n",
      "_csv                configparser        parser              traitlets\n",
      "_ctypes             contextlib          parso               tty\n",
      "_ctypes_test        contextvars         pathlib             turtle\n",
      "_datetime           copy                pdb                 turtledemo\n",
      "_decimal            copyreg             perfmon             types\n",
      "_distutils_hack     crypt               pickle              typing\n",
      "_elementtree        csv                 pickleshare         unicodedata\n",
      "_functools          ctypes              pickletools         unittest\n",
      "_hashlib            curses              pip                 urllib\n",
      "_heapq              cythonmagic         pipes               uu\n",
      "_imp                dataclasses         pkg_resources       uuid\n",
      "_io                 datetime            pkgutil             variableScope\n",
      "_json               dateutil            platform            venv\n",
      "_locale             dbi                 plistlib            visualstudio_py_testlauncher\n",
      "_lsprof             dbm                 poplib              vscode_datascience_helpers\n",
      "_lzma               dde                 posixpath           warnings\n",
      "_markupbase         debugpy             pprint              wave\n",
      "_md5                decimal             printEnvVariables   wcwidth\n",
      "_msi                decorator           printEnvVariablesToFile weakref\n",
      "_multibytecodec     difflib             profile             webbrowser\n",
      "_multiprocessing    dis                 prompt_toolkit      win2kras\n",
      "_opcode             distutils           pstats              win32api\n",
      "_operator           doctest             pty                 win32clipboard\n",
      "_osx_support        email               py_compile          win32com\n",
      "_overlapped         encodings           pyclbr              win32con\n",
      "_peg_parser         ensurepip           pydoc               win32console\n",
      "_pickle             entrypoints         pydoc_data          win32cred\n",
      "_py_abc             enum                pyexpat             win32crypt\n",
      "_pydecimal          errno               pygments            win32cryptcon\n",
      "_pyio               faulthandler        pyls_jsonrpc        win32event\n",
      "_queue              filecmp             pythoncom           win32evtlog\n",
      "_random             fileinput           pywin               win32evtlogutil\n",
      "_sha1               fnmatch             pywin32_bootstrap   win32file\n",
      "_sha256             formatter           pywin32_testutil    win32gui\n",
      "_sha3               fractions           pywintypes          win32gui_struct\n",
      "_sha512             ftplib              queue               win32help\n",
      "_signal             functools           quopri              win32inet\n",
      "_sitebuiltins       gc                  random              win32inetcon\n",
      "_socket             genericpath         rasutil             win32job\n",
      "_sqlite3            getopt              re                  win32lz\n",
      "_sre                getpass             regcheck            win32net\n",
      "_ssl                gettext             regutil             win32netcon\n",
      "_stat               glob                reprlib             win32pdh\n",
      "_statistics         graphlib            rlcompleter         win32pdhquery\n",
      "_string             gzip                rmagic              win32pdhutil\n",
      "_strptime           hashlib             runJediLanguageServer win32pipe\n",
      "_struct             heapq               runpy               win32print\n",
      "_symtable           hmac                sched               win32process\n",
      "_testbuffer         html                secrets             win32profile\n",
      "_testcapi           http                select              win32ras\n",
      "_testconsole        idlelib             selectors           win32rcparser\n",
      "_testimportmultiple imaplib             servicemanager      win32security\n",
      "_testinternalcapi   imghdr              setuptools          win32service\n",
      "_testmultiphase     imp                 shell_exec          win32serviceutil\n",
      "_thread             importlib           shelve              win32timezone\n",
      "_threading_local    inspect             shlex               win32trace\n",
      "_tkinter            install_debugpy     shutil              win32traceutil\n",
      "_tracemalloc        interpreterInfo     signal              win32transaction\n",
      "_uuid               io                  site                win32ts\n",
      "_warnings           ipaddress           six                 win32ui\n",
      "_weakref            ipykernel           smtpd               win32uiole\n",
      "_weakrefset         ipykernel_launcher  smtplib             win32verstamp\n",
      "_win32sysloader     ipython_genutils    sndhdr              win32wnet\n",
      "_winapi             isapi               socket              winerror\n",
      "_winxptheme         itertools           socketserver        winioctlcon\n",
      "_xxsubinterpreters  jedi                sqlite3             winnt\n",
      "_zoneinfo           json                sre_compile         winperf\n",
      "abc                 jupyter             sre_constants       winreg\n",
      "adodbapi            jupyter_client      sre_parse           winsound\n",
      "afxres              jupyter_core        ssl                 winxpgui\n",
      "aifc                keyword             sspi                winxptheme\n",
      "antigravity         lib2to3             sspicon             wsgiref\n",
      "argparse            linecache           stat                xdrlib\n",
      "array               locale              statistics          xml\n",
      "ast                 logging             storemagic          xmlrpc\n",
      "asynchat            lzma                string              xxsubtype\n",
      "asyncio             mailbox             stringprep          zipapp\n",
      "asyncore            mailcap             struct              zipfile\n",
      "atexit              marshal             subprocess          zipimport\n",
      "audioop             math                sunau               zlib\n",
      "autoreload          matplotlib_inline   symbol              zmq\n",
      "backcall            mimetypes           symbolProvider      zoneinfo\n",
      "base64              mmap                sympyprinting       \n",
      "\n",
      "Enter any module name to get more help.  Or, type \"modules spam\" to search\n",
      "for modules whose name or summary contain the string \"spam\".\n",
      "\n",
      "\n",
      "You are now leaving help and returning to the Python interpreter.\n",
      "If you want to ask for help on a particular object directly from the\n",
      "interpreter, you can type \"help(object)\".  Executing \"help('string')\"\n",
      "has the same effect as typing a particular string at the help> prompt.\n"
     ]
    }
   ],
   "source": [
    "help()"
   ]
  },
  {
   "cell_type": "code",
   "execution_count": 5,
   "metadata": {},
   "outputs": [],
   "source": [
    "import sys"
   ]
  },
  {
   "cell_type": "code",
   "execution_count": 6,
   "metadata": {},
   "outputs": [
    {
     "output_type": "execute_result",
     "data": {
      "text/plain": [
       "<module 'sys' (built-in)>"
      ]
     },
     "metadata": {},
     "execution_count": 6
    }
   ],
   "source": [
    "sys"
   ]
  },
  {
   "cell_type": "code",
   "execution_count": 7,
   "metadata": {},
   "outputs": [
    {
     "output_type": "execute_result",
     "data": {
      "text/plain": [
       "['__breakpointhook__',\n",
       " '__displayhook__',\n",
       " '__doc__',\n",
       " '__excepthook__',\n",
       " '__interactivehook__',\n",
       " '__loader__',\n",
       " '__name__',\n",
       " '__package__',\n",
       " '__spec__',\n",
       " '__stderr__',\n",
       " '__stdin__',\n",
       " '__stdout__',\n",
       " '__unraisablehook__',\n",
       " '_base_executable',\n",
       " '_clear_type_cache',\n",
       " '_current_frames',\n",
       " '_debugmallocstats',\n",
       " '_enablelegacywindowsfsencoding',\n",
       " '_framework',\n",
       " '_getframe',\n",
       " '_git',\n",
       " '_home',\n",
       " '_xoptions',\n",
       " 'addaudithook',\n",
       " 'api_version',\n",
       " 'argv',\n",
       " 'audit',\n",
       " 'base_exec_prefix',\n",
       " 'base_prefix',\n",
       " 'breakpointhook',\n",
       " 'builtin_module_names',\n",
       " 'byteorder',\n",
       " 'call_tracing',\n",
       " 'copyright',\n",
       " 'displayhook',\n",
       " 'dllhandle',\n",
       " 'dont_write_bytecode',\n",
       " 'exc_info',\n",
       " 'excepthook',\n",
       " 'exec_prefix',\n",
       " 'executable',\n",
       " 'exit',\n",
       " 'flags',\n",
       " 'float_info',\n",
       " 'float_repr_style',\n",
       " 'get_asyncgen_hooks',\n",
       " 'get_coroutine_origin_tracking_depth',\n",
       " 'getallocatedblocks',\n",
       " 'getdefaultencoding',\n",
       " 'getfilesystemencodeerrors',\n",
       " 'getfilesystemencoding',\n",
       " 'getprofile',\n",
       " 'getrecursionlimit',\n",
       " 'getrefcount',\n",
       " 'getsizeof',\n",
       " 'getswitchinterval',\n",
       " 'gettrace',\n",
       " 'getwindowsversion',\n",
       " 'hash_info',\n",
       " 'hexversion',\n",
       " 'implementation',\n",
       " 'int_info',\n",
       " 'intern',\n",
       " 'is_finalizing',\n",
       " 'maxsize',\n",
       " 'maxunicode',\n",
       " 'meta_path',\n",
       " 'modules',\n",
       " 'path',\n",
       " 'path_hooks',\n",
       " 'path_importer_cache',\n",
       " 'platform',\n",
       " 'platlibdir',\n",
       " 'prefix',\n",
       " 'ps1',\n",
       " 'ps2',\n",
       " 'ps3',\n",
       " 'pycache_prefix',\n",
       " 'set_asyncgen_hooks',\n",
       " 'set_coroutine_origin_tracking_depth',\n",
       " 'setprofile',\n",
       " 'setrecursionlimit',\n",
       " 'setswitchinterval',\n",
       " 'settrace',\n",
       " 'stderr',\n",
       " 'stdin',\n",
       " 'stdout',\n",
       " 'thread_info',\n",
       " 'unraisablehook',\n",
       " 'version',\n",
       " 'version_info',\n",
       " 'warnoptions',\n",
       " 'winver']"
      ]
     },
     "metadata": {},
     "execution_count": 7
    }
   ],
   "source": [
    "dir(sys)"
   ]
  },
  {
   "cell_type": "code",
   "execution_count": 8,
   "metadata": {},
   "outputs": [
    {
     "output_type": "execute_result",
     "data": {
      "text/plain": [
       "['d:\\\\opt\\\\python\\\\Python39\\\\py_workspace\\\\language\\\\src',\n",
       " 'c:\\\\Users\\\\bitcamp\\\\.vscode\\\\extensions\\\\ms-toolsai.jupyter-2021.8.1236758218\\\\pythonFiles',\n",
       " 'c:\\\\Users\\\\bitcamp\\\\.vscode\\\\extensions\\\\ms-toolsai.jupyter-2021.8.1236758218\\\\pythonFiles\\\\lib\\\\python',\n",
       " 'D:\\\\opt\\\\python\\\\Python39\\\\python39.zip',\n",
       " 'D:\\\\opt\\\\python\\\\Python39\\\\DLLs',\n",
       " 'D:\\\\opt\\\\python\\\\Python39\\\\lib',\n",
       " 'D:\\\\opt\\\\python\\\\Python39',\n",
       " '',\n",
       " 'D:\\\\opt\\\\python\\\\Python39\\\\lib\\\\site-packages',\n",
       " 'D:\\\\opt\\\\python\\\\Python39\\\\lib\\\\site-packages\\\\win32',\n",
       " 'D:\\\\opt\\\\python\\\\Python39\\\\lib\\\\site-packages\\\\win32\\\\lib',\n",
       " 'D:\\\\opt\\\\python\\\\Python39\\\\lib\\\\site-packages\\\\Pythonwin',\n",
       " 'D:\\\\opt\\\\python\\\\Python39\\\\lib\\\\site-packages\\\\IPython\\\\extensions',\n",
       " 'C:\\\\Users\\\\bitcamp\\\\.ipython']"
      ]
     },
     "metadata": {},
     "execution_count": 8
    }
   ],
   "source": [
    "sys.path # 운영체제로 치면 path환경변수에 해당. import한 모듈이 어디에 있는지 알려준다\n",
    "        # sys.path에 경로가 없다면 append메소드로 직접 추가할 수 있지만, 바람직하진 않음. 잘못고쳤다간 망함 "
   ]
  },
  {
   "cell_type": "code",
   "execution_count": 2,
   "metadata": {},
   "outputs": [],
   "source": [
    "import A.B.C.sample3 as s3   # 모듈명뿐만아니라 패키지명까지 모두 적어야 하므로.. alias 사용하는 것이 좋다.\n",
    "\n",
    "# 이미 메모리에 올라온 모듈이므로 다시 수행한다고 해서 또 메모리에 올리진 않는다."
   ]
  },
  {
   "cell_type": "code",
   "execution_count": 14,
   "metadata": {},
   "outputs": [
    {
     "output_type": "stream",
     "name": "stdout",
     "text": [
      "sample3\n"
     ]
    }
   ],
   "source": [
    "s3.sample3()"
   ]
  },
  {
   "cell_type": "code",
   "execution_count": 4,
   "metadata": {},
   "outputs": [
    {
     "output_type": "stream",
     "name": "stdout",
     "text": [
      "sample2.py\n"
     ]
    }
   ],
   "source": [
    "import A.B.sample2 as s2"
   ]
  },
  {
   "cell_type": "code",
   "execution_count": 12,
   "metadata": {},
   "outputs": [
    {
     "output_type": "stream",
     "name": "stdout",
     "text": [
      "sample2\n"
     ]
    }
   ],
   "source": [
    "A.B.sample2.sample2()"
   ]
  },
  {
   "cell_type": "code",
   "execution_count": 5,
   "metadata": {},
   "outputs": [
    {
     "output_type": "stream",
     "name": "stdout",
     "text": [
      "sample1.py\n"
     ]
    }
   ],
   "source": [
    "import A.sample1 as s1"
   ]
  },
  {
   "cell_type": "code",
   "execution_count": 16,
   "metadata": {},
   "outputs": [
    {
     "output_type": "stream",
     "name": "stdout",
     "text": [
      "sample1\n"
     ]
    }
   ],
   "source": [
    "s1.sample1()"
   ]
  },
  {
   "cell_type": "code",
   "execution_count": 6,
   "metadata": {},
   "outputs": [
    {
     "output_type": "execute_result",
     "data": {
      "text/plain": [
       "['In',\n",
       " 'Out',\n",
       " '_',\n",
       " '_3',\n",
       " '_VSCODE_builtins',\n",
       " '_VSCODE_getVariableInfo',\n",
       " '_VSCODE_getVariableProperties',\n",
       " '_VSCODE_getVariableTypes',\n",
       " '_VSCODE_json',\n",
       " '__',\n",
       " '___',\n",
       " '__builtin__',\n",
       " '__builtins__',\n",
       " '__doc__',\n",
       " '__loader__',\n",
       " '__name__',\n",
       " '__package__',\n",
       " '__spec__',\n",
       " '_dh',\n",
       " '_i',\n",
       " '_i1',\n",
       " '_i2',\n",
       " '_i3',\n",
       " '_i4',\n",
       " '_i5',\n",
       " '_i6',\n",
       " '_ih',\n",
       " '_ii',\n",
       " '_iii',\n",
       " '_oh',\n",
       " '_rwho_ls',\n",
       " 'exit',\n",
       " 'get_ipython',\n",
       " 'os',\n",
       " 'quit',\n",
       " 's1',\n",
       " 's2',\n",
       " 's3',\n",
       " 'sys']"
      ]
     },
     "metadata": {},
     "execution_count": 6
    }
   ],
   "source": [
    "dir()  # 현재 메모리에 올라와있는 모든 객체를 리스트업"
   ]
  },
  {
   "cell_type": "code",
   "execution_count": 16,
   "metadata": {},
   "outputs": [],
   "source": [
    "del s1 # 객체가 사라지는 것이 아님(object영역 - 자바의 힙 영역). 변수를 삭제하는것!!(global영역))"
   ]
  },
  {
   "cell_type": "code",
   "execution_count": 8,
   "metadata": {},
   "outputs": [
    {
     "output_type": "execute_result",
     "data": {
      "text/plain": [
       "['In',\n",
       " 'Out',\n",
       " '_',\n",
       " '_3',\n",
       " '_6',\n",
       " '_VSCODE_builtins',\n",
       " '_VSCODE_getVariableInfo',\n",
       " '_VSCODE_getVariableProperties',\n",
       " '_VSCODE_getVariableTypes',\n",
       " '_VSCODE_json',\n",
       " '__',\n",
       " '___',\n",
       " '__builtin__',\n",
       " '__builtins__',\n",
       " '__doc__',\n",
       " '__loader__',\n",
       " '__name__',\n",
       " '__package__',\n",
       " '__spec__',\n",
       " '_dh',\n",
       " '_i',\n",
       " '_i1',\n",
       " '_i2',\n",
       " '_i3',\n",
       " '_i4',\n",
       " '_i5',\n",
       " '_i6',\n",
       " '_i7',\n",
       " '_i8',\n",
       " '_ih',\n",
       " '_ii',\n",
       " '_iii',\n",
       " '_oh',\n",
       " '_rwho_ls',\n",
       " 'exit',\n",
       " 'get_ipython',\n",
       " 'os',\n",
       " 'quit',\n",
       " 's2',\n",
       " 's3',\n",
       " 'sys']"
      ]
     },
     "metadata": {},
     "execution_count": 8
    }
   ],
   "source": [
    "dir()"
   ]
  },
  {
   "cell_type": "code",
   "execution_count": 9,
   "metadata": {},
   "outputs": [],
   "source": [
    "del s2, s3 "
   ]
  },
  {
   "cell_type": "code",
   "execution_count": 10,
   "metadata": {},
   "outputs": [
    {
     "output_type": "execute_result",
     "data": {
      "text/plain": [
       "['In',\n",
       " 'Out',\n",
       " '_',\n",
       " '_3',\n",
       " '_6',\n",
       " '_8',\n",
       " '_VSCODE_builtins',\n",
       " '_VSCODE_getVariableInfo',\n",
       " '_VSCODE_getVariableProperties',\n",
       " '_VSCODE_getVariableTypes',\n",
       " '_VSCODE_json',\n",
       " '__',\n",
       " '___',\n",
       " '__builtin__',\n",
       " '__builtins__',\n",
       " '__doc__',\n",
       " '__loader__',\n",
       " '__name__',\n",
       " '__package__',\n",
       " '__spec__',\n",
       " '_dh',\n",
       " '_i',\n",
       " '_i1',\n",
       " '_i10',\n",
       " '_i2',\n",
       " '_i3',\n",
       " '_i4',\n",
       " '_i5',\n",
       " '_i6',\n",
       " '_i7',\n",
       " '_i8',\n",
       " '_i9',\n",
       " '_ih',\n",
       " '_ii',\n",
       " '_iii',\n",
       " '_oh',\n",
       " '_rwho_ls',\n",
       " 'exit',\n",
       " 'get_ipython',\n",
       " 'os',\n",
       " 'quit',\n",
       " 'sys']"
      ]
     },
     "metadata": {},
     "execution_count": 10
    }
   ],
   "source": [
    "dir()"
   ]
  },
  {
   "cell_type": "code",
   "execution_count": 15,
   "metadata": {},
   "outputs": [],
   "source": [
    "import A.sample1 as s1"
   ]
  },
  {
   "cell_type": "code",
   "execution_count": 12,
   "metadata": {},
   "outputs": [
    {
     "output_type": "execute_result",
     "data": {
      "text/plain": [
       "['In',\n",
       " 'Out',\n",
       " '_',\n",
       " '_10',\n",
       " '_3',\n",
       " '_6',\n",
       " '_8',\n",
       " '_VSCODE_builtins',\n",
       " '_VSCODE_getVariableInfo',\n",
       " '_VSCODE_getVariableProperties',\n",
       " '_VSCODE_getVariableTypes',\n",
       " '_VSCODE_json',\n",
       " '__',\n",
       " '___',\n",
       " '__builtin__',\n",
       " '__builtins__',\n",
       " '__doc__',\n",
       " '__loader__',\n",
       " '__name__',\n",
       " '__package__',\n",
       " '__spec__',\n",
       " '_dh',\n",
       " '_i',\n",
       " '_i1',\n",
       " '_i10',\n",
       " '_i11',\n",
       " '_i12',\n",
       " '_i2',\n",
       " '_i3',\n",
       " '_i4',\n",
       " '_i5',\n",
       " '_i6',\n",
       " '_i7',\n",
       " '_i8',\n",
       " '_i9',\n",
       " '_ih',\n",
       " '_ii',\n",
       " '_iii',\n",
       " '_oh',\n",
       " '_rwho_ls',\n",
       " 'exit',\n",
       " 'get_ipython',\n",
       " 'os',\n",
       " 'quit',\n",
       " 's1',\n",
       " 'sys']"
      ]
     },
     "metadata": {},
     "execution_count": 12
    }
   ],
   "source": [
    "dir()"
   ]
  },
  {
   "cell_type": "code",
   "execution_count": 13,
   "metadata": {},
   "outputs": [
    {
     "output_type": "stream",
     "name": "stdout",
     "text": [
      "sample1\n"
     ]
    }
   ],
   "source": [
    "s1.sample1()"
   ]
  },
  {
   "cell_type": "code",
   "execution_count": 3,
   "metadata": {},
   "outputs": [],
   "source": [
    "from A.B.C import sample3 as s3"
   ]
  },
  {
   "cell_type": "code",
   "execution_count": 4,
   "metadata": {},
   "outputs": [
    {
     "output_type": "stream",
     "name": "stdout",
     "text": [
      "sample3\n"
     ]
    }
   ],
   "source": [
    "sample3.sample3()"
   ]
  },
  {
   "cell_type": "code",
   "execution_count": 5,
   "metadata": {},
   "outputs": [
    {
     "output_type": "stream",
     "name": "stdout",
     "text": [
      "sample3\n"
     ]
    }
   ],
   "source": [
    "s3.sample3()"
   ]
  },
  {
   "cell_type": "code",
   "execution_count": 1,
   "metadata": {},
   "outputs": [
    {
     "output_type": "stream",
     "name": "stdout",
     "text": [
      "sample3.py\n"
     ]
    }
   ],
   "source": [
    "from A.B.C.sample3 import sample3"
   ]
  },
  {
   "cell_type": "code",
   "execution_count": 7,
   "metadata": {},
   "outputs": [
    {
     "output_type": "stream",
     "name": "stdout",
     "text": [
      "sample3\n"
     ]
    }
   ],
   "source": [
    "sample3()"
   ]
  },
  {
   "cell_type": "code",
   "execution_count": 8,
   "metadata": {},
   "outputs": [],
   "source": [
    "from A.B.sample2 import sample2 as s2"
   ]
  },
  {
   "cell_type": "code",
   "execution_count": 9,
   "metadata": {},
   "outputs": [
    {
     "output_type": "stream",
     "name": "stdout",
     "text": [
      "sample2\n"
     ]
    }
   ],
   "source": [
    "s2()"
   ]
  },
  {
   "cell_type": "code",
   "execution_count": 11,
   "metadata": {},
   "outputs": [],
   "source": [
    "from A.sample1 import sample1 as s1"
   ]
  },
  {
   "cell_type": "code",
   "execution_count": 12,
   "metadata": {},
   "outputs": [
    {
     "output_type": "stream",
     "name": "stdout",
     "text": [
      "sample1\n"
     ]
    }
   ],
   "source": [
    "s1()"
   ]
  },
  {
   "cell_type": "code",
   "execution_count": null,
   "metadata": {},
   "outputs": [],
   "source": []
  }
 ]
}