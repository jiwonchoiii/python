{
 "cells": [
  {
   "cell_type": "code",
   "execution_count": 1,
   "id": "22ba3d89",
   "metadata": {},
   "outputs": [],
   "source": [
    "import pandas as pd"
   ]
  },
  {
   "cell_type": "code",
   "execution_count": 16,
   "id": "2df70bb1",
   "metadata": {},
   "outputs": [],
   "source": [
    "df_movies = pd.read_csv(\"data/movies.csv\")"
   ]
  },
  {
   "cell_type": "code",
   "execution_count": 17,
   "id": "489d52bd",
   "metadata": {},
   "outputs": [],
   "source": [
    "enMovie = list(df_movies.groupby('original_language').groups['en'])"
   ]
  }
     "execution_count": 5,
     "metadata": {},
     "output_type": "execute_result"
    }
   ],
   "source": [
    "enMovie"
   ]
  },
  {
   "cell_type": "code",
   "execution_count": 6,
   "id": "b57baf51",
   "metadata": {},
   "outputs": [
    {
     "data": {
      "text/html": [
       "<div>\n",
       "<style scoped>\n",
       "    .dataframe tbody tr th:only-of-type {\n",
       "        vertical-align: middle;\n",
       "    }\n",
       "\n",
       "    .dataframe tbody tr th {\n",
       "        vertical-align: top;\n",
       "    }\n",
       "\n",
       "    .dataframe thead th {\n",
       "        text-align: right;\n",
       "    }\n",
       "</style>\n",
       "<table border=\"1\" class=\"dataframe\">\n",
       "  <thead>\n",
       "    <tr style=\"text-align: right;\">\n",
       "      <th></th>\n",
       "      <th>popularity</th>\n",
       "      <th>budget</th>\n",
       "    </tr>\n",
       "    <tr>\n",
       "      <th>original_language</th>\n",
       "      <th></th>\n",
       "      <th></th>\n",
       "    </tr>\n",
       "  </thead>\n",
       "  <tbody>\n",
       "    <tr>\n",
       "      <th>af</th>\n",
       "      <td>2.504169</td>\n",
       "      <td>3.000000e+06</td>\n",
       "    </tr>\n",
       "    <tr>\n",
       "      <th>ar</th>\n",
       "      <td>4.723389</td>\n",
       "      <td>0.000000e+00</td>\n",
       "    </tr>\n",
       "    <tr>\n",
       "      <th>cn</th>\n",
       "      <td>10.631343</td>\n",
       "      <td>1.072641e+07</td>\n",
       "    </tr>\n",
       "    <tr>\n",
       "      <th>cs</th>\n",
       "      <td>1.286849</td>\n",
       "      <td>0.000000e+00</td>\n",
       "    </tr>\n",
       "    <tr>\n",
       "      <th>da</th>\n",
       "      <td>17.663925</td>\n",
       "      <td>9.742857e+06</td>\n",
       "    </tr>\n",
       "    <tr>\n",
       "      <th>de</th>\n",
       "      <td>10.151382</td>\n",
       "      <td>8.616354e+06</td>\n",
       "    </tr>\n",
       "    <tr>\n",
       "      <th>el</th>\n",
       "      <td>28.858238</td>\n",
       "      <td>0.000000e+00</td>\n",
       "    </tr>\n",
       "    <tr>\n",
       "      <th>en</th>\n",
       "      <td>22.177435</td>\n",
       "      <td>3.039436e+07</td>\n",
       "    </tr>\n",
       "    <tr>\n",
       "      <th>es</th>\n",
       "      <td>13.330804</td>\n",
       "      <td>5.847683e+06</td>\n",
       "    </tr>\n",
       "    <tr>\n",
       "      <th>fa</th>\n",
       "      <td>5.664415</td>\n",
       "      <td>2.450000e+05</td>\n",
       "    </tr>\n",
       "    <tr>\n",
       "      <th>fr</th>\n",
       "      <td>10.299542</td>\n",
       "      <td>8.480997e+06</td>\n",
       "    </tr>\n",
       "    <tr>\n",
       "      <th>he</th>\n",
       "      <td>5.364953</td>\n",
       "      <td>6.666667e+05</td>\n",
       "    </tr>\n",
       "    <tr>\n",
       "      <th>hi</th>\n",
       "      <td>2.994144</td>\n",
       "      <td>1.715789e+06</td>\n",
       "    </tr>\n",
       "    <tr>\n",
       "      <th>hu</th>\n",
       "      <td>1.906807</td>\n",
       "      <td>0.000000e+00</td>\n",
       "    </tr>\n",
       "    <tr>\n",
       "      <th>id</th>\n",
       "      <td>24.586253</td>\n",
       "      <td>1.050000e+06</td>\n",
       "    </tr>\n",
       "    <tr>\n",
       "      <th>is</th>\n",
       "      <td>1.617943</td>\n",
       "      <td>1.000000e+01</td>\n",
       "    </tr>\n",
       "    <tr>\n",
       "      <th>it</th>\n",
       "      <td>17.818268</td>\n",
       "      <td>2.967859e+06</td>\n",
       "    </tr>\n",
       "    <tr>\n",
       "      <th>ja</th>\n",
       "      <td>25.663788</td>\n",
       "      <td>1.429361e+07</td>\n",
       "    </tr>\n",
       "    <tr>\n",
       "      <th>ko</th>\n",
       "      <td>19.488720</td>\n",
       "      <td>1.429091e+07</td>\n",
       "    </tr>\n",
       "    <tr>\n",
       "      <th>ky</th>\n",
       "      <td>0.077873</td>\n",
       "      <td>0.000000e+00</td>\n",
       "    </tr>\n",
       "    <tr>\n",
       "      <th>nb</th>\n",
       "      <td>12.982319</td>\n",
       "      <td>3.500000e+06</td>\n",
       "    </tr>\n",
       "    <tr>\n",
       "      <th>nl</th>\n",
       "      <td>4.768979</td>\n",
       "      <td>7.375000e+06</td>\n",
       "    </tr>\n",
       "    <tr>\n",
       "      <th>no</th>\n",
       "      <td>11.205726</td>\n",
       "      <td>8.000000e+05</td>\n",
       "    </tr>\n",
       "    <tr>\n",
       "      <th>pl</th>\n",
       "      <td>13.265432</td>\n",
       "      <td>2.159280e+06</td>\n",
       "    </tr>\n",
       "    <tr>\n",
       "      <th>ps</th>\n",
       "      <td>1.447734</td>\n",
       "      <td>4.600000e+04</td>\n",
       "    </tr>\n",
       "    <tr>\n",
       "      <th>pt</th>\n",
       "      <td>11.309857</td>\n",
       "      <td>1.133333e+06</td>\n",
       "    </tr>\n",
       "    <tr>\n",
       "      <th>ro</th>\n",
       "      <td>4.798877</td>\n",
       "      <td>4.262550e+05</td>\n",
       "    </tr>\n",
       "    <tr>\n",
       "      <th>ru</th>\n",
       "      <td>7.567724</td>\n",
       "      <td>1.397273e+07</td>\n",
       "    </tr>\n",
       "    <tr>\n",
       "      <th>sl</th>\n",
       "      <td>0.061248</td>\n",
       "      <td>0.000000e+00</td>\n",
       "    </tr>\n",
       "    <tr>\n",
       "      <th>sv</th>\n",
       "      <td>7.347336</td>\n",
       "      <td>5.000000e+06</td>\n",
       "    </tr>\n",
       "    <tr>\n",
       "      <th>ta</th>\n",
       "      <td>0.368283</td>\n",
       "      <td>0.000000e+00</td>\n",
       "    </tr>\n",
       "    <tr>\n",
       "      <th>te</th>\n",
       "      <td>16.254032</td>\n",
       "      <td>4.000000e+07</td>\n",
       "    </tr>\n",
       "    <tr>\n",
       "      <th>th</th>\n",
       "      <td>7.230292</td>\n",
       "      <td>4.833333e+06</td>\n",
       "    </tr>\n",
       "    <tr>\n",
       "      <th>tr</th>\n",
       "      <td>1.465762</td>\n",
       "      <td>1.000000e+07</td>\n",
       "    </tr>\n",
       "    <tr>\n",
       "      <th>vi</th>\n",
       "      <td>0.072066</td>\n",
       "      <td>1.300000e+06</td>\n",
       "    </tr>\n",
       "    <tr>\n",
       "      <th>xx</th>\n",
       "      <td>6.537986</td>\n",
       "      <td>1.200000e+07</td>\n",
       "    </tr>\n",
       "    <tr>\n",
       "      <th>zh</th>\n",
       "      <td>8.996167</td>\n",
       "      <td>2.202560e+07</td>\n",
       "    </tr>\n",
       "  </tbody>\n",
       "</table>\n",
       "</div>"
      ],
      "text/plain": [
       "                   popularity        budget\n",
       "original_language                          \n",
       "af                   2.504169  3.000000e+06\n",
       "ar                   4.723389  0.000000e+00\n",
       "cn                  10.631343  1.072641e+07\n",
       "cs                   1.286849  0.000000e+00\n",
       "da                  17.663925  9.742857e+06\n",
       "de                  10.151382  8.616354e+06\n",
       "el                  28.858238  0.000000e+00\n",
       "en                  22.177435  3.039436e+07\n",
       "es                  13.330804  5.847683e+06\n",
       "fa                   5.664415  2.450000e+05\n",
       "fr                  10.299542  8.480997e+06\n",
       "he                   5.364953  6.666667e+05\n",
       "hi                   2.994144  1.715789e+06\n",
       "hu                   1.906807  0.000000e+00\n",
       "id                  24.586253  1.050000e+06\n",
       "is                   1.617943  1.000000e+01\n",
       "it                  17.818268  2.967859e+06\n",
       "ja                  25.663788  1.429361e+07\n",
       "ko                  19.488720  1.429091e+07\n",
       "ky                   0.077873  0.000000e+00\n",
       "nb                  12.982319  3.500000e+06\n",
       "nl                   4.768979  7.375000e+06\n",
       "no                  11.205726  8.000000e+05\n",
       "pl                  13.265432  2.159280e+06\n",
       "ps                   1.447734  4.600000e+04\n",
       "pt                  11.309857  1.133333e+06\n",
       "ro                   4.798877  4.262550e+05\n",
       "ru                   7.567724  1.397273e+07\n",
       "sl                   0.061248  0.000000e+00\n",
       "sv                   7.347336  5.000000e+06\n",
       "ta                   0.368283  0.000000e+00\n",
       "te                  16.254032  4.000000e+07\n",
       "th                   7.230292  4.833333e+06\n",
       "tr                   1.465762  1.000000e+07\n",
       "vi                   0.072066  1.300000e+06\n",
       "xx                   6.537986  1.200000e+07\n",
       "zh                   8.996167  2.202560e+07"
      ]
     },
     "execution_count": 6,
     "metadata": {},
     "output_type": "execute_result"
    }
   ],
   "source": [
    "# 언어별 평균 인기도, 제작비 (기술통계)\n",
    "df_movies.groupby('original_language')[['popularity','budget']].mean()"
   ]
  },
  {
   "cell_type": "code",
   "execution_count": 18,
   "id": "1ee0d82d",
   "metadata": {},
   "outputs": [],
   "source": [
    "df_movies['release_date'] = pd.to_datetime(df_movies['release_date'])"
   ]
  },
  {
   "cell_type": "code",
   "execution_count": 19,
   "id": "203e09f0",
   "metadata": {
    "scrolled": true
   },
   "outputs": [
    {
     "data": {
      "text/plain": [
       "0      2009-12-10\n",
       "1      2007-05-19\n",
       "2      2015-10-26\n",
       "3      2012-07-16\n",
       "4      2012-03-07\n",
       "          ...    \n",
       "4798   1992-09-04\n",
       "4799   2011-12-26\n",
       "4800   2013-10-13\n",
       "4801   2012-05-03\n",
       "4802   2005-08-05\n",
       "Name: release_date, Length: 4803, dtype: datetime64[ns]"
      ]
     },
     "execution_count": 19,
     "metadata": {},
     "output_type": "execute_result"
    }
   ],
   "source": [
    "df_movies.release_date"
   ]
  },
  {
   "cell_type": "code",
   "execution_count": 36,
   "id": "e26c0ccd",
   "metadata": {},
   "outputs": [],
   "source": [
    "from datetime import datetime as dt"
   ]
  },
  {
   "cell_type": "code",
   "execution_count": 37,
   "id": "67897182",
   "metadata": {},
   "outputs": [],
   "source": [
    "df_movies.release_date = pd.to_datetime(df_movies.release_date)"
   ]
  },
  {
   "cell_type": "code",
   "execution_count": 24,
   "id": "5bf79c09",
   "metadata": {},
   "outputs": [
    {
     "name": "stdout",
     "output_type": "stream",
     "text": [
      "<class 'pandas.core.frame.DataFrame'>\n",
      "RangeIndex: 4803 entries, 0 to 4802\n",
      "Data columns (total 20 columns):\n",
      " #   Column                Non-Null Count  Dtype         \n",
      "---  ------                --------------  -----         \n",
      " 0   budget                4803 non-null   int64         \n",
      " 1   genres                4803 non-null   object        \n",
      " 2   homepage              1712 non-null   object        \n",
      " 3   id                    4803 non-null   int64         \n",
      " 4   keywords              4803 non-null   object        \n",
      " 5   original_language     4803 non-null   object        \n",
      " 6   original_title        4803 non-null   object        \n",
      " 7   overview              4800 non-null   object        \n",
      " 8   popularity            4803 non-null   float64       \n",
      " 9   production_companies  4803 non-null   object        \n",
      " 10  production_countries  4803 non-null   object        \n",
      " 11  release_date          4802 non-null   datetime64[ns]\n",
      " 12  revenue               4803 non-null   int64         \n",
      " 13  runtime               4801 non-null   float64       \n",
      " 14  spoken_languages      4803 non-null   object        \n",
      " 15  status                4803 non-null   object        \n",
      " 16  tagline               3959 non-null   object        \n",
      " 17  title                 4803 non-null   object        \n",
      " 18  vote_average          4803 non-null   float64       \n",
      " 19  vote_count            4803 non-null   int64         \n",
      "dtypes: datetime64[ns](1), float64(3), int64(4), object(12)\n",
      "memory usage: 750.6+ KB\n"
     ]
    }
   ],
   "source": [
    "df_movies.info()"
   ]
  },
  {
   "cell_type": "code",
   "execution_count": 39,
   "id": "532db1d3",
   "metadata": {},
   "outputs": [],
   "source": [
    "df_movies['release_date'] =df_movies['release_date'].dt.strftime('%Y')"
   ]
  },
  {
   "cell_type": "code",
   "execution_count": null,
   "id": "5ee80ec7",
   "metadata": {},
   "outputs": [],
   "source": [
    "df_movies.release_date"
   ]
  },
  {
   "cell_type": "code",
   "execution_count": 32,
   "id": "0b5aa6ff",
   "metadata": {},
   "outputs": [
    {
     "data": {
      "text/plain": [
       "<AxesSubplot:xlabel='original_language'>"
      ]
     },
     "execution_count": 32,
     "metadata": {},
     "output_type": "execute_result"
    },
    {
     "data": {
      "image/png": "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\n",
      "text/plain": [
       "<Figure size 432x288 with 1 Axes>"
      ]
     },
     "metadata": {
      "needs_background": "light"
     },
     "output_type": "display_data"
    }
   ],
   "source": [
    "df_movies.groupby('original_language')['popularity'].mean().plot.bar()"
   ]
  },
  {
   "cell_type": "code",
   "execution_count": 40,
   "id": "38e7935e",
   "metadata": {
    "scrolled": true
   },
   "outputs": [
    {
     "data": {
      "text/plain": [
       "0       2009\n",
       "1       2007\n",
       "2       2015\n",
       "3       2012\n",
       "4       2012\n",
       "        ... \n",
       "4798    1992\n",
       "4799    2011\n",
       "4800    2013\n",
       "4801    2012\n",
       "4802    2005\n",
       "Name: release_date, Length: 4803, dtype: object"
      ]
     },
     "execution_count": 40,
     "metadata": {},
     "output_type": "execute_result"
    }
   ],
   "source": [
    "df_movies.release_date"
   ]
  },
  {
   "cell_type": "code",
   "execution_count": 63,
   "id": "82229825",
   "metadata": {},
   "outputs": [
    {
     "data": {
      "text/plain": [
       "<pandas.plotting._core.PlotAccessor object at 0x000001652889BB80>"
      ]
     },
     "execution_count": 63,
     "metadata": {},
     "output_type": "execute_result"
    }
   ],
   "source": [
    "df_movies.groupby('release_date')['popularity'].mean().plot"
   ]
  },
  {
   "cell_type": "code",
   "execution_count": 58,
   "id": "90e4cdfe",
   "metadata": {},
   "outputs": [],
   "source": [
    "frMovie = list(df_movies.groupby('production_countries').groups)"
   ]
  },
  {
   "cell_type": "code",
   "execution_count": 62,
   "id": "fc1f0305",
   "metadata": {},
   "outputs": [
    {
     "data": {
      "text/html": [
       "<div>\n",
       "<style scoped>\n",
       "    .dataframe tbody tr th:only-of-type {\n",
       "        vertical-align: middle;\n",
       "    }\n",
       "\n",
       "    .dataframe tbody tr th {\n",
       "        vertical-align: top;\n",
       "    }\n",
       "\n",
       "    .dataframe thead th {\n",
       "        text-align: right;\n",
       "    }\n",
       "</style>\n",
       "<table border=\"1\" class=\"dataframe\">\n",
       "  <thead>\n",
       "    <tr style=\"text-align: right;\">\n",
       "      <th></th>\n",
       "      <th>budget</th>\n",
       "      <th>genres</th>\n",
       "      <th>homepage</th>\n",
       "      <th>id</th>\n",
       "      <th>keywords</th>\n",
       "      <th>original_language</th>\n",
       "      <th>original_title</th>\n",
       "      <th>overview</th>\n",
       "      <th>popularity</th>\n",
       "      <th>production_companies</th>\n",
       "      <th>production_countries</th>\n",
       "      <th>release_date</th>\n",
       "      <th>revenue</th>\n",
       "      <th>runtime</th>\n",
       "      <th>spoken_languages</th>\n",
       "      <th>status</th>\n",
       "      <th>tagline</th>\n",
       "      <th>title</th>\n",
       "      <th>vote_average</th>\n",
       "      <th>vote_count</th>\n",
       "    </tr>\n",
       "  </thead>\n",
       "  <tbody>\n",
       "    <tr>\n",
       "      <th>0</th>\n",
       "      <td>237000000</td>\n",
       "      <td>[{\"id\": 28, \"name\": \"Action\"}, {\"id\": 12, \"name\": \"Adventure\"}, {\"id\": 14, \"name\": \"Fantasy\"}, {...</td>\n",
       "      <td>http://www.avatarmovie.com/</td>\n",
       "      <td>19995</td>\n",
       "      <td>[{\"id\": 1463, \"name\": \"culture clash\"}, {\"id\": 2964, \"name\": \"future\"}, {\"id\": 3386, \"name\": \"sp...</td>\n",
       "      <td>en</td>\n",
       "      <td>Avatar</td>\n",
       "      <td>In the 22nd century, a paraplegic Marine is dispatched to the moon Pandora on a unique mission, ...</td>\n",
       "      <td>150.437577</td>\n",
       "      <td>[{\"name\": \"Ingenious Film Partners\", \"id\": 289}, {\"name\": \"Twentieth Century Fox Film Corporatio...</td>\n",
       "      <td>[{\"iso_3166_1\": \"US\", \"name\": \"United States of America\"}, {\"iso_3166_1\": \"GB\", \"name\": \"United ...</td>\n",
       "      <td>2009</td>\n",
       "      <td>2787965087</td>\n",
       "      <td>162.0</td>\n",
       "      <td>[{\"iso_639_1\": \"en\", \"name\": \"English\"}, {\"iso_639_1\": \"es\", \"name\": \"Espa\\u00f1ol\"}]</td>\n",
       "      <td>Released</td>\n",
       "      <td>Enter the World of Pandora.</td>\n",
       "      <td>Avatar</td>\n",
       "      <td>7.2</td>\n",
       "      <td>11800</td>\n",
       "    </tr>\n",
       "  </tbody>\n",
       "</table>\n",
       "</div>"
      ],
      "text/plain": [
       "      budget  \\\n",
       "0  237000000   \n",
       "\n",
       "                                                                                                genres  \\\n",
       "0  [{\"id\": 28, \"name\": \"Action\"}, {\"id\": 12, \"name\": \"Adventure\"}, {\"id\": 14, \"name\": \"Fantasy\"}, {...   \n",
       "\n",
       "                      homepage     id  \\\n",
       "0  http://www.avatarmovie.com/  19995   \n",
       "\n",
       "                                                                                              keywords  \\\n",
       "0  [{\"id\": 1463, \"name\": \"culture clash\"}, {\"id\": 2964, \"name\": \"future\"}, {\"id\": 3386, \"name\": \"sp...   \n",
       "\n",
       "  original_language original_title  \\\n",
       "0                en         Avatar   \n",
       "\n",
       "                                                                                              overview  \\\n",
       "0  In the 22nd century, a paraplegic Marine is dispatched to the moon Pandora on a unique mission, ...   \n",
       "\n",
       "   popularity  \\\n",
       "0  150.437577   \n",
       "\n",
       "                                                                                  production_companies  \\\n",
       "0  [{\"name\": \"Ingenious Film Partners\", \"id\": 289}, {\"name\": \"Twentieth Century Fox Film Corporatio...   \n",
       "\n",
       "                                                                                  production_countries  \\\n",
       "0  [{\"iso_3166_1\": \"US\", \"name\": \"United States of America\"}, {\"iso_3166_1\": \"GB\", \"name\": \"United ...   \n",
       "\n",
       "  release_date     revenue  runtime  \\\n",
       "0         2009  2787965087    162.0   \n",
       "\n",
       "                                                                        spoken_languages  \\\n",
       "0  [{\"iso_639_1\": \"en\", \"name\": \"English\"}, {\"iso_639_1\": \"es\", \"name\": \"Espa\\u00f1ol\"}]   \n",
       "\n",
       "     status                      tagline   title  vote_average  vote_count  \n",
       "0  Released  Enter the World of Pandora.  Avatar           7.2       11800  "
      ]
     },
     "execution_count": 62,
     "metadata": {},
     "output_type": "execute_result"
    }
   ],
   "source": [
    "df_movies.head(1)"
   ]
  },
  {
   "cell_type": "code",
   "execution_count": 59,
   "id": "bc053926",
   "metadata": {},
   "outputs": [
    {
     "data": {
      "text/plain": [
       "{'[]': [272, 1011, 1360, 1511, 1898, 1932, 1983, 2364, 2379, 2614, 2631, 2648, 2728, 2867, 2899, 3089, 3112, 3116, 3225, 3226, 3243, 3248, 3292, 3319, 3322, 3333, 3377, 3388, 3408, 3419, 3503, 3510, 3521, 3523, 3525, 3528, 3553, 3588, 3649, 3661, 3707, 3787, 3805, 3852, 3863, 3922, 3943, 3953, 3957, 3960, 3971, 3977, 4027, 4029, 4047, 4067, 4068, 4105, 4106, 4112, 4118, 4124, 4149, 4169, 4181, 4186, 4205, 4212, 4227, 4233, 4239, 4241, 4247, 4251, 4252, 4255, 4262, 4271, 4272, 4273, 4285, 4305, 4307, 4309, 4310, 4316, 4318, 4322, 4327, 4328, 4369, 4375, 4383, 4385, 4388, 4396, 4400, 4411, 4415, 4422, ...], '[{\"iso_3166_1\": \"AE\", \"name\": \"United Arab Emirates\"}, {\"iso_3166_1\": \"GB\", \"name\": \"United Kingdom\"}, {\"iso_3166_1\": \"US\", \"name\": \"United States of America\"}]': [2993], '[{\"iso_3166_1\": \"AE\", \"name\": \"United Arab Emirates\"}, {\"iso_3166_1\": \"US\", \"name\": \"United States of America\"}]': [805, 1436, 2082, 2165, 2240, 2620], '[{\"iso_3166_1\": \"AF\", \"name\": \"Afghanistan\"}, {\"iso_3166_1\": \"IE\", \"name\": \"Ireland\"}, {\"iso_3166_1\": \"JP\", \"name\": \"Japan\"}]': [4523], '[{\"iso_3166_1\": \"AR\", \"name\": \"Argentina\"}, {\"iso_3166_1\": \"DK\", \"name\": \"Denmark\"}, {\"iso_3166_1\": \"FI\", \"name\": \"Finland\"}, {\"iso_3166_1\": \"FR\", \"name\": \"France\"}, {\"iso_3166_1\": \"DE\", \"name\": \"Germany\"}, {\"iso_3166_1\": \"IS\", \"name\": \"Iceland\"}, {\"iso_3166_1\": \"IT\", \"name\": \"Italy\"}, {\"iso_3166_1\": \"NL\", \"name\": \"Netherlands\"}, {\"iso_3166_1\": \"NO\", \"name\": \"Norway\"}, {\"iso_3166_1\": \"SE\", \"name\": \"Sweden\"}, {\"iso_3166_1\": \"GB\", \"name\": \"United Kingdom\"}, {\"iso_3166_1\": \"US\", \"name\": \"United States of America\"}]': [2799], '[{\"iso_3166_1\": \"AR\", \"name\": \"Argentina\"}, {\"iso_3166_1\": \"ES\", \"name\": \"Spain\"}]': [2064, 3703, 3839], '[{\"iso_3166_1\": \"AR\", \"name\": \"Argentina\"}, {\"iso_3166_1\": \"IT\", \"name\": \"Italy\"}, {\"iso_3166_1\": \"NL\", \"name\": \"Netherlands\"}, {\"iso_3166_1\": \"ES\", \"name\": \"Spain\"}]': [4260], '[{\"iso_3166_1\": \"AR\", \"name\": \"Argentina\"}]': [4226, 4459], '[{\"iso_3166_1\": \"AT\", \"name\": \"Austria\"}, {\"iso_3166_1\": \"CH\", \"name\": \"Switzerland\"}, {\"iso_3166_1\": \"US\", \"name\": \"United States of America\"}]': [4017], '[{\"iso_3166_1\": \"AT\", \"name\": \"Austria\"}, {\"iso_3166_1\": \"DE\", \"name\": \"Germany\"}, {\"iso_3166_1\": \"IT\", \"name\": \"Italy\"}]': [2724], '[{\"iso_3166_1\": \"AT\", \"name\": \"Austria\"}, {\"iso_3166_1\": \"FR\", \"name\": \"France\"}, {\"iso_3166_1\": \"DE\", \"name\": \"Germany\"}, {\"iso_3166_1\": \"IT\", \"name\": \"Italy\"}, {\"iso_3166_1\": \"GB\", \"name\": \"United Kingdom\"}, {\"iso_3166_1\": \"US\", \"name\": \"United States of America\"}]': [2635], '[{\"iso_3166_1\": \"AT\", \"name\": \"Austria\"}, {\"iso_3166_1\": \"FR\", \"name\": \"France\"}, {\"iso_3166_1\": \"DE\", \"name\": \"Germany\"}, {\"iso_3166_1\": \"IT\", \"name\": \"Italy\"}]': [2378], '[{\"iso_3166_1\": \"AT\", \"name\": \"Austria\"}, {\"iso_3166_1\": \"HU\", \"name\": \"Hungary\"}]': [2650], '[{\"iso_3166_1\": \"AU\", \"name\": \"Australia\"}, {\"iso_3166_1\": \"BE\", \"name\": \"Belgium\"}, {\"iso_3166_1\": \"IN\", \"name\": \"India\"}]': [83], '[{\"iso_3166_1\": \"AU\", \"name\": \"Australia\"}, {\"iso_3166_1\": \"CA\", \"name\": \"Canada\"}, {\"iso_3166_1\": \"GB\", \"name\": \"United Kingdom\"}, {\"iso_3166_1\": \"US\", \"name\": \"United States of America\"}]': [2928], '[{\"iso_3166_1\": \"AU\", \"name\": \"Australia\"}, {\"iso_3166_1\": \"CA\", \"name\": \"Canada\"}, {\"iso_3166_1\": \"GB\", \"name\": \"United Kingdom\"}]': [2584], '[{\"iso_3166_1\": \"AU\", \"name\": \"Australia\"}, {\"iso_3166_1\": \"CA\", \"name\": \"Canada\"}, {\"iso_3166_1\": \"US\", \"name\": \"United States of America\"}]': [560, 2114], '[{\"iso_3166_1\": \"AU\", \"name\": \"Australia\"}, {\"iso_3166_1\": \"CA\", \"name\": \"Canada\"}]': [2921], '[{\"iso_3166_1\": \"AU\", \"name\": \"Australia\"}, {\"iso_3166_1\": \"CN\", \"name\": \"China\"}, {\"iso_3166_1\": \"DE\", \"name\": \"Germany\"}]': [2254], '[{\"iso_3166_1\": \"AU\", \"name\": \"Australia\"}, {\"iso_3166_1\": \"DE\", \"name\": \"Germany\"}, {\"iso_3166_1\": \"US\", \"name\": \"United States of America\"}]': [225], '[{\"iso_3166_1\": \"AU\", \"name\": \"Australia\"}, {\"iso_3166_1\": \"FR\", \"name\": \"France\"}, {\"iso_3166_1\": \"DE\", \"name\": \"Germany\"}, {\"iso_3166_1\": \"GB\", \"name\": \"United Kingdom\"}, {\"iso_3166_1\": \"US\", \"name\": \"United States of America\"}]': [1070], '[{\"iso_3166_1\": \"AU\", \"name\": \"Australia\"}, {\"iso_3166_1\": \"GB\", \"name\": \"United Kingdom\"}, {\"iso_3166_1\": \"US\", \"name\": \"United States of America\"}]': [117, 1386, 2151, 2800], '[{\"iso_3166_1\": \"AU\", \"name\": \"Australia\"}, {\"iso_3166_1\": \"GB\", \"name\": \"United Kingdom\"}]': [2250, 2377, 2902], '[{\"iso_3166_1\": \"AU\", \"name\": \"Australia\"}, {\"iso_3166_1\": \"HK\", \"name\": \"Hong Kong\"}]': [3463], '[{\"iso_3166_1\": \"AU\", \"name\": \"Australia\"}, {\"iso_3166_1\": \"IN\", \"name\": \"India\"}, {\"iso_3166_1\": \"GB\", \"name\": \"United Kingdom\"}, {\"iso_3166_1\": \"US\", \"name\": \"United States of America\"}]': [479], '[{\"iso_3166_1\": \"AU\", \"name\": \"Australia\"}, {\"iso_3166_1\": \"US\", \"name\": \"United States of America\"}, {\"iso_3166_1\": \"GB\", \"name\": \"United Kingdom\"}]': [192, 1424], '[{\"iso_3166_1\": \"AU\", \"name\": \"Australia\"}, {\"iso_3166_1\": \"US\", \"name\": \"United States of America\"}]': [74, 125, 127, 133, 161, 302, 311, 468, 487, 600, 634, 703, 718, 721, 760, 791, 875, 936, 1052, 1089, 1249, 1391, 1411, 1533, 1558, 1570, 1637, 1719, 1762, 1882, 1924, 2016, 2116, 2143, 2161, 2214, 2466, 2581, 2669, 2703, 2785, 2846, 2868, 2874, 3342, 3786], '[{\"iso_3166_1\": \"AU\", \"name\": \"Australia\"}]': [173, 385, 485, 2374, 2961, 2995, 3120, 3124, 3156, 3196, 3202, 3205, 3370, 3529, 3579, 3807, 3981, 4077, 4330, 4640, 4670], '[{\"iso_3166_1\": \"AW\", \"name\": \"Aruba\"}, {\"iso_3166_1\": \"HK\", \"name\": \"Hong Kong\"}, {\"iso_3166_1\": \"US\", \"name\": \"United States of America\"}]': [1447], '[{\"iso_3166_1\": \"BA\", \"name\": \"Bosnia and Herzegovina\"}, {\"iso_3166_1\": \"US\", \"name\": \"United States of America\"}]': [1282], '[{\"iso_3166_1\": \"BE\", \"name\": \"Belgium\"}, {\"iso_3166_1\": \"CN\", \"name\": \"China\"}, {\"iso_3166_1\": \"FR\", \"name\": \"France\"}]': [2050], '[{\"iso_3166_1\": \"BE\", \"name\": \"Belgium\"}, {\"iso_3166_1\": \"DE\", \"name\": \"Germany\"}, {\"iso_3166_1\": \"US\", \"name\": \"United States of America\"}]': [3105], '[{\"iso_3166_1\": \"BE\", \"name\": \"Belgium\"}, {\"iso_3166_1\": \"FR\", \"name\": \"France\"}, {\"iso_3166_1\": \"DE\", \"name\": \"Germany\"}, {\"iso_3166_1\": \"IT\", \"name\": \"Italy\"}, {\"iso_3166_1\": \"ES\", \"name\": \"Spain\"}]': [235], '[{\"iso_3166_1\": \"BE\", \"name\": \"Belgium\"}, {\"iso_3166_1\": \"FR\", \"name\": \"France\"}, {\"iso_3166_1\": \"DE\", \"name\": \"Germany\"}, {\"iso_3166_1\": \"JP\", \"name\": \"Japan\"}, {\"iso_3166_1\": \"NO\", \"name\": \"Norway\"}, {\"iso_3166_1\": \"RO\", \"name\": \"Romania\"}, {\"iso_3166_1\": \"GB\", \"name\": \"United Kingdom\"}, {\"iso_3166_1\": \"US\", \"name\": \"United States of America\"}]': [2053], '[{\"iso_3166_1\": \"BE\", \"name\": \"Belgium\"}, {\"iso_3166_1\": \"FR\", \"name\": \"France\"}, {\"iso_3166_1\": \"ES\", \"name\": \"Spain\"}]': [474, 2441], '[{\"iso_3166_1\": \"BE\", \"name\": \"Belgium\"}, {\"iso_3166_1\": \"FR\", \"name\": \"France\"}, {\"iso_3166_1\": \"IE\", \"name\": \"Ireland\"}]': [3281], '[{\"iso_3166_1\": \"BE\", \"name\": \"Belgium\"}, {\"iso_3166_1\": \"FR\", \"name\": \"France\"}, {\"iso_3166_1\": \"IT\", \"name\": \"Italy\"}, {\"iso_3166_1\": \"CH\", \"name\": \"Switzerland\"}, {\"iso_3166_1\": \"US\", \"name\": \"United States of America\"}]': [1679], '[{\"iso_3166_1\": \"BE\", \"name\": \"Belgium\"}, {\"iso_3166_1\": \"FR\", \"name\": \"France\"}, {\"iso_3166_1\": \"LU\", \"name\": \"Luxembourg\"}]': [2811], '[{\"iso_3166_1\": \"BE\", \"name\": \"Belgium\"}, {\"iso_3166_1\": \"FR\", \"name\": \"France\"}]': [1673, 2009, 2459], '[{\"iso_3166_1\": \"BE\", \"name\": \"Belgium\"}, {\"iso_3166_1\": \"GB\", \"name\": \"United Kingdom\"}, {\"iso_3166_1\": \"ES\", \"name\": \"Spain\"}]': [1999], '[{\"iso_3166_1\": \"BE\", \"name\": \"Belgium\"}, {\"iso_3166_1\": \"RO\", \"name\": \"Romania\"}]': [4434], '[{\"iso_3166_1\": \"BE\", \"name\": \"Belgium\"}, {\"iso_3166_1\": \"US\", \"name\": \"United States of America\"}]': [1481, 1820], '[{\"iso_3166_1\": \"BE\", \"name\": \"Belgium\"}, {\"iso_3166_1\": \"ZA\", \"name\": \"South Africa\"}]': [1677], '[{\"iso_3166_1\": \"BG\", \"name\": \"Bulgaria\"}, {\"iso_3166_1\": \"CA\", \"name\": \"Canada\"}]': [3856], '[{\"iso_3166_1\": \"BG\", \"name\": \"Bulgaria\"}, {\"iso_3166_1\": \"US\", \"name\": \"United States of America\"}, {\"iso_3166_1\": \"GB\", \"name\": \"United Kingdom\"}]': [739], '[{\"iso_3166_1\": \"BG\", \"name\": \"Bulgaria\"}, {\"iso_3166_1\": \"US\", \"name\": \"United States of America\"}]': [2360], '[{\"iso_3166_1\": \"BG\", \"name\": \"Bulgaria\"}]': [3098], '[{\"iso_3166_1\": \"BO\", \"name\": \"Bolivia\"}, {\"iso_3166_1\": \"FR\", \"name\": \"France\"}, {\"iso_3166_1\": \"ES\", \"name\": \"Spain\"}, {\"iso_3166_1\": \"GB\", \"name\": \"United Kingdom\"}]': [3715], '[{\"iso_3166_1\": \"BR\", \"name\": \"Brazil\"}, {\"iso_3166_1\": \"CA\", \"name\": \"Canada\"}, {\"iso_3166_1\": \"JP\", \"name\": \"Japan\"}]': [1938], '[{\"iso_3166_1\": \"BR\", \"name\": \"Brazil\"}, {\"iso_3166_1\": \"DE\", \"name\": \"Germany\"}]': [3797], '[{\"iso_3166_1\": \"BR\", \"name\": \"Brazil\"}, {\"iso_3166_1\": \"FR\", \"name\": \"France\"}, {\"iso_3166_1\": \"GB\", \"name\": \"United Kingdom\"}, {\"iso_3166_1\": \"US\", \"name\": \"United States of America\"}]': [1958], '[{\"iso_3166_1\": \"BR\", \"name\": \"Brazil\"}, {\"iso_3166_1\": \"FR\", \"name\": \"France\"}]': [3866], '[{\"iso_3166_1\": \"BR\", \"name\": \"Brazil\"}, {\"iso_3166_1\": \"GB\", \"name\": \"United Kingdom\"}]': [2915], '[{\"iso_3166_1\": \"BR\", \"name\": \"Brazil\"}, {\"iso_3166_1\": \"PE\", \"name\": \"Peru\"}, {\"iso_3166_1\": \"US\", \"name\": \"United States of America\"}]': [1059], '[{\"iso_3166_1\": \"BR\", \"name\": \"Brazil\"}, {\"iso_3166_1\": \"US\", \"name\": \"United States of America\"}]': [3935, 3962], '[{\"iso_3166_1\": \"BR\", \"name\": \"Brazil\"}]': [3417, 3818, 3974, 4303, 4751], '[{\"iso_3166_1\": \"BS\", \"name\": \"Bahamas\"}, {\"iso_3166_1\": \"FR\", \"name\": \"France\"}, {\"iso_3166_1\": \"GB\", \"name\": \"United Kingdom\"}, {\"iso_3166_1\": \"US\", \"name\": \"United States of America\"}]': [3162], '[{\"iso_3166_1\": \"BS\", \"name\": \"Bahamas\"}, {\"iso_3166_1\": \"GB\", \"name\": \"United Kingdom\"}]': [3471], '[{\"iso_3166_1\": \"BS\", \"name\": \"Bahamas\"}, {\"iso_3166_1\": \"US\", \"name\": \"United States of America\"}]': [3666], '[{\"iso_3166_1\": \"BT\", \"name\": \"Bhutan\"}, {\"iso_3166_1\": \"GB\", \"name\": \"United Kingdom\"}, {\"iso_3166_1\": \"AU\", \"name\": \"Australia\"}]': [4182], '[{\"iso_3166_1\": \"CA\", \"name\": \"Canada\"}, {\"iso_3166_1\": \"CL\", \"name\": \"Chile\"}, {\"iso_3166_1\": \"US\", \"name\": \"United States of America\"}]': [4353], '[{\"iso_3166_1\": \"CA\", \"name\": \"Canada\"}, {\"iso_3166_1\": \"CN\", \"name\": \"China\"}, {\"iso_3166_1\": \"GB\", \"name\": \"United Kingdom\"}, {\"iso_3166_1\": \"US\", \"name\": \"United States of America\"}]': [370], '[{\"iso_3166_1\": \"CA\", \"name\": \"Canada\"}, {\"iso_3166_1\": \"CN\", \"name\": \"China\"}, {\"iso_3166_1\": \"JP\", \"name\": \"Japan\"}, {\"iso_3166_1\": \"US\", \"name\": \"United States of America\"}]': [107], '[{\"iso_3166_1\": \"CA\", \"name\": \"Canada\"}, {\"iso_3166_1\": \"CN\", \"name\": \"China\"}, {\"iso_3166_1\": \"US\", \"name\": \"United States of America\"}]': [2276], '[{\"iso_3166_1\": \"CA\", \"name\": \"Canada\"}, {\"iso_3166_1\": \"CZ\", \"name\": \"Czech Republic\"}, {\"iso_3166_1\": \"DE\", \"name\": \"Germany\"}, {\"iso_3166_1\": \"GB\", \"name\": \"United Kingdom\"}, {\"iso_3166_1\": \"US\", \"name\": \"United States of America\"}]': [577], '[{\"iso_3166_1\": \"CA\", \"name\": \"Canada\"}, {\"iso_3166_1\": \"DE\", \"name\": \"Germany\"}, {\"iso_3166_1\": \"FR\", \"name\": \"France\"}, {\"iso_3166_1\": \"GB\", \"name\": \"United Kingdom\"}]': [2909], '[{\"iso_3166_1\": \"CA\", \"name\": \"Canada\"}, {\"iso_3166_1\": \"DE\", \"name\": \"Germany\"}, {\"iso_3166_1\": \"GB\", \"name\": \"United Kingdom\"}, {\"iso_3166_1\": \"US\", \"name\": \"United States of America\"}]': [378], '[{\"iso_3166_1\": \"CA\", \"name\": \"Canada\"}, {\"iso_3166_1\": \"DE\", \"name\": \"Germany\"}, {\"iso_3166_1\": \"US\", \"name\": \"United States of America\"}]': [491, 784, 1450, 1699, 1839, 2237, 2597, 3956], '[{\"iso_3166_1\": \"CA\", \"name\": \"Canada\"}, {\"iso_3166_1\": \"DE\", \"name\": \"Germany\"}, {\"iso_3166_1\": \"ZA\", \"name\": \"South Africa\"}]': [3803], '[{\"iso_3166_1\": \"CA\", \"name\": \"Canada\"}, {\"iso_3166_1\": \"DE\", \"name\": \"Germany\"}]': [3584, 4778], '[{\"iso_3166_1\": \"CA\", \"name\": \"Canada\"}, {\"iso_3166_1\": \"DK\", \"name\": \"Denmark\"}]': [4274], '[{\"iso_3166_1\": \"CA\", \"name\": \"Canada\"}, {\"iso_3166_1\": \"ES\", \"name\": \"Spain\"}]': [2267, 4023], '[{\"iso_3166_1\": \"CA\", \"name\": \"Canada\"}, {\"iso_3166_1\": \"FR\", \"name\": \"France\"}, {\"iso_3166_1\": \"DE\", \"name\": \"Germany\"}, {\"iso_3166_1\": \"IT\", \"name\": \"Italy\"}]': [2499], '[{\"iso_3166_1\": \"CA\", \"name\": \"Canada\"}, {\"iso_3166_1\": \"FR\", \"name\": \"France\"}, {\"iso_3166_1\": \"DE\", \"name\": \"Germany\"}, {\"iso_3166_1\": \"US\", \"name\": \"United States of America\"}]': [657, 2120], '[{\"iso_3166_1\": \"CA\", \"name\": \"Canada\"}, {\"iso_3166_1\": \"FR\", \"name\": \"France\"}, {\"iso_3166_1\": \"GB\", \"name\": \"United Kingdom\"}]': [1658, 1802, 2084], '[{\"iso_3166_1\": \"CA\", \"name\": \"Canada\"}, {\"iso_3166_1\": \"FR\", \"name\": \"France\"}, {\"iso_3166_1\": \"IE\", \"name\": \"Ireland\"}, {\"iso_3166_1\": \"GB\", \"name\": \"United Kingdom\"}]': [1666], '[{\"iso_3166_1\": \"CA\", \"name\": \"Canada\"}, {\"iso_3166_1\": \"FR\", \"name\": \"France\"}, {\"iso_3166_1\": \"JP\", \"name\": \"Japan\"}, {\"iso_3166_1\": \"US\", \"name\": \"United States of America\"}]': [947], '[{\"iso_3166_1\": \"CA\", \"name\": \"Canada\"}, {\"iso_3166_1\": \"FR\", \"name\": \"France\"}, {\"iso_3166_1\": \"US\", \"name\": \"United States of America\"}]': [433, 1445, 1642, 2308, 2434, 2676, 2763, 2787], '[{\"iso_3166_1\": \"CA\", \"name\": \"Canada\"}, {\"iso_3166_1\": \"FR\", \"name\": \"France\"}]': [1509, 1742, 2394, 2505, 3414, 3615], '[{\"iso_3166_1\": \"CA\", \"name\": \"Canada\"}, {\"iso_3166_1\": \"GB\", \"name\": \"United Kingdom\"}, {\"iso_3166_1\": \"US\", \"name\": \"United States of America\"}, {\"iso_3166_1\": \"IT\", \"name\": \"Italy\"}, {\"iso_3166_1\": \"ZA\", \"name\": \"South Africa\"}]': [2397], '[{\"iso_3166_1\": \"CA\", \"name\": \"Canada\"}, {\"iso_3166_1\": \"GB\", \"name\": \"United Kingdom\"}, {\"iso_3166_1\": \"US\", \"name\": \"United States of America\"}]': [33, 62, 1671, 2269, 2345, 2983, 3315, 3689, 3819], '[{\"iso_3166_1\": \"CA\", \"name\": \"Canada\"}, {\"iso_3166_1\": \"GB\", \"name\": \"United Kingdom\"}]': [1771, 2637, 2646, 2707, 2947, 3085, 3093, 3128, 3533, 3547, 3732, 4119, 4171], '[{\"iso_3166_1\": \"CA\", \"name\": \"Canada\"}, {\"iso_3166_1\": \"HK\", \"name\": \"Hong Kong\"}, {\"iso_3166_1\": \"TW\", \"name\": \"Taiwan\"}, {\"iso_3166_1\": \"US\", \"name\": \"United States of America\"}]': [176], '[{\"iso_3166_1\": \"CA\", \"name\": \"Canada\"}, {\"iso_3166_1\": \"IE\", \"name\": \"Ireland\"}]': [2760, 2935, 3508], '[{\"iso_3166_1\": \"CA\", \"name\": \"Canada\"}, {\"iso_3166_1\": \"IN\", \"name\": \"India\"}, {\"iso_3166_1\": \"JP\", \"name\": \"Japan\"}, {\"iso_3166_1\": \"US\", \"name\": \"United States of America\"}]': [1001], '[{\"iso_3166_1\": \"CA\", \"name\": \"Canada\"}, {\"iso_3166_1\": \"IN\", \"name\": \"India\"}]': [1023], '[{\"iso_3166_1\": \"CA\", \"name\": \"Canada\"}, {\"iso_3166_1\": \"IT\", \"name\": \"Italy\"}, {\"iso_3166_1\": \"GB\", \"name\": \"United Kingdom\"}]': [3060], '[{\"iso_3166_1\": \"CA\", \"name\": \"Canada\"}, {\"iso_3166_1\": \"IT\", \"name\": \"Italy\"}, {\"iso_3166_1\": \"US\", \"name\": \"United States of America\"}]': [1823], '[{\"iso_3166_1\": \"CA\", \"name\": \"Canada\"}, {\"iso_3166_1\": \"IT\", \"name\": \"Italy\"}]': [1659], '[{\"iso_3166_1\": \"CA\", \"name\": \"Canada\"}, {\"iso_3166_1\": \"KR\", \"name\": \"South Korea\"}]': [1580], '[{\"iso_3166_1\": \"CA\", \"name\": \"Canada\"}, {\"iso_3166_1\": \"LU\", \"name\": \"Luxembourg\"}]': [3142], '[{\"iso_3166_1\": \"CA\", \"name\": \"Canada\"}, {\"iso_3166_1\": \"MX\", \"name\": \"Mexico\"}]': [3691], '[{\"iso_3166_1\": \"CA\", \"name\": \"Canada\"}, {\"iso_3166_1\": \"RU\", \"name\": \"Russia\"}, {\"iso_3166_1\": \"US\", \"name\": \"United States of America\"}]': [437], '[{\"iso_3166_1\": \"CA\", \"name\": \"Canada\"}, {\"iso_3166_1\": \"SE\", \"name\": \"Sweden\"}, {\"iso_3166_1\": \"GB\", \"name\": \"United Kingdom\"}]': [2533], '[{\"iso_3166_1\": \"CA\", \"name\": \"Canada\"}, {\"iso_3166_1\": \"TH\", \"name\": \"Thailand\"}, {\"iso_3166_1\": \"US\", \"name\": \"United States of America\"}]': [3209], '[{\"iso_3166_1\": \"CA\", \"name\": \"Canada\"}, {\"iso_3166_1\": \"US\", \"name\": \"United States of America\"}, {\"iso_3166_1\": \"AU\", \"name\": \"Australia\"}]': [244], '[{\"iso_3166_1\": \"CA\", \"name\": \"Canada\"}, {\"iso_3166_1\": \"US\", \"name\": \"United States of America\"}, {\"iso_3166_1\": \"FR\", \"name\": \"France\"}]': [528], '[{\"iso_3166_1\": \"CA\", \"name\": \"Canada\"}, {\"iso_3166_1\": \"US\", \"name\": \"United States of America\"}, {\"iso_3166_1\": \"GB\", \"name\": \"United Kingdom\"}]': [95, 4248], '[{\"iso_3166_1\": \"CA\", \"name\": \"Canada\"}, {\"iso_3166_1\": \"US\", \"name\": \"United States of America\"}]': [59, 224, 286, 341, 419, 454, 548, 626, 668, 732, 807, 889, 987, 1014, 1054, 1086, 1093, 1132, 1151, 1160, 1198, 1234, 1244, 1258, 1422, 1479, 1496, 1506, 1517, 1654, 1661, 1682, 1732, 1766, 1844, 1848, 1867, 1876, 1937, 1964, 2042, 2123, 2281, 2283, 2325, 2355, 2413, 2509, 2546, 2576, 2715, 2717, 2743, 2761, 2885, 2945, 2975, 3000, 3047, 3126, 3153, 3175, 3256, 3257, 3316, 3348, 3383, 3399, 3405, 3486, 3487, 3504, 3537, 3593, 3601, 3604, 3648, 3736, 3769, 3835, 3900, 4019, 4048, 4086, 4137, 4433, 4590, 4776], '[{\"iso_3166_1\": \"CA\", \"name\": \"Canada\"}, {\"iso_3166_1\": \"ZA\", \"name\": \"South Africa\"}, {\"iso_3166_1\": \"GB\", \"name\": \"United Kingdom\"}]': [3134], ...}"
      ]
     },
     "execution_count": 59,
     "metadata": {},
     "output_type": "execute_result"
    }
   ],
   "source": [
    "df_movies.groupby('production_countries').groups['']"
   ]
  },
  {
   "cell_type": "code",
   "execution_count": 46,
   "id": "37f3b727",
   "metadata": {},
   "outputs": [
    {
     "data": {
      "text/plain": [
       "0       [{\"iso_3166_1\": \"US\", \"name\": \"United States of America\"}, {\"iso_3166_1\": \"GB\", \"name\": \"United ...\n",
       "1                                                [{\"iso_3166_1\": \"US\", \"name\": \"United States of America\"}]\n",
       "2       [{\"iso_3166_1\": \"GB\", \"name\": \"United Kingdom\"}, {\"iso_3166_1\": \"US\", \"name\": \"United States of ...\n",
       "3                                                [{\"iso_3166_1\": \"US\", \"name\": \"United States of America\"}]\n",
       "4                                                [{\"iso_3166_1\": \"US\", \"name\": \"United States of America\"}]\n",
       "                                                       ...                                                 \n",
       "4798     [{\"iso_3166_1\": \"MX\", \"name\": \"Mexico\"}, {\"iso_3166_1\": \"US\", \"name\": \"United States of America\"}]\n",
       "4799                                                                                                     []\n",
       "4800                                             [{\"iso_3166_1\": \"US\", \"name\": \"United States of America\"}]\n",
       "4801      [{\"iso_3166_1\": \"US\", \"name\": \"United States of America\"}, {\"iso_3166_1\": \"CN\", \"name\": \"China\"}]\n",
       "4802                                             [{\"iso_3166_1\": \"US\", \"name\": \"United States of America\"}]\n",
       "Name: production_countries, Length: 4803, dtype: object"
      ]
     },
     "execution_count": 46,
     "metadata": {},
     "output_type": "execute_result"
    }
   ],
   "source": [
    "df_movies.production_countries"
   ]
  },
  {
   "cell_type": "code",
   "execution_count": 45,
   "id": "578ebb43",
   "metadata": {},
   "outputs": [],
   "source": [
    "pd.set_option('display.max_colwidth',100)"
   ]
  },
  {
   "cell_type": "code",
   "execution_count": 64,
   "id": "f1456e00",
   "metadata": {},
   "outputs": [
    {
     "data": {
      "text/plain": [
       "0       2009\n",
       "1       2007\n",
       "2       2015\n",
       "3       2012\n",
       "4       2012\n",
       "        ... \n",
       "4798    1992\n",
       "4799    2011\n",
       "4800    2013\n",
       "4801    2012\n",
       "4802    2005\n",
       "Name: release_date, Length: 4803, dtype: object"
      ]
     },
     "execution_count": 64,
     "metadata": {},
     "output_type": "execute_result"
    }
   ],
   "source": [
    "df_movies.release_date"
   ]
  },
  {
   "cell_type": "code",
   "execution_count": 70,
   "id": "c08c5213",
   "metadata": {
    "scrolled": true
   },
   "outputs": [
    {
     "data": {
      "text/plain": [
       "<AxesSubplot:xlabel='release_date'>"
      ]
     },
     "execution_count": 70,
     "metadata": {},
     "output_type": "execute_result"
    },
    {
     "data": {
      "image/png": "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\n",
      "text/plain": [
       "<Figure size 432x288 with 1 Axes>"
      ]
     },
     "metadata": {
      "needs_background": "light"
     },
     "output_type": "display_data"
    }
   ],
   "source": [
    "df_movies.groupby('release_date')['popularity'].mean().plot()"
   ]
  },
  {
   "cell_type": "code",
   "execution_count": null,
   "id": "2ac2b53d",
   "metadata": {},
   "outputs": [],
   "source": []
  }
 ],
 "metadata": {
  "kernelspec": {
   "display_name": "Python 3 (ipykernel)",
   "language": "python",
   "name": "python3"
  },
  "language_info": {
   "codemirror_mode": {
    "name": "ipython",
    "version": 3
   },
   "file_extension": ".py",
   "mimetype": "text/x-python",
   "name": "python",
   "nbconvert_exporter": "python",
   "pygments_lexer": "ipython3",
   "version": "3.9.6"
  }
 },
 "nbformat": 4,
 "nbformat_minor": 5
}
